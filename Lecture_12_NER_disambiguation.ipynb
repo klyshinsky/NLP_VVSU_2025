{
 "cells": [
  {
   "cell_type": "markdown",
   "id": "a9d9c410",
   "metadata": {},
   "source": [
    "# Снятие омонимии, классика"
   ]
  },
  {
   "cell_type": "code",
   "execution_count": 9,
   "id": "8479d7be-5a44-4974-b597-e9265478342a",
   "metadata": {},
   "outputs": [
    {
     "name": "stdout",
     "output_type": "stream",
     "text": [
      "Defaulting to user installation because normal site-packages is not writeable\n",
      "Requirement already satisfied: russian-tagsets in /home/edward/.local/lib/python3.10/site-packages (0.6)\n",
      "^C\n",
      "\u001b[31mERROR: Operation cancelled by user\u001b[0m\u001b[31m\n",
      "\u001b[0mDefaulting to user installation because normal site-packages is not writeable\n",
      "Requirement already satisfied: sklearn-crfsuite in /home/edward/.local/lib/python3.10/site-packages (0.3.6)\n",
      "Requirement already satisfied: python-crfsuite>=0.8.3 in /home/edward/.local/lib/python3.10/site-packages (from sklearn-crfsuite) (0.9.9)\n",
      "Requirement already satisfied: six in /usr/lib/python3/dist-packages (from sklearn-crfsuite) (1.16.0)\n",
      "Requirement already satisfied: tabulate in /home/edward/.local/lib/python3.10/site-packages (from sklearn-crfsuite) (0.9.0)\n",
      "Requirement already satisfied: tqdm>=2.0 in /home/edward/.local/lib/python3.10/site-packages (from sklearn-crfsuite) (4.66.1)\n"
     ]
    }
   ],
   "source": [
    "!pip install russian-tagsets\n",
    "!pip install sklearn-crfsuite"
   ]
  },
  {
   "cell_type": "code",
   "execution_count": null,
   "id": "4a3f0f55-2488-4f37-b625-c13a86b1a2e7",
   "metadata": {},
   "outputs": [],
   "source": [
    "import re\n",
    "from copy import deepcopy\n",
    "import os\n",
    "\n",
    "import pandas as pd\n",
    "import numpy as np\n",
    "\n",
    "import sklearn_crfsuite\n",
    "\n",
    "from sklearn.metrics import confusion_matrix\n",
    "from sklearn.metrics import precision_recall_fscore_support\n",
    "from sklearn.metrics import accuracy_score\n",
    "\n",
    "from russian_tagsets import converters\n",
    "from pymorphy2 import MorphAnalyzer\n",
    "import conllu\n",
    "\n",
    "from tqdm import tqdm"
   ]
  },
  {
   "cell_type": "code",
   "execution_count": null,
   "id": "b993b155-ea15-46b8-abf0-bfb843d5c4ed",
   "metadata": {},
   "outputs": [],
   "source": [
    "p_analyser = MorphAnalyzer()"
   ]
  },
  {
   "cell_type": "code",
   "execution_count": null,
   "id": "15bfcdaf-9ad2-4208-a75d-54102da0c24e",
   "metadata": {},
   "outputs": [
    {
     "data": {
      "text/plain": [
       "OpencorporaTag('NOUN,inan,neut sing,nomn')"
      ]
     },
     "execution_count": 4,
     "metadata": {},
     "output_type": "execute_result"
    }
   ],
   "source": [
    "t = p_analyser.parse(\"стекло\")[0].tag\n",
    "t"
   ]
  },
  {
   "cell_type": "code",
   "execution_count": null,
   "id": "334314e7-df7c-45e4-991a-6532b337e71b",
   "metadata": {},
   "outputs": [
    {
     "data": {
      "text/plain": [
       "'NOUN Animacy=Inan|Case=Nom|Gender=Neut|Number=Sing'"
      ]
     },
     "execution_count": 5,
     "metadata": {},
     "output_type": "execute_result"
    }
   ],
   "source": [
    "to_ud = converters.converter('opencorpora-int', 'ud20')\n",
    "to_ud(str(t))"
   ]
  },
  {
   "cell_type": "code",
   "execution_count": null,
   "id": "1873b59a-4e95-416a-a6f2-ba414ff54605",
   "metadata": {},
   "outputs": [],
   "source": [
    "def __conllu_word_to_dict(tokens, pos) -> dict:\n",
    "    res = {}\n",
    "    for i in range(pos-2, pos+3):\n",
    "        for feat in ['lemma', 'upos', 'feats']:\n",
    "            if i >= 0 and i < len(tokens):\n",
    "                res[feat+str(i-pos)] = tokens[i][feat]\n",
    "            else:\n",
    "                res[feat+str(i-pos)] = 'none'\n",
    "    return res\n",
    "\n",
    "\n",
    "def conllu_word_to_dict(tokens, pos) -> dict:\n",
    "    res = {}\n",
    "    out_pos = tokens[pos]['upos']\n",
    "    for i in range(pos-2, pos+3):\n",
    "        if i >= 0 and i < len(tokens):\n",
    "            m_res = p_analyser.parse(tokens[i]['form'])\n",
    "            m_pos = 0\n",
    "            while m_pos < len(m_res) and m_pos < 3:\n",
    "                res['lemma'+str(i-pos)+str(m_pos)] = m_res[m_pos].normal_form\n",
    "                feats = to_ud(str(m_res[m_pos].tag))\n",
    "                upos, feats = feats.split(' ')\n",
    "                res['upos'+str(i-pos)+str(m_pos)] = upos\n",
    "                res['feats'+str(i-pos)+str(m_pos)] = feats\n",
    "                m_pos += 1\n",
    "                \n",
    "            while m_pos < 3:\n",
    "                res['lemma'+str(i-pos)+str(m_pos)] = 'none'\n",
    "                res['upos'+str(i-pos)+str(m_pos)] = 'none'\n",
    "                res['feats'+str(i-pos)+str(m_pos)] = 'none'\n",
    "                m_pos += 1\n",
    "        else:\n",
    "            for m_pos in range(3):\n",
    "                res['lemma'+str(i-pos)+str(m_pos)] = 'none'\n",
    "                res['upos'+str(i-pos)+str(m_pos)] = 'none'\n",
    "                res['feats'+str(i-pos)+str(m_pos)] = 'none'\n",
    "        \n",
    "    return res, out_pos"
   ]
  },
  {
   "cell_type": "code",
   "execution_count": null,
   "id": "44fe2ed6-f926-4bbf-9b19-a56131b50cbc",
   "metadata": {},
   "outputs": [],
   "source": [
    "ud_path = \"/home/edward/projects/Alien_bases/Universal Dependencies/ud-treebanks-v2.8/UD_Russian-SynTagRus/\"\n",
    "in_file = open(ud_path+'ru_syntagrus-ud-train.conllu', 'rt')\n",
    "train_connlu_iter = conllu.parse_incr(in_file)"
   ]
  },
  {
   "cell_type": "code",
   "execution_count": null,
   "id": "894723de-3bcf-4158-8d5c-36d19e4e2707",
   "metadata": {},
   "outputs": [
    {
     "name": "stdout",
     "output_type": "stream",
     "text": [
      "Анкета TokenList<Анкета, ., metadata={sent_id: \"2003Anketa.xml_1\", text: \"Анкета.\"}> 0\n",
      "Начальник TokenList<Начальник, областного, управления, связи, Семен, Еремеевич, был, человек, простой, ,, приходил, на, работу, всегда, вовремя, ,, здоровался, с, секретаршей, за, руку, и, иногда, даже, писал, в, стенгазету, заметки, под, псевдонимом, \", Муха, \", ., metadata={sent_id: \"2003Anketa.xml_2\", text: \"Начальник областного управления связи Семен Еремеевич был человек простой, приходил на работу всегда вовремя, здоровался с секретаршей за руку и иногда даже писал в стенгазету заметки под псевдонимом \"Муха\".\"}> 1\n",
      "В TokenList<В, приемной, его, с, утра, ожидали, посетители, ,, -, кое-кто, с, важными, делами, ,, а, кое-кто, и, с, такими, ,, которые, легко, можно, было, решить, в, нижестоящих, инстанциях, ,, не, затрудняя, Семена, Еремеевича, ., metadata={sent_id: \"2003Anketa.xml_3\", text: \"В приемной его с утра ожидали посетители, - кое-кто с важными делами, а кое-кто и с такими, которые легко можно было решить в нижестоящих инстанциях, не затрудняя Семена Еремеевича.\"}> 2\n",
      "Однако TokenList<Однако, стиль, работы, Семена, Еремеевича, заключался, в, том, ,, чтобы, принимать, всех, желающих, и, лично, вникать, в, дело, ., metadata={sent_id: \"2003Anketa.xml_4\", text: \"Однако стиль работы Семена Еремеевича заключался в том, чтобы принимать всех желающих и лично вникать в дело.\"}> 3\n",
      "Приемная TokenList<Приемная, была, обставлена, просто, ,, но, по-деловому, ., metadata={sent_id: \"2003Anketa.xml_5\", text: \"Приемная была обставлена просто, но по-деловому.\"}> 4\n",
      "У TokenList<У, двери, стоял, стол, секретарши, ,, на, столе, -, пишущая, машинка, с, широкой, кареткой, ., metadata={sent_id: \"2003Anketa.xml_6\", text: \"У двери стоял стол секретарши, на столе - пишущая машинка с широкой кареткой.\"}> 5\n"
     ]
    }
   ],
   "source": [
    "i = 0\n",
    "for sent in train_connlu_iter:\n",
    "    print(sent[0], sent, i)\n",
    "    i += 1\n",
    "    if i > 5:\n",
    "        break"
   ]
  },
  {
   "cell_type": "code",
   "execution_count": null,
   "id": "4b9472df-65ec-4292-8915-efbd86121b39",
   "metadata": {},
   "outputs": [
    {
     "name": "stderr",
     "output_type": "stream",
     "text": [
      "48808it [10:00, 81.29it/s] \n"
     ]
    }
   ],
   "source": [
    "res_sents = []\n",
    "res_poses = []\n",
    "\n",
    "for sent in tqdm(train_connlu_iter):\n",
    "    tagged_sent = []\n",
    "    sent_poses = []\n",
    "    for i in range(len(sent)):\n",
    "        tags, pos = conllu_word_to_dict(sent, i)\n",
    "        tagged_sent.append(tags)\n",
    "        sent_poses.append(pos)\n",
    "    res_sents.append(tagged_sent)\n",
    "    res_poses.append(sent_poses)"
   ]
  },
  {
   "cell_type": "code",
   "execution_count": null,
   "id": "972df1a6-cd26-4e5e-8444-e693035d0908",
   "metadata": {},
   "outputs": [
    {
     "data": {
      "text/plain": [
       "{'lemma-20': 'пол',\n",
       " 'upos-20': 'PROPN',\n",
       " 'feats-20': 'Animacy=Anim|Case=Nom|Gender=Masc|Number=Sing',\n",
       " 'lemma-21': 'пол',\n",
       " 'upos-21': 'NOUN',\n",
       " 'feats-21': 'Animacy=Inan|Case=Nom|Gender=Masc|Number=Sing',\n",
       " 'lemma-22': 'пол',\n",
       " 'upos-22': 'NOUN',\n",
       " 'feats-22': 'Animacy=Inan|Case=Acc|Gender=Masc|Number=Sing',\n",
       " 'lemma-10': 'путь',\n",
       " 'upos-10': 'NOUN',\n",
       " 'feats-10': 'Animacy=Inan|Case=Loc|Gender=Masc|Number=Sing',\n",
       " 'lemma-11': 'путь',\n",
       " 'upos-11': 'NOUN',\n",
       " 'feats-11': 'Animacy=Inan|Case=Dat|Gender=Masc|Number=Sing',\n",
       " 'lemma-12': 'путь',\n",
       " 'upos-12': 'NOUN',\n",
       " 'feats-12': 'Animacy=Inan|Case=Gen|Gender=Masc|Number=Sing',\n",
       " 'lemma00': '…',\n",
       " 'upos00': 'PUNCT',\n",
       " 'feats00': '_',\n",
       " 'lemma01': 'none',\n",
       " 'upos01': 'none',\n",
       " 'feats01': 'none',\n",
       " 'lemma02': 'none',\n",
       " 'upos02': 'none',\n",
       " 'feats02': 'none',\n",
       " 'lemma10': 'none',\n",
       " 'upos10': 'none',\n",
       " 'feats10': 'none',\n",
       " 'lemma11': 'none',\n",
       " 'upos11': 'none',\n",
       " 'feats11': 'none',\n",
       " 'lemma12': 'none',\n",
       " 'upos12': 'none',\n",
       " 'feats12': 'none',\n",
       " 'lemma20': 'none',\n",
       " 'upos20': 'none',\n",
       " 'feats20': 'none',\n",
       " 'lemma21': 'none',\n",
       " 'upos21': 'none',\n",
       " 'feats21': 'none',\n",
       " 'lemma22': 'none',\n",
       " 'upos22': 'none',\n",
       " 'feats22': 'none'}"
      ]
     },
     "execution_count": 16,
     "metadata": {},
     "output_type": "execute_result"
    }
   ],
   "source": [
    "tags"
   ]
  },
  {
   "cell_type": "code",
   "execution_count": null,
   "id": "5acb7811-368c-488e-9a5e-dcf5df3045ca",
   "metadata": {
    "collapsed": true,
    "jupyter": {
     "outputs_hidden": true
    },
    "tags": []
   },
   "outputs": [
    {
     "data": {
      "text/plain": [
       "[({'lemma-20': 'none',\n",
       "   'upos-20': 'none',\n",
       "   'feats-20': 'none',\n",
       "   'lemma-21': 'none',\n",
       "   'upos-21': 'none',\n",
       "   'feats-21': 'none',\n",
       "   'lemma-22': 'none',\n",
       "   'upos-22': 'none',\n",
       "   'feats-22': 'none',\n",
       "   'lemma-10': 'none',\n",
       "   'upos-10': 'none',\n",
       "   'feats-10': 'none',\n",
       "   'lemma-11': 'none',\n",
       "   'upos-11': 'none',\n",
       "   'feats-11': 'none',\n",
       "   'lemma-12': 'none',\n",
       "   'upos-12': 'none',\n",
       "   'feats-12': 'none',\n",
       "   'lemma00': '-',\n",
       "   'upos00': 'PUNCT',\n",
       "   'feats00': '_',\n",
       "   'lemma01': 'none',\n",
       "   'upos01': 'none',\n",
       "   'feats01': 'none',\n",
       "   'lemma02': 'none',\n",
       "   'upos02': 'none',\n",
       "   'feats02': 'none',\n",
       "   'lemma10': 'да',\n",
       "   'upos10': 'PART',\n",
       "   'feats10': '_',\n",
       "   'lemma11': 'да',\n",
       "   'upos11': 'CCONJ',\n",
       "   'feats11': '_',\n",
       "   'lemma12': 'да',\n",
       "   'upos12': 'INTJ',\n",
       "   'feats12': '_',\n",
       "   'lemma20': ',',\n",
       "   'upos20': 'PUNCT',\n",
       "   'feats20': '_',\n",
       "   'lemma21': 'none',\n",
       "   'upos21': 'none',\n",
       "   'feats21': 'none',\n",
       "   'lemma22': 'none',\n",
       "   'upos22': 'none',\n",
       "   'feats22': 'none'},\n",
       "  'PUNCT'),\n",
       " ({'lemma-20': 'none',\n",
       "   'upos-20': 'none',\n",
       "   'feats-20': 'none',\n",
       "   'lemma-21': 'none',\n",
       "   'upos-21': 'none',\n",
       "   'feats-21': 'none',\n",
       "   'lemma-22': 'none',\n",
       "   'upos-22': 'none',\n",
       "   'feats-22': 'none',\n",
       "   'lemma-10': '-',\n",
       "   'upos-10': 'PUNCT',\n",
       "   'feats-10': '_',\n",
       "   'lemma-11': 'none',\n",
       "   'upos-11': 'none',\n",
       "   'feats-11': 'none',\n",
       "   'lemma-12': 'none',\n",
       "   'upos-12': 'none',\n",
       "   'feats-12': 'none',\n",
       "   'lemma00': 'да',\n",
       "   'upos00': 'PART',\n",
       "   'feats00': '_',\n",
       "   'lemma01': 'да',\n",
       "   'upos01': 'CCONJ',\n",
       "   'feats01': '_',\n",
       "   'lemma02': 'да',\n",
       "   'upos02': 'INTJ',\n",
       "   'feats02': '_',\n",
       "   'lemma10': ',',\n",
       "   'upos10': 'PUNCT',\n",
       "   'feats10': '_',\n",
       "   'lemma11': 'none',\n",
       "   'upos11': 'none',\n",
       "   'feats11': 'none',\n",
       "   'lemma12': 'none',\n",
       "   'upos12': 'none',\n",
       "   'feats12': 'none',\n",
       "   'lemma20': '-',\n",
       "   'upos20': 'PUNCT',\n",
       "   'feats20': '_',\n",
       "   'lemma21': 'none',\n",
       "   'upos21': 'none',\n",
       "   'feats21': 'none',\n",
       "   'lemma22': 'none',\n",
       "   'upos22': 'none',\n",
       "   'feats22': 'none'},\n",
       "  'PART'),\n",
       " ({'lemma-20': '-',\n",
       "   'upos-20': 'PUNCT',\n",
       "   'feats-20': '_',\n",
       "   'lemma-21': 'none',\n",
       "   'upos-21': 'none',\n",
       "   'feats-21': 'none',\n",
       "   'lemma-22': 'none',\n",
       "   'upos-22': 'none',\n",
       "   'feats-22': 'none',\n",
       "   'lemma-10': 'да',\n",
       "   'upos-10': 'PART',\n",
       "   'feats-10': '_',\n",
       "   'lemma-11': 'да',\n",
       "   'upos-11': 'CCONJ',\n",
       "   'feats-11': '_',\n",
       "   'lemma-12': 'да',\n",
       "   'upos-12': 'INTJ',\n",
       "   'feats-12': '_',\n",
       "   'lemma00': ',',\n",
       "   'upos00': 'PUNCT',\n",
       "   'feats00': '_',\n",
       "   'lemma01': 'none',\n",
       "   'upos01': 'none',\n",
       "   'feats01': 'none',\n",
       "   'lemma02': 'none',\n",
       "   'upos02': 'none',\n",
       "   'feats02': 'none',\n",
       "   'lemma10': '-',\n",
       "   'upos10': 'PUNCT',\n",
       "   'feats10': '_',\n",
       "   'lemma11': 'none',\n",
       "   'upos11': 'none',\n",
       "   'feats11': 'none',\n",
       "   'lemma12': 'none',\n",
       "   'upos12': 'none',\n",
       "   'feats12': 'none',\n",
       "   'lemma20': 'отозваться',\n",
       "   'upos20': 'VERB',\n",
       "   'feats20': 'Aspect=Perf|Gender=Masc|Mood=Ind|Number=Sing|Tense=Past|VerbForm=Fin',\n",
       "   'lemma21': 'none',\n",
       "   'upos21': 'none',\n",
       "   'feats21': 'none',\n",
       "   'lemma22': 'none',\n",
       "   'upos22': 'none',\n",
       "   'feats22': 'none'},\n",
       "  'PUNCT'),\n",
       " ({'lemma-20': 'да',\n",
       "   'upos-20': 'PART',\n",
       "   'feats-20': '_',\n",
       "   'lemma-21': 'да',\n",
       "   'upos-21': 'CCONJ',\n",
       "   'feats-21': '_',\n",
       "   'lemma-22': 'да',\n",
       "   'upos-22': 'INTJ',\n",
       "   'feats-22': '_',\n",
       "   'lemma-10': ',',\n",
       "   'upos-10': 'PUNCT',\n",
       "   'feats-10': '_',\n",
       "   'lemma-11': 'none',\n",
       "   'upos-11': 'none',\n",
       "   'feats-11': 'none',\n",
       "   'lemma-12': 'none',\n",
       "   'upos-12': 'none',\n",
       "   'feats-12': 'none',\n",
       "   'lemma00': '-',\n",
       "   'upos00': 'PUNCT',\n",
       "   'feats00': '_',\n",
       "   'lemma01': 'none',\n",
       "   'upos01': 'none',\n",
       "   'feats01': 'none',\n",
       "   'lemma02': 'none',\n",
       "   'upos02': 'none',\n",
       "   'feats02': 'none',\n",
       "   'lemma10': 'отозваться',\n",
       "   'upos10': 'VERB',\n",
       "   'feats10': 'Aspect=Perf|Gender=Masc|Mood=Ind|Number=Sing|Tense=Past|VerbForm=Fin',\n",
       "   'lemma11': 'none',\n",
       "   'upos11': 'none',\n",
       "   'feats11': 'none',\n",
       "   'lemma12': 'none',\n",
       "   'upos12': 'none',\n",
       "   'feats12': 'none',\n",
       "   'lemma20': 'семён',\n",
       "   'upos20': 'PROPN',\n",
       "   'feats20': 'Animacy=Anim|Case=Nom|Gender=Masc|Number=Sing',\n",
       "   'lemma21': 'none',\n",
       "   'upos21': 'none',\n",
       "   'feats21': 'none',\n",
       "   'lemma22': 'none',\n",
       "   'upos22': 'none',\n",
       "   'feats22': 'none'},\n",
       "  'PUNCT'),\n",
       " ({'lemma-20': ',',\n",
       "   'upos-20': 'PUNCT',\n",
       "   'feats-20': '_',\n",
       "   'lemma-21': 'none',\n",
       "   'upos-21': 'none',\n",
       "   'feats-21': 'none',\n",
       "   'lemma-22': 'none',\n",
       "   'upos-22': 'none',\n",
       "   'feats-22': 'none',\n",
       "   'lemma-10': '-',\n",
       "   'upos-10': 'PUNCT',\n",
       "   'feats-10': '_',\n",
       "   'lemma-11': 'none',\n",
       "   'upos-11': 'none',\n",
       "   'feats-11': 'none',\n",
       "   'lemma-12': 'none',\n",
       "   'upos-12': 'none',\n",
       "   'feats-12': 'none',\n",
       "   'lemma00': 'отозваться',\n",
       "   'upos00': 'VERB',\n",
       "   'feats00': 'Aspect=Perf|Gender=Masc|Mood=Ind|Number=Sing|Tense=Past|VerbForm=Fin',\n",
       "   'lemma01': 'none',\n",
       "   'upos01': 'none',\n",
       "   'feats01': 'none',\n",
       "   'lemma02': 'none',\n",
       "   'upos02': 'none',\n",
       "   'feats02': 'none',\n",
       "   'lemma10': 'семён',\n",
       "   'upos10': 'PROPN',\n",
       "   'feats10': 'Animacy=Anim|Case=Nom|Gender=Masc|Number=Sing',\n",
       "   'lemma11': 'none',\n",
       "   'upos11': 'none',\n",
       "   'feats11': 'none',\n",
       "   'lemma12': 'none',\n",
       "   'upos12': 'none',\n",
       "   'feats12': 'none',\n",
       "   'lemma20': 'еремеевич',\n",
       "   'upos20': 'PROPN',\n",
       "   'feats20': 'Animacy=Anim|Case=Nom|Gender=Masc|Number=Sing',\n",
       "   'lemma21': 'none',\n",
       "   'upos21': 'none',\n",
       "   'feats21': 'none',\n",
       "   'lemma22': 'none',\n",
       "   'upos22': 'none',\n",
       "   'feats22': 'none'},\n",
       "  'VERB'),\n",
       " ({'lemma-20': '-',\n",
       "   'upos-20': 'PUNCT',\n",
       "   'feats-20': '_',\n",
       "   'lemma-21': 'none',\n",
       "   'upos-21': 'none',\n",
       "   'feats-21': 'none',\n",
       "   'lemma-22': 'none',\n",
       "   'upos-22': 'none',\n",
       "   'feats-22': 'none',\n",
       "   'lemma-10': 'отозваться',\n",
       "   'upos-10': 'VERB',\n",
       "   'feats-10': 'Aspect=Perf|Gender=Masc|Mood=Ind|Number=Sing|Tense=Past|VerbForm=Fin',\n",
       "   'lemma-11': 'none',\n",
       "   'upos-11': 'none',\n",
       "   'feats-11': 'none',\n",
       "   'lemma-12': 'none',\n",
       "   'upos-12': 'none',\n",
       "   'feats-12': 'none',\n",
       "   'lemma00': 'семён',\n",
       "   'upos00': 'PROPN',\n",
       "   'feats00': 'Animacy=Anim|Case=Nom|Gender=Masc|Number=Sing',\n",
       "   'lemma01': 'none',\n",
       "   'upos01': 'none',\n",
       "   'feats01': 'none',\n",
       "   'lemma02': 'none',\n",
       "   'upos02': 'none',\n",
       "   'feats02': 'none',\n",
       "   'lemma10': 'еремеевич',\n",
       "   'upos10': 'PROPN',\n",
       "   'feats10': 'Animacy=Anim|Case=Nom|Gender=Masc|Number=Sing',\n",
       "   'lemma11': 'none',\n",
       "   'upos11': 'none',\n",
       "   'feats11': 'none',\n",
       "   'lemma12': 'none',\n",
       "   'upos12': 'none',\n",
       "   'feats12': 'none',\n",
       "   'lemma20': '.',\n",
       "   'upos20': 'PUNCT',\n",
       "   'feats20': '_',\n",
       "   'lemma21': 'none',\n",
       "   'upos21': 'none',\n",
       "   'feats21': 'none',\n",
       "   'lemma22': 'none',\n",
       "   'upos22': 'none',\n",
       "   'feats22': 'none'},\n",
       "  'PROPN'),\n",
       " ({'lemma-20': 'отозваться',\n",
       "   'upos-20': 'VERB',\n",
       "   'feats-20': 'Aspect=Perf|Gender=Masc|Mood=Ind|Number=Sing|Tense=Past|VerbForm=Fin',\n",
       "   'lemma-21': 'none',\n",
       "   'upos-21': 'none',\n",
       "   'feats-21': 'none',\n",
       "   'lemma-22': 'none',\n",
       "   'upos-22': 'none',\n",
       "   'feats-22': 'none',\n",
       "   'lemma-10': 'семён',\n",
       "   'upos-10': 'PROPN',\n",
       "   'feats-10': 'Animacy=Anim|Case=Nom|Gender=Masc|Number=Sing',\n",
       "   'lemma-11': 'none',\n",
       "   'upos-11': 'none',\n",
       "   'feats-11': 'none',\n",
       "   'lemma-12': 'none',\n",
       "   'upos-12': 'none',\n",
       "   'feats-12': 'none',\n",
       "   'lemma00': 'еремеевич',\n",
       "   'upos00': 'PROPN',\n",
       "   'feats00': 'Animacy=Anim|Case=Nom|Gender=Masc|Number=Sing',\n",
       "   'lemma01': 'none',\n",
       "   'upos01': 'none',\n",
       "   'feats01': 'none',\n",
       "   'lemma02': 'none',\n",
       "   'upos02': 'none',\n",
       "   'feats02': 'none',\n",
       "   'lemma10': '.',\n",
       "   'upos10': 'PUNCT',\n",
       "   'feats10': '_',\n",
       "   'lemma11': 'none',\n",
       "   'upos11': 'none',\n",
       "   'feats11': 'none',\n",
       "   'lemma12': 'none',\n",
       "   'upos12': 'none',\n",
       "   'feats12': 'none',\n",
       "   'lemma20': 'none',\n",
       "   'upos20': 'none',\n",
       "   'feats20': 'none',\n",
       "   'lemma21': 'none',\n",
       "   'upos21': 'none',\n",
       "   'feats21': 'none',\n",
       "   'lemma22': 'none',\n",
       "   'upos22': 'none',\n",
       "   'feats22': 'none'},\n",
       "  'PROPN'),\n",
       " ({'lemma-20': 'семён',\n",
       "   'upos-20': 'PROPN',\n",
       "   'feats-20': 'Animacy=Anim|Case=Nom|Gender=Masc|Number=Sing',\n",
       "   'lemma-21': 'none',\n",
       "   'upos-21': 'none',\n",
       "   'feats-21': 'none',\n",
       "   'lemma-22': 'none',\n",
       "   'upos-22': 'none',\n",
       "   'feats-22': 'none',\n",
       "   'lemma-10': 'еремеевич',\n",
       "   'upos-10': 'PROPN',\n",
       "   'feats-10': 'Animacy=Anim|Case=Nom|Gender=Masc|Number=Sing',\n",
       "   'lemma-11': 'none',\n",
       "   'upos-11': 'none',\n",
       "   'feats-11': 'none',\n",
       "   'lemma-12': 'none',\n",
       "   'upos-12': 'none',\n",
       "   'feats-12': 'none',\n",
       "   'lemma00': '.',\n",
       "   'upos00': 'PUNCT',\n",
       "   'feats00': '_',\n",
       "   'lemma01': 'none',\n",
       "   'upos01': 'none',\n",
       "   'feats01': 'none',\n",
       "   'lemma02': 'none',\n",
       "   'upos02': 'none',\n",
       "   'feats02': 'none',\n",
       "   'lemma10': 'none',\n",
       "   'upos10': 'none',\n",
       "   'feats10': 'none',\n",
       "   'lemma11': 'none',\n",
       "   'upos11': 'none',\n",
       "   'feats11': 'none',\n",
       "   'lemma12': 'none',\n",
       "   'upos12': 'none',\n",
       "   'feats12': 'none',\n",
       "   'lemma20': 'none',\n",
       "   'upos20': 'none',\n",
       "   'feats20': 'none',\n",
       "   'lemma21': 'none',\n",
       "   'upos21': 'none',\n",
       "   'feats21': 'none',\n",
       "   'lemma22': 'none',\n",
       "   'upos22': 'none',\n",
       "   'feats22': 'none'},\n",
       "  'PUNCT')]"
      ]
     },
     "execution_count": 36,
     "metadata": {},
     "output_type": "execute_result"
    }
   ],
   "source": [
    "list(zip(tagged_sent, sent_poses))"
   ]
  },
  {
   "cell_type": "code",
   "execution_count": null,
   "id": "fb0b80e3-8674-4492-9adc-505028c2dcdd",
   "metadata": {},
   "outputs": [],
   "source": [
    "model = sklearn_crfsuite.CRF(algorithm='lbfgs', c1=0.1, c2=0.1, \n",
    "                                   max_iterations=200, all_possible_transitions=True)"
   ]
  },
  {
   "cell_type": "code",
   "execution_count": null,
   "id": "335395d3-6bb6-4d20-b3ac-5b350f52b1eb",
   "metadata": {},
   "outputs": [
    {
     "name": "stdout",
     "output_type": "stream",
     "text": [
      "CPU times: user 9min 52s, sys: 627 ms, total: 9min 52s\n",
      "Wall time: 16min 44s\n"
     ]
    }
   ],
   "source": [
    "%%time\n",
    "try:\n",
    "    model.fit(res_sents, res_poses)\n",
    "except:\n",
    "    pass"
   ]
  },
  {
   "cell_type": "code",
   "execution_count": null,
   "id": "f372b51b-c3e4-47cb-8409-27ef1a0f20c5",
   "metadata": {},
   "outputs": [],
   "source": []
  },
  {
   "cell_type": "code",
   "execution_count": null,
   "id": "6678fa86-5949-47b5-9f64-23bc21361433",
   "metadata": {},
   "outputs": [
    {
     "data": {
      "text/plain": [
       "[['CCONJ',\n",
       "  'PRON',\n",
       "  'VERB',\n",
       "  'PRON',\n",
       "  'ADV',\n",
       "  'CCONJ',\n",
       "  'PUNCT',\n",
       "  'VERB',\n",
       "  'VERB',\n",
       "  'PUNCT',\n",
       "  'VERB',\n",
       "  'ADV',\n",
       "  'NUM',\n",
       "  'NOUN',\n",
       "  'PUNCT']]"
      ]
     },
     "execution_count": 14,
     "metadata": {},
     "output_type": "execute_result"
    }
   ],
   "source": [
    "model.predict([tagged_sent])"
   ]
  },
  {
   "cell_type": "code",
   "execution_count": null,
   "id": "c14079e3-446f-4b0a-a49e-d37d514955e8",
   "metadata": {},
   "outputs": [
    {
     "data": {
      "text/plain": [
       "TokenList<Но, кто-то, идет, мне, навстречу, и, ,, может, быть, ,, прошел, уже, пол, пути, …, metadata={sent_id: \"uppsalaNagibin_4.xml_71\", text: \"Но кто-то идет мне навстречу и, может быть, прошел уже полпути…\"}>"
      ]
     },
     "execution_count": 15,
     "metadata": {},
     "output_type": "execute_result"
    }
   ],
   "source": [
    "sent"
   ]
  },
  {
   "cell_type": "code",
   "execution_count": null,
   "id": "2c5dd8d8",
   "metadata": {},
   "outputs": [],
   "source": []
  },
  {
   "cell_type": "code",
   "execution_count": null,
   "id": "2e436af8",
   "metadata": {},
   "outputs": [],
   "source": []
  },
  {
   "cell_type": "markdown",
   "id": "b2dd1467",
   "metadata": {},
   "source": [
    "### Pipeline"
   ]
  },
  {
   "cell_type": "markdown",
   "id": "31b8ca0b",
   "metadata": {},
   "source": [
    "Для того, чтобы не писать какждый раз руками одну и ту же (а бывает, что и сильно более сложную) последователньость действий токенизация-модель-интерпретация, можно использовать пайплайны.\n",
    "\n",
    "Они бывают самые разные, полный список можно найти [вот здесь](https://huggingface.co/docs/transformers/main_classes/pipelines)."
   ]
  },
  {
   "cell_type": "code",
   "execution_count": null,
   "id": "1d717fc6",
   "metadata": {},
   "outputs": [
    {
     "name": "stderr",
     "output_type": "stream",
     "text": [
      "2024-04-26 13:03:57.195819: I tensorflow/core/util/port.cc:110] oneDNN custom operations are on. You may see slightly different numerical results due to floating-point round-off errors from different computation orders. To turn them off, set the environment variable `TF_ENABLE_ONEDNN_OPTS=0`.\n",
      "2024-04-26 13:03:57.245258: I tensorflow/core/platform/cpu_feature_guard.cc:182] This TensorFlow binary is optimized to use available CPU instructions in performance-critical operations.\n",
      "To enable the following instructions: AVX2 AVX512F AVX512_VNNI FMA, in other operations, rebuild TensorFlow with the appropriate compiler flags.\n"
     ]
    }
   ],
   "source": [
    "from transformers import pipeline\n",
    "import torch"
   ]
  },
  {
   "cell_type": "code",
   "execution_count": null,
   "id": "34ebf174",
   "metadata": {},
   "outputs": [],
   "source": [
    "# device = torch.device(\"cuda\") if torch.cuda.is_available() else torch.device(\"cpu\")\n",
    "device = torch.device(\"cpu\")"
   ]
  },
  {
   "cell_type": "code",
   "execution_count": null,
   "id": "f2ca07bb",
   "metadata": {},
   "outputs": [],
   "source": [
    "oracle = pipeline(\n",
    "    model='deepset/roberta-base-squad2',\n",
    "    framework='pt',\n",
    "    batch_size=10,\n",
    "    device=device\n",
    "    )\n"
   ]
  },
  {
   "cell_type": "code",
   "execution_count": null,
   "id": "dba7e49c",
   "metadata": {},
   "outputs": [
    {
     "data": {
      "text/plain": [
       "{'score': 0.9190723299980164, 'start': 34, 'end': 40, 'answer': 'Berlin'}"
      ]
     },
     "execution_count": 4,
     "metadata": {},
     "output_type": "execute_result"
    }
   ],
   "source": [
    "\n",
    "oracle(question=\"Where do I live?\", context=\"My name is Wolfgang and I live in Berlin\")"
   ]
  },
  {
   "cell_type": "code",
   "execution_count": null,
   "id": "3386a54a",
   "metadata": {},
   "outputs": [],
   "source": [
    "text = '''Owls are birds from the order Strigiformes[1] (/ˈstrɪdʒəfɔːrmiːz/), which includes over 200 species of mostly solitary and nocturnal birds of prey typified by an upright stance, a large, broad head, binocular vision, binaural hearing, sharp talons, and feathers adapted for silent flight. Exceptions include the diurnal northern hawk-owl and the gregarious burrowing owl.\n",
    "\n",
    "Owls are divided into two families: the true (or typical) owl family, Strigidae, and the barn-owl family, Tytonidae.[2] Owls hunt mostly small mammals, insects, and other birds, although a few species specialize in hunting fish. They are found in all regions of the Earth except the polar ice caps and some remote islands.\n",
    "\n",
    "A group of owls is called a \"parliament\".[3]\n",
    "Owls possess large, forward-facing eyes and ear-holes, a hawk-like beak, a flat face, and usually a conspicuous circle of feathers, a facial disc, around each eye. The feathers making up this disc can be adjusted to sharply focus sounds from varying distances onto the owls' asymmetrically placed ear cavities. Most birds of prey have eyes on the sides of their heads, but the stereoscopic nature of the owl's forward-facing eyes permits the greater sense of depth perception necessary for low-light hunting. Owls have binocular vision, but they must rotate their entire heads to change the focus of their view because, like most birds, their eyes are fixed in their sockets. Owls are farsighted and cannot clearly see anything nearer than a few centimetres of their eyes. Caught prey can be felt by owls with the use of filoplumes—hairlike feathers on the beak and feet that act as \"feelers\". Their far vision, particularly in low light, is exceptionally good.\n",
    "\n",
    "Owls can rotate their heads and necks as much as 270°. Owls have 14 neck vertebrae — humans have only seven — and their vertebral circulatory systems are adapted to allow them to rotate their heads without cutting off blood to the brain. Specifically, the foramina in their vertebrae through which the vertebral arteries pass are about 10 times the diameter of the artery, instead of about the same size as the artery, as is the case in humans; the vertebral arteries enter the cervical vertebrae higher than in other birds, giving the vessels some slack, and the carotid arteries unite in a very large anastomosis or junction, the largest of any bird's, preventing blood supply from being cut off while they rotate their necks. Other anastomoses between the carotid and vertebral arteries support this effect.[4][5]'''"
   ]
  },
  {
   "cell_type": "code",
   "execution_count": null,
   "id": "d10bde2f",
   "metadata": {},
   "outputs": [
    {
     "name": "stderr",
     "output_type": "stream",
     "text": [
      "No model was supplied, defaulted to sshleifer/distilbart-cnn-12-6 and revision a4f8f3e (https://huggingface.co/sshleifer/distilbart-cnn-12-6).\n",
      "Using a pipeline without specifying a model name and revision in production is not recommended.\n"
     ]
    },
    {
     "data": {
      "application/vnd.jupyter.widget-view+json": {
       "model_id": "c913f6b4bc69455ea3398fc61deba7b1",
       "version_major": 2,
       "version_minor": 0
      },
      "text/plain": [
       "Downloading config.json:   0%|          | 0.00/1.80k [00:00<?, ?B/s]"
      ]
     },
     "metadata": {},
     "output_type": "display_data"
    },
    {
     "data": {
      "application/vnd.jupyter.widget-view+json": {
       "model_id": "9607fd3f438d443b90d973933d002d27",
       "version_major": 2,
       "version_minor": 0
      },
      "text/plain": [
       "Downloading pytorch_model.bin:   0%|          | 0.00/1.22G [00:00<?, ?B/s]"
      ]
     },
     "metadata": {},
     "output_type": "display_data"
    },
    {
     "data": {
      "application/vnd.jupyter.widget-view+json": {
       "model_id": "7abdb4a3e062407f91c458d4f8e0d9ad",
       "version_major": 2,
       "version_minor": 0
      },
      "text/plain": [
       "Downloading tokenizer_config.json:   0%|          | 0.00/26.0 [00:00<?, ?B/s]"
      ]
     },
     "metadata": {},
     "output_type": "display_data"
    },
    {
     "data": {
      "application/vnd.jupyter.widget-view+json": {
       "model_id": "139b7748997043f59e4d6afc04624da9",
       "version_major": 2,
       "version_minor": 0
      },
      "text/plain": [
       "Downloading vocab.json:   0%|          | 0.00/899k [00:00<?, ?B/s]"
      ]
     },
     "metadata": {},
     "output_type": "display_data"
    },
    {
     "data": {
      "application/vnd.jupyter.widget-view+json": {
       "model_id": "7c69be0a25fc4ce482456c45007f6398",
       "version_major": 2,
       "version_minor": 0
      },
      "text/plain": [
       "Downloading merges.txt:   0%|          | 0.00/456k [00:00<?, ?B/s]"
      ]
     },
     "metadata": {},
     "output_type": "display_data"
    }
   ],
   "source": [
    "summarizer_bart = pipeline(\n",
    "    'summarization',\n",
    "    framework='pt',\n",
    "    batch_size=10,\n",
    "    device=device\n",
    "    )"
   ]
  },
  {
   "cell_type": "code",
   "execution_count": null,
   "id": "f4c5c2a0",
   "metadata": {},
   "outputs": [
    {
     "data": {
      "text/plain": [
       "[{'summary_text': ' The true (or typical) owl family, Strigidae, and the barn-owl family, Tytonidae, are divided into two families . Owls hunt mostly small mammals, insects, and other birds, although a few species specialize in hunting fish . They are found in all regions of the Earth except polar ice caps and some remote islands .'}]"
      ]
     },
     "execution_count": 24,
     "metadata": {},
     "output_type": "execute_result"
    }
   ],
   "source": [
    "summarizer_bart(text)"
   ]
  },
  {
   "cell_type": "code",
   "execution_count": null,
   "id": "b5f7fe39",
   "metadata": {},
   "outputs": [
    {
     "data": {
      "application/vnd.jupyter.widget-view+json": {
       "model_id": "7607f0cc21384f888a2786333cc77e18",
       "version_major": 2,
       "version_minor": 0
      },
      "text/plain": [
       "Downloading config.json:   0%|          | 0.00/1.21k [00:00<?, ?B/s]"
      ]
     },
     "metadata": {},
     "output_type": "display_data"
    },
    {
     "data": {
      "application/vnd.jupyter.widget-view+json": {
       "model_id": "1f5517a681994c7080b9bebf6ba4e5c2",
       "version_major": 2,
       "version_minor": 0
      },
      "text/plain": [
       "Downloading pytorch_model.bin:   0%|          | 0.00/892M [00:00<?, ?B/s]"
      ]
     },
     "metadata": {},
     "output_type": "display_data"
    },
    {
     "data": {
      "application/vnd.jupyter.widget-view+json": {
       "model_id": "769fae1a9cc04c1bbf4f5ebedf06d517",
       "version_major": 2,
       "version_minor": 0
      },
      "text/plain": [
       "Downloading generation_config.json:   0%|          | 0.00/147 [00:00<?, ?B/s]"
      ]
     },
     "metadata": {},
     "output_type": "display_data"
    },
    {
     "data": {
      "application/vnd.jupyter.widget-view+json": {
       "model_id": "4f7a500ac0104cebbe2236ab45e27715",
       "version_major": 2,
       "version_minor": 0
      },
      "text/plain": [
       "Downloading spiece.model:   0%|          | 0.00/792k [00:00<?, ?B/s]"
      ]
     },
     "metadata": {},
     "output_type": "display_data"
    },
    {
     "data": {
      "application/vnd.jupyter.widget-view+json": {
       "model_id": "40f6e82d02d44d71b51357946d330247",
       "version_major": 2,
       "version_minor": 0
      },
      "text/plain": [
       "Downloading tokenizer.json:   0%|          | 0.00/1.39M [00:00<?, ?B/s]"
      ]
     },
     "metadata": {},
     "output_type": "display_data"
    }
   ],
   "source": [
    "summarizer_t5 = pipeline(\n",
    "    'summarization',\n",
    "    model='google-t5/t5-base',\n",
    "    tokenizer='google-t5/t5-base',\n",
    "    framework='pt',\n",
    "    device=device\n",
    "    )"
   ]
  },
  {
   "cell_type": "code",
   "execution_count": null,
   "id": "e1f7d3fe",
   "metadata": {},
   "outputs": [
    {
     "data": {
      "text/plain": [
       "[{'summary_text': 'owls hunt mostly small mammals, insects, and other birds, although a few species specialize in hunting fish . they have binocular vision, binaural hearing, sharp talons, and feathers adapted for silent flight . birds can rotate their heads and necks as much as 270° .'}]"
      ]
     },
     "execution_count": 26,
     "metadata": {},
     "output_type": "execute_result"
    }
   ],
   "source": [
    "summarizer_t5(text)"
   ]
  },
  {
   "cell_type": "code",
   "execution_count": null,
   "id": "87e63e36",
   "metadata": {},
   "outputs": [],
   "source": []
  },
  {
   "cell_type": "code",
   "execution_count": null,
   "id": "faeb9e42",
   "metadata": {},
   "outputs": [],
   "source": []
  },
  {
   "cell_type": "markdown",
   "id": "bef25a98",
   "metadata": {},
   "source": [
    "# Определение тональности, Bert"
   ]
  },
  {
   "cell_type": "code",
   "execution_count": null,
   "id": "d3f87502",
   "metadata": {},
   "outputs": [
    {
     "data": {
      "text/plain": [
       "[{'label': 'positive', 'score': 0.9398769736289978}]"
      ]
     },
     "execution_count": 29,
     "metadata": {},
     "output_type": "execute_result"
    }
   ],
   "source": [
    "model = pipeline(model=\"seara/rubert-tiny2-russian-sentiment\")\n",
    "model(\"Привет, ты мне нравишься!\")"
   ]
  },
  {
   "cell_type": "code",
   "execution_count": null,
   "id": "006c42dc",
   "metadata": {},
   "outputs": [
    {
     "data": {
      "application/vnd.jupyter.widget-view+json": {
       "model_id": "9e069d13ec8c40f7bc6b6de25bf4a685",
       "version_major": 2,
       "version_minor": 0
      },
      "text/plain": [
       "Downloading config.json:   0%|          | 0.00/1.94k [00:00<?, ?B/s]"
      ]
     },
     "metadata": {},
     "output_type": "display_data"
    },
    {
     "data": {
      "application/vnd.jupyter.widget-view+json": {
       "model_id": "a508c05d6a0649d9842acc6d194400ca",
       "version_major": 2,
       "version_minor": 0
      },
      "text/plain": [
       "Downloading pytorch_model.bin:   0%|          | 0.00/117M [00:00<?, ?B/s]"
      ]
     },
     "metadata": {},
     "output_type": "display_data"
    },
    {
     "data": {
      "application/vnd.jupyter.widget-view+json": {
       "model_id": "9a4af817372a4776a7960742abeba7b8",
       "version_major": 2,
       "version_minor": 0
      },
      "text/plain": [
       "Downloading tokenizer_config.json:   0%|          | 0.00/363 [00:00<?, ?B/s]"
      ]
     },
     "metadata": {},
     "output_type": "display_data"
    },
    {
     "data": {
      "application/vnd.jupyter.widget-view+json": {
       "model_id": "90f7bae56c42497bbda59f4bac2557d9",
       "version_major": 2,
       "version_minor": 0
      },
      "text/plain": [
       "Downloading vocab.txt:   0%|          | 0.00/1.08M [00:00<?, ?B/s]"
      ]
     },
     "metadata": {},
     "output_type": "display_data"
    },
    {
     "data": {
      "application/vnd.jupyter.widget-view+json": {
       "model_id": "0992c2ee86ea4697b7785ccf33bec193",
       "version_major": 2,
       "version_minor": 0
      },
      "text/plain": [
       "Downloading tokenizer.json:   0%|          | 0.00/2.41M [00:00<?, ?B/s]"
      ]
     },
     "metadata": {},
     "output_type": "display_data"
    },
    {
     "data": {
      "application/vnd.jupyter.widget-view+json": {
       "model_id": "224960c9d5f84214abeec5fa8448e8f6",
       "version_major": 2,
       "version_minor": 0
      },
      "text/plain": [
       "Downloading (…)cial_tokens_map.json:   0%|          | 0.00/125 [00:00<?, ?B/s]"
      ]
     },
     "metadata": {},
     "output_type": "display_data"
    },
    {
     "data": {
      "text/plain": [
       "[{'label': 'love', 'score': 0.5816417932510376}]"
      ]
     },
     "execution_count": 30,
     "metadata": {},
     "output_type": "execute_result"
    }
   ],
   "source": [
    "model = pipeline(model=\"r1char9/rubert-tiny2-ru-go-emotions\")\n",
    "model(\"Привет, ты мне нравишься!\")"
   ]
  },
  {
   "cell_type": "code",
   "execution_count": null,
   "id": "fe18db25",
   "metadata": {},
   "outputs": [
    {
     "data": {
      "text/plain": [
       "[{'label': 'disapproval', 'score': 0.43194231390953064}]"
      ]
     },
     "execution_count": 31,
     "metadata": {},
     "output_type": "execute_result"
    }
   ],
   "source": [
    "model(\"Как же так получилось, я не нахожу слов и чувств, чтобы описать свои эмоции\")"
   ]
  },
  {
   "cell_type": "code",
   "execution_count": null,
   "id": "62d91b2b",
   "metadata": {},
   "outputs": [
    {
     "data": {
      "text/plain": [
       "[{'label': 'sadness', 'score': 0.2147722691297531}]"
      ]
     },
     "execution_count": 32,
     "metadata": {},
     "output_type": "execute_result"
    }
   ],
   "source": [
    "model(\"как же так получилось я в полном раздрае\")"
   ]
  },
  {
   "cell_type": "markdown",
   "id": "ef3bae62",
   "metadata": {},
   "source": [
    "# Выделение именованных сущностей, Bert"
   ]
  },
  {
   "cell_type": "code",
   "execution_count": null,
   "id": "0e78f6ea",
   "metadata": {},
   "outputs": [
    {
     "data": {
      "application/vnd.jupyter.widget-view+json": {
       "model_id": "0494a29eaa0e462d8b7c134201ea674a",
       "version_major": 2,
       "version_minor": 0
      },
      "text/plain": [
       "Downloading tokenizer_config.json:   0%|          | 0.00/59.0 [00:00<?, ?B/s]"
      ]
     },
     "metadata": {},
     "output_type": "display_data"
    },
    {
     "data": {
      "application/vnd.jupyter.widget-view+json": {
       "model_id": "1f08b8cecda24b9f8dcb604c0c06830d",
       "version_major": 2,
       "version_minor": 0
      },
      "text/plain": [
       "Downloading config.json:   0%|          | 0.00/829 [00:00<?, ?B/s]"
      ]
     },
     "metadata": {},
     "output_type": "display_data"
    },
    {
     "data": {
      "application/vnd.jupyter.widget-view+json": {
       "model_id": "0887a2dedf6742f7a33443d05c510df0",
       "version_major": 2,
       "version_minor": 0
      },
      "text/plain": [
       "Downloading vocab.txt:   0%|          | 0.00/213k [00:00<?, ?B/s]"
      ]
     },
     "metadata": {},
     "output_type": "display_data"
    },
    {
     "data": {
      "application/vnd.jupyter.widget-view+json": {
       "model_id": "81be85410e2248b1a980abafba495a97",
       "version_major": 2,
       "version_minor": 0
      },
      "text/plain": [
       "Downloading added_tokens.json:   0%|          | 0.00/2.00 [00:00<?, ?B/s]"
      ]
     },
     "metadata": {},
     "output_type": "display_data"
    },
    {
     "data": {
      "application/vnd.jupyter.widget-view+json": {
       "model_id": "dc3337fcd2794a6b8d3e841a312701cd",
       "version_major": 2,
       "version_minor": 0
      },
      "text/plain": [
       "Downloading (…)cial_tokens_map.json:   0%|          | 0.00/112 [00:00<?, ?B/s]"
      ]
     },
     "metadata": {},
     "output_type": "display_data"
    },
    {
     "data": {
      "application/vnd.jupyter.widget-view+json": {
       "model_id": "3f5ea43b2fa44ebaa9b54efb752dfb13",
       "version_major": 2,
       "version_minor": 0
      },
      "text/plain": [
       "Downloading pytorch_model.bin:   0%|          | 0.00/433M [00:00<?, ?B/s]"
      ]
     },
     "metadata": {},
     "output_type": "display_data"
    },
    {
     "name": "stdout",
     "output_type": "stream",
     "text": [
      "[{'entity': 'B-MISC', 'score': 0.6903213, 'index': 7, 'word': 'Е', 'start': 9, 'end': 10}, {'entity': 'I-LOC', 'score': 0.6243275, 'index': 15, 'word': '##б', 'start': 17, 'end': 18}]\n"
     ]
    }
   ],
   "source": [
    "from transformers import AutoTokenizer, AutoModelForTokenClassification\n",
    "from transformers import pipeline\n",
    "\n",
    "tokenizer = AutoTokenizer.from_pretrained(\"dslim/bert-base-NER\")\n",
    "model = AutoModelForTokenClassification.from_pretrained(\"dslim/bert-base-NER\")\n",
    "\n",
    "nlp = pipeline(\"ner\", model=model, tokenizer=tokenizer)\n",
    "example = \"Я живу в Екатеренбурге \"\n",
    "\n",
    "ner_results = nlp(example)\n",
    "print(ner_results)"
   ]
  },
  {
   "cell_type": "code",
   "execution_count": null,
   "id": "602ca4b8",
   "metadata": {},
   "outputs": [
    {
     "name": "stdout",
     "output_type": "stream",
     "text": [
      "[{'entity': 'B-PER', 'score': 0.9990139, 'index': 4, 'word': 'Wolfgang', 'start': 11, 'end': 19}, {'entity': 'B-LOC', 'score': 0.999645, 'index': 9, 'word': 'Berlin', 'start': 34, 'end': 40}]\n"
     ]
    }
   ],
   "source": [
    "example = \"My name is Wolfgang and I live in Berlin\"\n",
    "ner_results = nlp(example)\n",
    "print(ner_results)"
   ]
  },
  {
   "cell_type": "code",
   "execution_count": null,
   "id": "fd1c1fbf",
   "metadata": {},
   "outputs": [],
   "source": []
  },
  {
   "cell_type": "code",
   "execution_count": null,
   "id": "adbada5a",
   "metadata": {},
   "outputs": [],
   "source": [
    "!pip3 install -U openai-whisper"
   ]
  },
  {
   "cell_type": "code",
   "execution_count": 1,
   "id": "aabb163f",
   "metadata": {},
   "outputs": [
    {
     "name": "stderr",
     "output_type": "stream",
     "text": [
      "2024-04-30 16:48:09.091994: I tensorflow/core/util/port.cc:110] oneDNN custom operations are on. You may see slightly different numerical results due to floating-point round-off errors from different computation orders. To turn them off, set the environment variable `TF_ENABLE_ONEDNN_OPTS=0`.\n",
      "2024-04-30 16:48:09.335939: I tensorflow/core/platform/cpu_feature_guard.cc:182] This TensorFlow binary is optimized to use available CPU instructions in performance-critical operations.\n",
      "To enable the following instructions: AVX2 AVX512F AVX512_VNNI FMA, in other operations, rebuild TensorFlow with the appropriate compiler flags.\n"
     ]
    }
   ],
   "source": [
    "import whisper\n",
    "from transformers import pipeline\n",
    "\n"
   ]
  },
  {
   "cell_type": "code",
   "execution_count": 2,
   "id": "f22a5749",
   "metadata": {},
   "outputs": [
    {
     "name": "stderr",
     "output_type": "stream",
     "text": [
      "/home/edward/.local/lib/python3.10/site-packages/torch/cuda/__init__.py:118: UserWarning: CUDA initialization: CUDA unknown error - this may be due to an incorrectly set up environment, e.g. changing env variable CUDA_VISIBLE_DEVICES after program start. Setting the available devices to be zero. (Triggered internally at ../c10/cuda/CUDAFunctions.cpp:108.)\n",
      "  return torch._C._cuda_getDeviceCount() > 0\n"
     ]
    }
   ],
   "source": [
    "model = whisper.load_model(\"base\")"
   ]
  },
  {
   "cell_type": "code",
   "execution_count": 6,
   "id": "97f6adb3",
   "metadata": {},
   "outputs": [
    {
     "name": "stderr",
     "output_type": "stream",
     "text": [
      "/home/edward/.local/lib/python3.10/site-packages/whisper/transcribe.py:115: UserWarning: FP16 is not supported on CPU; using FP32 instead\n",
      "  warnings.warn(\"FP16 is not supported on CPU; using FP32 instead\")\n"
     ]
    },
    {
     "name": "stdout",
     "output_type": "stream",
     "text": [
      " 7 комфорта, максимум безопасности. Ченган Центр Владимир в автограде представляет красовер нового поколения. Ченган СС-35+. Проверен на дороге. Выбирайте Ченган СС-35+. От 2 миллионов 69 900 рублей. Ченган Центр Владимир в автограде. Подрубнее условия приобретения.\n"
     ]
    }
   ],
   "source": [
    "result = model.transcribe(\"stream5.mp3\")\n",
    "print(result[\"text\"])"
   ]
  },
  {
   "cell_type": "code",
   "execution_count": null,
   "id": "d492b11f",
   "metadata": {},
   "outputs": [
    {
     "name": "stdout",
     "output_type": "stream",
     "text": [
      "Detected language: pl\n"
     ]
    },
    {
     "ename": "KeyboardInterrupt",
     "evalue": "",
     "output_type": "error",
     "traceback": [
      "\u001b[0;31m---------------------------------------------------------------------------\u001b[0m",
      "\u001b[0;31mKeyboardInterrupt\u001b[0m                         Traceback (most recent call last)",
      "\u001b[0;32m/tmp/ipykernel_47583/3566925308.py\u001b[0m in \u001b[0;36m<module>\u001b[0;34m\u001b[0m\n\u001b[1;32m     16\u001b[0m \u001b[0;31m# decode the audio\u001b[0m\u001b[0;34m\u001b[0m\u001b[0;34m\u001b[0m\u001b[0m\n\u001b[1;32m     17\u001b[0m \u001b[0moptions\u001b[0m \u001b[0;34m=\u001b[0m \u001b[0mwhisper\u001b[0m\u001b[0;34m.\u001b[0m\u001b[0mDecodingOptions\u001b[0m\u001b[0;34m(\u001b[0m\u001b[0;34m)\u001b[0m\u001b[0;34m\u001b[0m\u001b[0;34m\u001b[0m\u001b[0m\n\u001b[0;32m---> 18\u001b[0;31m \u001b[0mresult\u001b[0m \u001b[0;34m=\u001b[0m \u001b[0mwhisper\u001b[0m\u001b[0;34m.\u001b[0m\u001b[0mdecode\u001b[0m\u001b[0;34m(\u001b[0m\u001b[0mmodel\u001b[0m\u001b[0;34m,\u001b[0m \u001b[0mmel\u001b[0m\u001b[0;34m,\u001b[0m \u001b[0moptions\u001b[0m\u001b[0;34m)\u001b[0m\u001b[0;34m\u001b[0m\u001b[0;34m\u001b[0m\u001b[0m\n\u001b[0m\u001b[1;32m     19\u001b[0m \u001b[0;34m\u001b[0m\u001b[0m\n\u001b[1;32m     20\u001b[0m \u001b[0;31m# print the recognized text\u001b[0m\u001b[0;34m\u001b[0m\u001b[0;34m\u001b[0m\u001b[0m\n",
      "\u001b[0;32m~/.local/lib/python3.10/site-packages/torch/utils/_contextlib.py\u001b[0m in \u001b[0;36mdecorate_context\u001b[0;34m(*args, **kwargs)\u001b[0m\n\u001b[1;32m    113\u001b[0m     \u001b[0;32mdef\u001b[0m \u001b[0mdecorate_context\u001b[0m\u001b[0;34m(\u001b[0m\u001b[0;34m*\u001b[0m\u001b[0margs\u001b[0m\u001b[0;34m,\u001b[0m \u001b[0;34m**\u001b[0m\u001b[0mkwargs\u001b[0m\u001b[0;34m)\u001b[0m\u001b[0;34m:\u001b[0m\u001b[0;34m\u001b[0m\u001b[0;34m\u001b[0m\u001b[0m\n\u001b[1;32m    114\u001b[0m         \u001b[0;32mwith\u001b[0m \u001b[0mctx_factory\u001b[0m\u001b[0;34m(\u001b[0m\u001b[0;34m)\u001b[0m\u001b[0;34m:\u001b[0m\u001b[0;34m\u001b[0m\u001b[0;34m\u001b[0m\u001b[0m\n\u001b[0;32m--> 115\u001b[0;31m             \u001b[0;32mreturn\u001b[0m \u001b[0mfunc\u001b[0m\u001b[0;34m(\u001b[0m\u001b[0;34m*\u001b[0m\u001b[0margs\u001b[0m\u001b[0;34m,\u001b[0m \u001b[0;34m**\u001b[0m\u001b[0mkwargs\u001b[0m\u001b[0;34m)\u001b[0m\u001b[0;34m\u001b[0m\u001b[0;34m\u001b[0m\u001b[0m\n\u001b[0m\u001b[1;32m    116\u001b[0m \u001b[0;34m\u001b[0m\u001b[0m\n\u001b[1;32m    117\u001b[0m     \u001b[0;32mreturn\u001b[0m \u001b[0mdecorate_context\u001b[0m\u001b[0;34m\u001b[0m\u001b[0;34m\u001b[0m\u001b[0m\n",
      "\u001b[0;32m~/.local/lib/python3.10/site-packages/whisper/decoding.py\u001b[0m in \u001b[0;36mdecode\u001b[0;34m(model, mel, options, **kwargs)\u001b[0m\n\u001b[1;32m    822\u001b[0m         \u001b[0moptions\u001b[0m \u001b[0;34m=\u001b[0m \u001b[0mreplace\u001b[0m\u001b[0;34m(\u001b[0m\u001b[0moptions\u001b[0m\u001b[0;34m,\u001b[0m \u001b[0;34m**\u001b[0m\u001b[0mkwargs\u001b[0m\u001b[0;34m)\u001b[0m\u001b[0;34m\u001b[0m\u001b[0;34m\u001b[0m\u001b[0m\n\u001b[1;32m    823\u001b[0m \u001b[0;34m\u001b[0m\u001b[0m\n\u001b[0;32m--> 824\u001b[0;31m     \u001b[0mresult\u001b[0m \u001b[0;34m=\u001b[0m \u001b[0mDecodingTask\u001b[0m\u001b[0;34m(\u001b[0m\u001b[0mmodel\u001b[0m\u001b[0;34m,\u001b[0m \u001b[0moptions\u001b[0m\u001b[0;34m)\u001b[0m\u001b[0;34m.\u001b[0m\u001b[0mrun\u001b[0m\u001b[0;34m(\u001b[0m\u001b[0mmel\u001b[0m\u001b[0;34m)\u001b[0m\u001b[0;34m\u001b[0m\u001b[0;34m\u001b[0m\u001b[0m\n\u001b[0m\u001b[1;32m    825\u001b[0m \u001b[0;34m\u001b[0m\u001b[0m\n\u001b[1;32m    826\u001b[0m     \u001b[0;32mreturn\u001b[0m \u001b[0mresult\u001b[0m\u001b[0;34m[\u001b[0m\u001b[0;36m0\u001b[0m\u001b[0;34m]\u001b[0m \u001b[0;32mif\u001b[0m \u001b[0msingle\u001b[0m \u001b[0;32melse\u001b[0m \u001b[0mresult\u001b[0m\u001b[0;34m\u001b[0m\u001b[0;34m\u001b[0m\u001b[0m\n",
      "\u001b[0;32m~/.local/lib/python3.10/site-packages/torch/utils/_contextlib.py\u001b[0m in \u001b[0;36mdecorate_context\u001b[0;34m(*args, **kwargs)\u001b[0m\n\u001b[1;32m    113\u001b[0m     \u001b[0;32mdef\u001b[0m \u001b[0mdecorate_context\u001b[0m\u001b[0;34m(\u001b[0m\u001b[0;34m*\u001b[0m\u001b[0margs\u001b[0m\u001b[0;34m,\u001b[0m \u001b[0;34m**\u001b[0m\u001b[0mkwargs\u001b[0m\u001b[0;34m)\u001b[0m\u001b[0;34m:\u001b[0m\u001b[0;34m\u001b[0m\u001b[0;34m\u001b[0m\u001b[0m\n\u001b[1;32m    114\u001b[0m         \u001b[0;32mwith\u001b[0m \u001b[0mctx_factory\u001b[0m\u001b[0;34m(\u001b[0m\u001b[0;34m)\u001b[0m\u001b[0;34m:\u001b[0m\u001b[0;34m\u001b[0m\u001b[0;34m\u001b[0m\u001b[0m\n\u001b[0;32m--> 115\u001b[0;31m             \u001b[0;32mreturn\u001b[0m \u001b[0mfunc\u001b[0m\u001b[0;34m(\u001b[0m\u001b[0;34m*\u001b[0m\u001b[0margs\u001b[0m\u001b[0;34m,\u001b[0m \u001b[0;34m**\u001b[0m\u001b[0mkwargs\u001b[0m\u001b[0;34m)\u001b[0m\u001b[0;34m\u001b[0m\u001b[0;34m\u001b[0m\u001b[0m\n\u001b[0m\u001b[1;32m    116\u001b[0m \u001b[0;34m\u001b[0m\u001b[0m\n\u001b[1;32m    117\u001b[0m     \u001b[0;32mreturn\u001b[0m \u001b[0mdecorate_context\u001b[0m\u001b[0;34m\u001b[0m\u001b[0;34m\u001b[0m\u001b[0m\n",
      "\u001b[0;32m~/.local/lib/python3.10/site-packages/whisper/decoding.py\u001b[0m in \u001b[0;36mrun\u001b[0;34m(self, mel)\u001b[0m\n\u001b[1;32m    716\u001b[0m         \u001b[0mn_audio\u001b[0m\u001b[0;34m:\u001b[0m \u001b[0mint\u001b[0m \u001b[0;34m=\u001b[0m \u001b[0mmel\u001b[0m\u001b[0;34m.\u001b[0m\u001b[0mshape\u001b[0m\u001b[0;34m[\u001b[0m\u001b[0;36m0\u001b[0m\u001b[0;34m]\u001b[0m\u001b[0;34m\u001b[0m\u001b[0;34m\u001b[0m\u001b[0m\n\u001b[1;32m    717\u001b[0m \u001b[0;34m\u001b[0m\u001b[0m\n\u001b[0;32m--> 718\u001b[0;31m         \u001b[0maudio_features\u001b[0m\u001b[0;34m:\u001b[0m \u001b[0mTensor\u001b[0m \u001b[0;34m=\u001b[0m \u001b[0mself\u001b[0m\u001b[0;34m.\u001b[0m\u001b[0m_get_audio_features\u001b[0m\u001b[0;34m(\u001b[0m\u001b[0mmel\u001b[0m\u001b[0;34m)\u001b[0m  \u001b[0;31m# encoder forward pass\u001b[0m\u001b[0;34m\u001b[0m\u001b[0;34m\u001b[0m\u001b[0m\n\u001b[0m\u001b[1;32m    719\u001b[0m         \u001b[0mtokens\u001b[0m\u001b[0;34m:\u001b[0m \u001b[0mTensor\u001b[0m \u001b[0;34m=\u001b[0m \u001b[0mtorch\u001b[0m\u001b[0;34m.\u001b[0m\u001b[0mtensor\u001b[0m\u001b[0;34m(\u001b[0m\u001b[0;34m[\u001b[0m\u001b[0mself\u001b[0m\u001b[0;34m.\u001b[0m\u001b[0minitial_tokens\u001b[0m\u001b[0;34m]\u001b[0m\u001b[0;34m)\u001b[0m\u001b[0;34m.\u001b[0m\u001b[0mrepeat\u001b[0m\u001b[0;34m(\u001b[0m\u001b[0mn_audio\u001b[0m\u001b[0;34m,\u001b[0m \u001b[0;36m1\u001b[0m\u001b[0;34m)\u001b[0m\u001b[0;34m\u001b[0m\u001b[0;34m\u001b[0m\u001b[0m\n\u001b[1;32m    720\u001b[0m \u001b[0;34m\u001b[0m\u001b[0m\n",
      "\u001b[0;32m~/.local/lib/python3.10/site-packages/whisper/decoding.py\u001b[0m in \u001b[0;36m_get_audio_features\u001b[0;34m(self, mel)\u001b[0m\n\u001b[1;32m    653\u001b[0m             \u001b[0maudio_features\u001b[0m \u001b[0;34m=\u001b[0m \u001b[0mmel\u001b[0m\u001b[0;34m\u001b[0m\u001b[0;34m\u001b[0m\u001b[0m\n\u001b[1;32m    654\u001b[0m         \u001b[0;32melse\u001b[0m\u001b[0;34m:\u001b[0m\u001b[0;34m\u001b[0m\u001b[0;34m\u001b[0m\u001b[0m\n\u001b[0;32m--> 655\u001b[0;31m             \u001b[0maudio_features\u001b[0m \u001b[0;34m=\u001b[0m \u001b[0mself\u001b[0m\u001b[0;34m.\u001b[0m\u001b[0mmodel\u001b[0m\u001b[0;34m.\u001b[0m\u001b[0mencoder\u001b[0m\u001b[0;34m(\u001b[0m\u001b[0mmel\u001b[0m\u001b[0;34m)\u001b[0m\u001b[0;34m\u001b[0m\u001b[0;34m\u001b[0m\u001b[0m\n\u001b[0m\u001b[1;32m    656\u001b[0m \u001b[0;34m\u001b[0m\u001b[0m\n\u001b[1;32m    657\u001b[0m         if audio_features.dtype != (\n",
      "\u001b[0;32m~/.local/lib/python3.10/site-packages/torch/nn/modules/module.py\u001b[0m in \u001b[0;36m_wrapped_call_impl\u001b[0;34m(self, *args, **kwargs)\u001b[0m\n\u001b[1;32m   1530\u001b[0m             \u001b[0;32mreturn\u001b[0m \u001b[0mself\u001b[0m\u001b[0;34m.\u001b[0m\u001b[0m_compiled_call_impl\u001b[0m\u001b[0;34m(\u001b[0m\u001b[0;34m*\u001b[0m\u001b[0margs\u001b[0m\u001b[0;34m,\u001b[0m \u001b[0;34m**\u001b[0m\u001b[0mkwargs\u001b[0m\u001b[0;34m)\u001b[0m  \u001b[0;31m# type: ignore[misc]\u001b[0m\u001b[0;34m\u001b[0m\u001b[0;34m\u001b[0m\u001b[0m\n\u001b[1;32m   1531\u001b[0m         \u001b[0;32melse\u001b[0m\u001b[0;34m:\u001b[0m\u001b[0;34m\u001b[0m\u001b[0;34m\u001b[0m\u001b[0m\n\u001b[0;32m-> 1532\u001b[0;31m             \u001b[0;32mreturn\u001b[0m \u001b[0mself\u001b[0m\u001b[0;34m.\u001b[0m\u001b[0m_call_impl\u001b[0m\u001b[0;34m(\u001b[0m\u001b[0;34m*\u001b[0m\u001b[0margs\u001b[0m\u001b[0;34m,\u001b[0m \u001b[0;34m**\u001b[0m\u001b[0mkwargs\u001b[0m\u001b[0;34m)\u001b[0m\u001b[0;34m\u001b[0m\u001b[0;34m\u001b[0m\u001b[0m\n\u001b[0m\u001b[1;32m   1533\u001b[0m \u001b[0;34m\u001b[0m\u001b[0m\n\u001b[1;32m   1534\u001b[0m     \u001b[0;32mdef\u001b[0m \u001b[0m_call_impl\u001b[0m\u001b[0;34m(\u001b[0m\u001b[0mself\u001b[0m\u001b[0;34m,\u001b[0m \u001b[0;34m*\u001b[0m\u001b[0margs\u001b[0m\u001b[0;34m,\u001b[0m \u001b[0;34m**\u001b[0m\u001b[0mkwargs\u001b[0m\u001b[0;34m)\u001b[0m\u001b[0;34m:\u001b[0m\u001b[0;34m\u001b[0m\u001b[0;34m\u001b[0m\u001b[0m\n",
      "\u001b[0;32m~/.local/lib/python3.10/site-packages/torch/nn/modules/module.py\u001b[0m in \u001b[0;36m_call_impl\u001b[0;34m(self, *args, **kwargs)\u001b[0m\n\u001b[1;32m   1539\u001b[0m                 \u001b[0;32mor\u001b[0m \u001b[0m_global_backward_pre_hooks\u001b[0m \u001b[0;32mor\u001b[0m \u001b[0m_global_backward_hooks\u001b[0m\u001b[0;34m\u001b[0m\u001b[0;34m\u001b[0m\u001b[0m\n\u001b[1;32m   1540\u001b[0m                 or _global_forward_hooks or _global_forward_pre_hooks):\n\u001b[0;32m-> 1541\u001b[0;31m             \u001b[0;32mreturn\u001b[0m \u001b[0mforward_call\u001b[0m\u001b[0;34m(\u001b[0m\u001b[0;34m*\u001b[0m\u001b[0margs\u001b[0m\u001b[0;34m,\u001b[0m \u001b[0;34m**\u001b[0m\u001b[0mkwargs\u001b[0m\u001b[0;34m)\u001b[0m\u001b[0;34m\u001b[0m\u001b[0;34m\u001b[0m\u001b[0m\n\u001b[0m\u001b[1;32m   1542\u001b[0m \u001b[0;34m\u001b[0m\u001b[0m\n\u001b[1;32m   1543\u001b[0m         \u001b[0;32mtry\u001b[0m\u001b[0;34m:\u001b[0m\u001b[0;34m\u001b[0m\u001b[0;34m\u001b[0m\u001b[0m\n",
      "\u001b[0;32m~/.local/lib/python3.10/site-packages/whisper/model.py\u001b[0m in \u001b[0;36mforward\u001b[0;34m(self, x)\u001b[0m\n\u001b[1;32m    168\u001b[0m \u001b[0;34m\u001b[0m\u001b[0m\n\u001b[1;32m    169\u001b[0m         \u001b[0;32mfor\u001b[0m \u001b[0mblock\u001b[0m \u001b[0;32min\u001b[0m \u001b[0mself\u001b[0m\u001b[0;34m.\u001b[0m\u001b[0mblocks\u001b[0m\u001b[0;34m:\u001b[0m\u001b[0;34m\u001b[0m\u001b[0;34m\u001b[0m\u001b[0m\n\u001b[0;32m--> 170\u001b[0;31m             \u001b[0mx\u001b[0m \u001b[0;34m=\u001b[0m \u001b[0mblock\u001b[0m\u001b[0;34m(\u001b[0m\u001b[0mx\u001b[0m\u001b[0;34m)\u001b[0m\u001b[0;34m\u001b[0m\u001b[0;34m\u001b[0m\u001b[0m\n\u001b[0m\u001b[1;32m    171\u001b[0m \u001b[0;34m\u001b[0m\u001b[0m\n\u001b[1;32m    172\u001b[0m         \u001b[0mx\u001b[0m \u001b[0;34m=\u001b[0m \u001b[0mself\u001b[0m\u001b[0;34m.\u001b[0m\u001b[0mln_post\u001b[0m\u001b[0;34m(\u001b[0m\u001b[0mx\u001b[0m\u001b[0;34m)\u001b[0m\u001b[0;34m\u001b[0m\u001b[0;34m\u001b[0m\u001b[0m\n",
      "\u001b[0;32m~/.local/lib/python3.10/site-packages/torch/nn/modules/module.py\u001b[0m in \u001b[0;36m_wrapped_call_impl\u001b[0;34m(self, *args, **kwargs)\u001b[0m\n\u001b[1;32m   1530\u001b[0m             \u001b[0;32mreturn\u001b[0m \u001b[0mself\u001b[0m\u001b[0;34m.\u001b[0m\u001b[0m_compiled_call_impl\u001b[0m\u001b[0;34m(\u001b[0m\u001b[0;34m*\u001b[0m\u001b[0margs\u001b[0m\u001b[0;34m,\u001b[0m \u001b[0;34m**\u001b[0m\u001b[0mkwargs\u001b[0m\u001b[0;34m)\u001b[0m  \u001b[0;31m# type: ignore[misc]\u001b[0m\u001b[0;34m\u001b[0m\u001b[0;34m\u001b[0m\u001b[0m\n\u001b[1;32m   1531\u001b[0m         \u001b[0;32melse\u001b[0m\u001b[0;34m:\u001b[0m\u001b[0;34m\u001b[0m\u001b[0;34m\u001b[0m\u001b[0m\n\u001b[0;32m-> 1532\u001b[0;31m             \u001b[0;32mreturn\u001b[0m \u001b[0mself\u001b[0m\u001b[0;34m.\u001b[0m\u001b[0m_call_impl\u001b[0m\u001b[0;34m(\u001b[0m\u001b[0;34m*\u001b[0m\u001b[0margs\u001b[0m\u001b[0;34m,\u001b[0m \u001b[0;34m**\u001b[0m\u001b[0mkwargs\u001b[0m\u001b[0;34m)\u001b[0m\u001b[0;34m\u001b[0m\u001b[0;34m\u001b[0m\u001b[0m\n\u001b[0m\u001b[1;32m   1533\u001b[0m \u001b[0;34m\u001b[0m\u001b[0m\n\u001b[1;32m   1534\u001b[0m     \u001b[0;32mdef\u001b[0m \u001b[0m_call_impl\u001b[0m\u001b[0;34m(\u001b[0m\u001b[0mself\u001b[0m\u001b[0;34m,\u001b[0m \u001b[0;34m*\u001b[0m\u001b[0margs\u001b[0m\u001b[0;34m,\u001b[0m \u001b[0;34m**\u001b[0m\u001b[0mkwargs\u001b[0m\u001b[0;34m)\u001b[0m\u001b[0;34m:\u001b[0m\u001b[0;34m\u001b[0m\u001b[0;34m\u001b[0m\u001b[0m\n",
      "\u001b[0;32m~/.local/lib/python3.10/site-packages/torch/nn/modules/module.py\u001b[0m in \u001b[0;36m_call_impl\u001b[0;34m(self, *args, **kwargs)\u001b[0m\n\u001b[1;32m   1539\u001b[0m                 \u001b[0;32mor\u001b[0m \u001b[0m_global_backward_pre_hooks\u001b[0m \u001b[0;32mor\u001b[0m \u001b[0m_global_backward_hooks\u001b[0m\u001b[0;34m\u001b[0m\u001b[0;34m\u001b[0m\u001b[0m\n\u001b[1;32m   1540\u001b[0m                 or _global_forward_hooks or _global_forward_pre_hooks):\n\u001b[0;32m-> 1541\u001b[0;31m             \u001b[0;32mreturn\u001b[0m \u001b[0mforward_call\u001b[0m\u001b[0;34m(\u001b[0m\u001b[0;34m*\u001b[0m\u001b[0margs\u001b[0m\u001b[0;34m,\u001b[0m \u001b[0;34m**\u001b[0m\u001b[0mkwargs\u001b[0m\u001b[0;34m)\u001b[0m\u001b[0;34m\u001b[0m\u001b[0;34m\u001b[0m\u001b[0m\n\u001b[0m\u001b[1;32m   1542\u001b[0m \u001b[0;34m\u001b[0m\u001b[0m\n\u001b[1;32m   1543\u001b[0m         \u001b[0;32mtry\u001b[0m\u001b[0;34m:\u001b[0m\u001b[0;34m\u001b[0m\u001b[0;34m\u001b[0m\u001b[0m\n",
      "\u001b[0;32m~/.local/lib/python3.10/site-packages/whisper/model.py\u001b[0m in \u001b[0;36mforward\u001b[0;34m(self, x, xa, mask, kv_cache)\u001b[0m\n\u001b[1;32m    134\u001b[0m         \u001b[0mkv_cache\u001b[0m\u001b[0;34m:\u001b[0m \u001b[0mOptional\u001b[0m\u001b[0;34m[\u001b[0m\u001b[0mdict\u001b[0m\u001b[0;34m]\u001b[0m \u001b[0;34m=\u001b[0m \u001b[0;32mNone\u001b[0m\u001b[0;34m,\u001b[0m\u001b[0;34m\u001b[0m\u001b[0;34m\u001b[0m\u001b[0m\n\u001b[1;32m    135\u001b[0m     ):\n\u001b[0;32m--> 136\u001b[0;31m         \u001b[0mx\u001b[0m \u001b[0;34m=\u001b[0m \u001b[0mx\u001b[0m \u001b[0;34m+\u001b[0m \u001b[0mself\u001b[0m\u001b[0;34m.\u001b[0m\u001b[0mattn\u001b[0m\u001b[0;34m(\u001b[0m\u001b[0mself\u001b[0m\u001b[0;34m.\u001b[0m\u001b[0mattn_ln\u001b[0m\u001b[0;34m(\u001b[0m\u001b[0mx\u001b[0m\u001b[0;34m)\u001b[0m\u001b[0;34m,\u001b[0m \u001b[0mmask\u001b[0m\u001b[0;34m=\u001b[0m\u001b[0mmask\u001b[0m\u001b[0;34m,\u001b[0m \u001b[0mkv_cache\u001b[0m\u001b[0;34m=\u001b[0m\u001b[0mkv_cache\u001b[0m\u001b[0;34m)\u001b[0m\u001b[0;34m[\u001b[0m\u001b[0;36m0\u001b[0m\u001b[0;34m]\u001b[0m\u001b[0;34m\u001b[0m\u001b[0;34m\u001b[0m\u001b[0m\n\u001b[0m\u001b[1;32m    137\u001b[0m         \u001b[0;32mif\u001b[0m \u001b[0mself\u001b[0m\u001b[0;34m.\u001b[0m\u001b[0mcross_attn\u001b[0m\u001b[0;34m:\u001b[0m\u001b[0;34m\u001b[0m\u001b[0;34m\u001b[0m\u001b[0m\n\u001b[1;32m    138\u001b[0m             \u001b[0mx\u001b[0m \u001b[0;34m=\u001b[0m \u001b[0mx\u001b[0m \u001b[0;34m+\u001b[0m \u001b[0mself\u001b[0m\u001b[0;34m.\u001b[0m\u001b[0mcross_attn\u001b[0m\u001b[0;34m(\u001b[0m\u001b[0mself\u001b[0m\u001b[0;34m.\u001b[0m\u001b[0mcross_attn_ln\u001b[0m\u001b[0;34m(\u001b[0m\u001b[0mx\u001b[0m\u001b[0;34m)\u001b[0m\u001b[0;34m,\u001b[0m \u001b[0mxa\u001b[0m\u001b[0;34m,\u001b[0m \u001b[0mkv_cache\u001b[0m\u001b[0;34m=\u001b[0m\u001b[0mkv_cache\u001b[0m\u001b[0;34m)\u001b[0m\u001b[0;34m[\u001b[0m\u001b[0;36m0\u001b[0m\u001b[0;34m]\u001b[0m\u001b[0;34m\u001b[0m\u001b[0;34m\u001b[0m\u001b[0m\n",
      "\u001b[0;32m~/.local/lib/python3.10/site-packages/torch/nn/modules/module.py\u001b[0m in \u001b[0;36m_wrapped_call_impl\u001b[0;34m(self, *args, **kwargs)\u001b[0m\n\u001b[1;32m   1530\u001b[0m             \u001b[0;32mreturn\u001b[0m \u001b[0mself\u001b[0m\u001b[0;34m.\u001b[0m\u001b[0m_compiled_call_impl\u001b[0m\u001b[0;34m(\u001b[0m\u001b[0;34m*\u001b[0m\u001b[0margs\u001b[0m\u001b[0;34m,\u001b[0m \u001b[0;34m**\u001b[0m\u001b[0mkwargs\u001b[0m\u001b[0;34m)\u001b[0m  \u001b[0;31m# type: ignore[misc]\u001b[0m\u001b[0;34m\u001b[0m\u001b[0;34m\u001b[0m\u001b[0m\n\u001b[1;32m   1531\u001b[0m         \u001b[0;32melse\u001b[0m\u001b[0;34m:\u001b[0m\u001b[0;34m\u001b[0m\u001b[0;34m\u001b[0m\u001b[0m\n\u001b[0;32m-> 1532\u001b[0;31m             \u001b[0;32mreturn\u001b[0m \u001b[0mself\u001b[0m\u001b[0;34m.\u001b[0m\u001b[0m_call_impl\u001b[0m\u001b[0;34m(\u001b[0m\u001b[0;34m*\u001b[0m\u001b[0margs\u001b[0m\u001b[0;34m,\u001b[0m \u001b[0;34m**\u001b[0m\u001b[0mkwargs\u001b[0m\u001b[0;34m)\u001b[0m\u001b[0;34m\u001b[0m\u001b[0;34m\u001b[0m\u001b[0m\n\u001b[0m\u001b[1;32m   1533\u001b[0m \u001b[0;34m\u001b[0m\u001b[0m\n\u001b[1;32m   1534\u001b[0m     \u001b[0;32mdef\u001b[0m \u001b[0m_call_impl\u001b[0m\u001b[0;34m(\u001b[0m\u001b[0mself\u001b[0m\u001b[0;34m,\u001b[0m \u001b[0;34m*\u001b[0m\u001b[0margs\u001b[0m\u001b[0;34m,\u001b[0m \u001b[0;34m**\u001b[0m\u001b[0mkwargs\u001b[0m\u001b[0;34m)\u001b[0m\u001b[0;34m:\u001b[0m\u001b[0;34m\u001b[0m\u001b[0;34m\u001b[0m\u001b[0m\n",
      "\u001b[0;32m~/.local/lib/python3.10/site-packages/torch/nn/modules/module.py\u001b[0m in \u001b[0;36m_call_impl\u001b[0;34m(self, *args, **kwargs)\u001b[0m\n\u001b[1;32m   1539\u001b[0m                 \u001b[0;32mor\u001b[0m \u001b[0m_global_backward_pre_hooks\u001b[0m \u001b[0;32mor\u001b[0m \u001b[0m_global_backward_hooks\u001b[0m\u001b[0;34m\u001b[0m\u001b[0;34m\u001b[0m\u001b[0m\n\u001b[1;32m   1540\u001b[0m                 or _global_forward_hooks or _global_forward_pre_hooks):\n\u001b[0;32m-> 1541\u001b[0;31m             \u001b[0;32mreturn\u001b[0m \u001b[0mforward_call\u001b[0m\u001b[0;34m(\u001b[0m\u001b[0;34m*\u001b[0m\u001b[0margs\u001b[0m\u001b[0;34m,\u001b[0m \u001b[0;34m**\u001b[0m\u001b[0mkwargs\u001b[0m\u001b[0;34m)\u001b[0m\u001b[0;34m\u001b[0m\u001b[0;34m\u001b[0m\u001b[0m\n\u001b[0m\u001b[1;32m   1542\u001b[0m \u001b[0;34m\u001b[0m\u001b[0m\n\u001b[1;32m   1543\u001b[0m         \u001b[0;32mtry\u001b[0m\u001b[0;34m:\u001b[0m\u001b[0;34m\u001b[0m\u001b[0;34m\u001b[0m\u001b[0m\n",
      "\u001b[0;32m~/.local/lib/python3.10/site-packages/whisper/model.py\u001b[0m in \u001b[0;36mforward\u001b[0;34m(self, x, xa, mask, kv_cache)\u001b[0m\n\u001b[1;32m     89\u001b[0m \u001b[0;34m\u001b[0m\u001b[0m\n\u001b[1;32m     90\u001b[0m         \u001b[0mwv\u001b[0m\u001b[0;34m,\u001b[0m \u001b[0mqk\u001b[0m \u001b[0;34m=\u001b[0m \u001b[0mself\u001b[0m\u001b[0;34m.\u001b[0m\u001b[0mqkv_attention\u001b[0m\u001b[0;34m(\u001b[0m\u001b[0mq\u001b[0m\u001b[0;34m,\u001b[0m \u001b[0mk\u001b[0m\u001b[0;34m,\u001b[0m \u001b[0mv\u001b[0m\u001b[0;34m,\u001b[0m \u001b[0mmask\u001b[0m\u001b[0;34m)\u001b[0m\u001b[0;34m\u001b[0m\u001b[0;34m\u001b[0m\u001b[0m\n\u001b[0;32m---> 91\u001b[0;31m         \u001b[0;32mreturn\u001b[0m \u001b[0mself\u001b[0m\u001b[0;34m.\u001b[0m\u001b[0mout\u001b[0m\u001b[0;34m(\u001b[0m\u001b[0mwv\u001b[0m\u001b[0;34m)\u001b[0m\u001b[0;34m,\u001b[0m \u001b[0mqk\u001b[0m\u001b[0;34m\u001b[0m\u001b[0;34m\u001b[0m\u001b[0m\n\u001b[0m\u001b[1;32m     92\u001b[0m \u001b[0;34m\u001b[0m\u001b[0m\n\u001b[1;32m     93\u001b[0m     def qkv_attention(\n",
      "\u001b[0;32m~/.local/lib/python3.10/site-packages/torch/nn/modules/module.py\u001b[0m in \u001b[0;36m_wrapped_call_impl\u001b[0;34m(self, *args, **kwargs)\u001b[0m\n\u001b[1;32m   1530\u001b[0m             \u001b[0;32mreturn\u001b[0m \u001b[0mself\u001b[0m\u001b[0;34m.\u001b[0m\u001b[0m_compiled_call_impl\u001b[0m\u001b[0;34m(\u001b[0m\u001b[0;34m*\u001b[0m\u001b[0margs\u001b[0m\u001b[0;34m,\u001b[0m \u001b[0;34m**\u001b[0m\u001b[0mkwargs\u001b[0m\u001b[0;34m)\u001b[0m  \u001b[0;31m# type: ignore[misc]\u001b[0m\u001b[0;34m\u001b[0m\u001b[0;34m\u001b[0m\u001b[0m\n\u001b[1;32m   1531\u001b[0m         \u001b[0;32melse\u001b[0m\u001b[0;34m:\u001b[0m\u001b[0;34m\u001b[0m\u001b[0;34m\u001b[0m\u001b[0m\n\u001b[0;32m-> 1532\u001b[0;31m             \u001b[0;32mreturn\u001b[0m \u001b[0mself\u001b[0m\u001b[0;34m.\u001b[0m\u001b[0m_call_impl\u001b[0m\u001b[0;34m(\u001b[0m\u001b[0;34m*\u001b[0m\u001b[0margs\u001b[0m\u001b[0;34m,\u001b[0m \u001b[0;34m**\u001b[0m\u001b[0mkwargs\u001b[0m\u001b[0;34m)\u001b[0m\u001b[0;34m\u001b[0m\u001b[0;34m\u001b[0m\u001b[0m\n\u001b[0m\u001b[1;32m   1533\u001b[0m \u001b[0;34m\u001b[0m\u001b[0m\n\u001b[1;32m   1534\u001b[0m     \u001b[0;32mdef\u001b[0m \u001b[0m_call_impl\u001b[0m\u001b[0;34m(\u001b[0m\u001b[0mself\u001b[0m\u001b[0;34m,\u001b[0m \u001b[0;34m*\u001b[0m\u001b[0margs\u001b[0m\u001b[0;34m,\u001b[0m \u001b[0;34m**\u001b[0m\u001b[0mkwargs\u001b[0m\u001b[0;34m)\u001b[0m\u001b[0;34m:\u001b[0m\u001b[0;34m\u001b[0m\u001b[0;34m\u001b[0m\u001b[0m\n",
      "\u001b[0;32m~/.local/lib/python3.10/site-packages/torch/nn/modules/module.py\u001b[0m in \u001b[0;36m_call_impl\u001b[0;34m(self, *args, **kwargs)\u001b[0m\n\u001b[1;32m   1539\u001b[0m                 \u001b[0;32mor\u001b[0m \u001b[0m_global_backward_pre_hooks\u001b[0m \u001b[0;32mor\u001b[0m \u001b[0m_global_backward_hooks\u001b[0m\u001b[0;34m\u001b[0m\u001b[0;34m\u001b[0m\u001b[0m\n\u001b[1;32m   1540\u001b[0m                 or _global_forward_hooks or _global_forward_pre_hooks):\n\u001b[0;32m-> 1541\u001b[0;31m             \u001b[0;32mreturn\u001b[0m \u001b[0mforward_call\u001b[0m\u001b[0;34m(\u001b[0m\u001b[0;34m*\u001b[0m\u001b[0margs\u001b[0m\u001b[0;34m,\u001b[0m \u001b[0;34m**\u001b[0m\u001b[0mkwargs\u001b[0m\u001b[0;34m)\u001b[0m\u001b[0;34m\u001b[0m\u001b[0;34m\u001b[0m\u001b[0m\n\u001b[0m\u001b[1;32m   1542\u001b[0m \u001b[0;34m\u001b[0m\u001b[0m\n\u001b[1;32m   1543\u001b[0m         \u001b[0;32mtry\u001b[0m\u001b[0;34m:\u001b[0m\u001b[0;34m\u001b[0m\u001b[0;34m\u001b[0m\u001b[0m\n",
      "\u001b[0;32m~/.local/lib/python3.10/site-packages/whisper/model.py\u001b[0m in \u001b[0;36mforward\u001b[0;34m(self, x)\u001b[0m\n\u001b[1;32m     35\u001b[0m \u001b[0;32mclass\u001b[0m \u001b[0mLinear\u001b[0m\u001b[0;34m(\u001b[0m\u001b[0mnn\u001b[0m\u001b[0;34m.\u001b[0m\u001b[0mLinear\u001b[0m\u001b[0;34m)\u001b[0m\u001b[0;34m:\u001b[0m\u001b[0;34m\u001b[0m\u001b[0;34m\u001b[0m\u001b[0m\n\u001b[1;32m     36\u001b[0m     \u001b[0;32mdef\u001b[0m \u001b[0mforward\u001b[0m\u001b[0;34m(\u001b[0m\u001b[0mself\u001b[0m\u001b[0;34m,\u001b[0m \u001b[0mx\u001b[0m\u001b[0;34m:\u001b[0m \u001b[0mTensor\u001b[0m\u001b[0;34m)\u001b[0m \u001b[0;34m->\u001b[0m \u001b[0mTensor\u001b[0m\u001b[0;34m:\u001b[0m\u001b[0;34m\u001b[0m\u001b[0;34m\u001b[0m\u001b[0m\n\u001b[0;32m---> 37\u001b[0;31m         return F.linear(\n\u001b[0m\u001b[1;32m     38\u001b[0m             \u001b[0mx\u001b[0m\u001b[0;34m,\u001b[0m\u001b[0;34m\u001b[0m\u001b[0;34m\u001b[0m\u001b[0m\n\u001b[1;32m     39\u001b[0m             \u001b[0mself\u001b[0m\u001b[0;34m.\u001b[0m\u001b[0mweight\u001b[0m\u001b[0;34m.\u001b[0m\u001b[0mto\u001b[0m\u001b[0;34m(\u001b[0m\u001b[0mx\u001b[0m\u001b[0;34m.\u001b[0m\u001b[0mdtype\u001b[0m\u001b[0;34m)\u001b[0m\u001b[0;34m,\u001b[0m\u001b[0;34m\u001b[0m\u001b[0;34m\u001b[0m\u001b[0m\n",
      "\u001b[0;31mKeyboardInterrupt\u001b[0m: "
     ]
    }
   ],
   "source": [
    "# import whisper\n",
    "\n",
    "model = whisper.load_model(\"base\")\n",
    "\n",
    "# load audio and pad/trim it to fit 30 seconds\n",
    "audio = whisper.load_audio(\"stream4.mp3\")\n",
    "audio = whisper.pad_or_trim(audio)\n",
    "\n",
    "# make log-Mel spectrogram and move to the same device as the model\n",
    "mel = whisper.log_mel_spectrogram(audio).to(model.device)\n",
    "\n",
    "# detect the spoken language\n",
    "_, probs = model.detect_language(mel)\n",
    "print(f\"Detected language: {max(probs, key=probs.get)}\")\n",
    "\n",
    "# decode the audio\n",
    "options = whisper.DecodingOptions()\n",
    "result = whisper.decode(model, mel, options)\n",
    "\n",
    "# print the recognized text\n",
    "print(result.text)"
   ]
  },
  {
   "cell_type": "code",
   "execution_count": null,
   "id": "f0cbb2d1",
   "metadata": {},
   "outputs": [],
   "source": []
  },
  {
   "cell_type": "code",
   "execution_count": null,
   "id": "629b68ae",
   "metadata": {},
   "outputs": [
    {
     "name": "stdout",
     "output_type": "stream",
     "text": [
      "^C\n",
      "\u001b[31mERROR: Operation cancelled by user\u001b[0m\u001b[31m\n",
      "\u001b[0m"
     ]
    }
   ],
   "source": [
    "!pip3 install torchaudio omegaconf\n"
   ]
  },
  {
   "cell_type": "code",
   "execution_count": 1,
   "id": "080dc3b9",
   "metadata": {},
   "outputs": [],
   "source": [
    "import torch\n",
    "from omegaconf import OmegaConf"
   ]
  },
  {
   "cell_type": "code",
   "execution_count": 2,
   "id": "858517c2",
   "metadata": {},
   "outputs": [],
   "source": [
    "\n",
    "torch.hub.download_url_to_file('https://raw.githubusercontent.com/snakers4/silero-models/master/models.yml',\n",
    "                               'latest_silero_models.yml',\n",
    "                               progress=False)\n",
    "models = OmegaConf.load('latest_silero_models.yml')"
   ]
  },
  {
   "cell_type": "code",
   "execution_count": 3,
   "id": "7216ff01",
   "metadata": {},
   "outputs": [
    {
     "name": "stderr",
     "output_type": "stream",
     "text": [
      "Using cache found in /home/edward/.cache/torch/hub/snakers4_silero-models_master\n"
     ]
    }
   ],
   "source": [
    "language = 'ru'\n",
    "model_id = 'v4_ru'\n",
    "device = torch.device('cpu')\n",
    "\n",
    "model, example_text = torch.hub.load(repo_or_dir='snakers4/silero-models',\n",
    "                                     model='silero_tts',\n",
    "                                     language=language,\n",
    "                                     speaker=model_id)\n",
    "model.to(device)  # gpu or cpu"
   ]
  },
  {
   "cell_type": "code",
   "execution_count": 4,
   "id": "742e824e",
   "metadata": {},
   "outputs": [
    {
     "data": {
      "text/plain": [
       "['aidar', 'baya', 'kseniya', 'xenia', 'eugene', 'random']"
      ]
     },
     "execution_count": 4,
     "metadata": {},
     "output_type": "execute_result"
    }
   ],
   "source": [
    "model.speakers"
   ]
  },
  {
   "cell_type": "code",
   "execution_count": 5,
   "id": "0a387981",
   "metadata": {},
   "outputs": [],
   "source": [
    "sample_rate = 48000\n",
    "speaker = 'eugene'\n",
    "put_accent=True\n",
    "put_yo=True\n",
    "# example_text = 'В недрах тундры выдры в г+етрах т+ырят в вёдра ядра к+едров.'\n",
    "example_text = 'Здравствуйте! Сегодняшнюю лекци будет вест+и нейронная сеть.'\n",
    "\n",
    "audio = model.apply_tts(text=example_text,\n",
    "                        speaker=speaker,\n",
    "                        sample_rate=sample_rate,\n",
    "                        put_accent=put_accent,\n",
    "                        put_yo=put_yo)\n"
   ]
  },
  {
   "cell_type": "code",
   "execution_count": 6,
   "id": "8d1ae5dd",
   "metadata": {},
   "outputs": [],
   "source": [
    "from pydub import AudioSegment\n",
    "from pydub.playback import play"
   ]
  },
  {
   "cell_type": "code",
   "execution_count": 7,
   "id": "892888ff",
   "metadata": {},
   "outputs": [
    {
     "name": "stderr",
     "output_type": "stream",
     "text": [
      "ALSA lib pcm_dmix.c:1032:(snd_pcm_dmix_open) unable to open slave\n",
      "ALSA lib pcm.c:2664:(snd_pcm_open_noupdate) Unknown PCM cards.pcm.rear\n",
      "ALSA lib pcm.c:2664:(snd_pcm_open_noupdate) Unknown PCM cards.pcm.center_lfe\n",
      "ALSA lib pcm.c:2664:(snd_pcm_open_noupdate) Unknown PCM cards.pcm.side\n",
      "ALSA lib pcm_route.c:877:(find_matching_chmap) Found no matching channel map\n",
      "ALSA lib pcm_oss.c:397:(_snd_pcm_oss_open) Cannot open device /dev/dsp\n",
      "ALSA lib pcm_oss.c:397:(_snd_pcm_oss_open) Cannot open device /dev/dsp\n",
      "ALSA lib confmisc.c:160:(snd_config_get_card) Invalid field card\n",
      "ALSA lib pcm_usb_stream.c:482:(_snd_pcm_usb_stream_open) Invalid card 'card'\n",
      "ALSA lib confmisc.c:160:(snd_config_get_card) Invalid field card\n",
      "ALSA lib pcm_usb_stream.c:482:(_snd_pcm_usb_stream_open) Invalid card 'card'\n",
      "ALSA lib pcm_dmix.c:1032:(snd_pcm_dmix_open) unable to open slave\n",
      "ALSA lib pcm.c:8568:(snd_pcm_recover) underrun occurred\n"
     ]
    }
   ],
   "source": [
    "audio_segment = AudioSegment(\n",
    "    audio.detach().numpy().tobytes(), \n",
    "    frame_rate=sample_rate, # 44100\n",
    "    sample_width=4, \n",
    "    channels=1\n",
    ")\n",
    "\n",
    "play(audio_segment)"
   ]
  },
  {
   "cell_type": "code",
   "execution_count": null,
   "id": "133be12a-75c3-4a9d-85e3-813f65f6eba6",
   "metadata": {},
   "outputs": [],
   "source": []
  }
 ],
 "metadata": {
  "kernelspec": {
   "display_name": "Python 3 (ipykernel)",
   "language": "python",
   "name": "python3"
  },
  "language_info": {
   "codemirror_mode": {
    "name": "ipython",
    "version": 3
   },
   "file_extension": ".py",
   "mimetype": "text/x-python",
   "name": "python",
   "nbconvert_exporter": "python",
   "pygments_lexer": "ipython3",
   "version": "3.10.12"
  }
 },
 "nbformat": 4,
 "nbformat_minor": 5
}
