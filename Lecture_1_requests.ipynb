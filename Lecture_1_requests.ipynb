{
 "cells": [
  {
   "cell_type": "markdown",
   "metadata": {},
   "source": [
    "Давайте решим следующую задачу.<br>\n",
    "Необходимо написать робота, который будет скачивать новости с сайта Лента.Ру и фильтровать их в зависимости от интересов пользователя. От пользователя требуется отмечать интересующие его новости, по которым система будет выделять области его интересов.<br>\n"
   ]
  },
  {
   "cell_type": "markdown",
   "metadata": {},
   "source": [
    "Начнем с загрузки новостей. Для этого нам потребуется метод requests.get(url). Библиотека requests предоставляет серьезные возможности для загрузки информации из Интернет. Метод get получает URL стараницы и возвращает ее содержимое. В нашем случае результат будет получаться в формате html. <br>\n",
    "Загрузим необходимые библиотеки."
   ]
  },
  {
   "cell_type": "code",
   "execution_count": 1,
   "metadata": {},
   "outputs": [],
   "source": [
    "import requests # Загрузка новостей с сайта.\n",
    "from bs4 import BeautifulSoup # Превращалка html в текст.\n",
    "import re # Регулярные выражения."
   ]
  },
  {
   "cell_type": "markdown",
   "metadata": {},
   "source": [
    "Теперь попробуем загрузить страницу новостей."
   ]
  },
  {
   "cell_type": "code",
   "execution_count": 2,
   "metadata": {
    "scrolled": true
   },
   "outputs": [
    {
     "data": {
      "text/plain": [
       "<Response [200]>"
      ]
     },
     "execution_count": 2,
     "metadata": {},
     "output_type": "execute_result"
    }
   ],
   "source": [
    "# Для пробы получаем первую страницу сайта.\n",
    "requests.get(\"https://lenta.ru/\")"
   ]
  },
  {
   "cell_type": "markdown",
   "metadata": {},
   "source": [
    "Метод <i>requests.get()</i> возвращает объект Response, который содержит большое количество различной информации о загруженной (или незагруженной) странице. В краткой форме отображается только результат выполения запроса. В нашем случае это 200, нет ошибки.<br> \n",
    "Посмотрим что результат содержит еще."
   ]
  },
  {
   "cell_type": "code",
   "execution_count": 3,
   "metadata": {},
   "outputs": [],
   "source": [
    "resp = requests.get(\"https://lenta.ru/news/2018/08/24/clon/\")"
   ]
  },
  {
   "cell_type": "code",
   "execution_count": 4,
   "metadata": {
    "tags": []
   },
   "outputs": [
    {
     "data": {
      "text/plain": [
       "['__attrs__',\n",
       " '__bool__',\n",
       " '__class__',\n",
       " '__delattr__',\n",
       " '__dict__',\n",
       " '__dir__',\n",
       " '__doc__',\n",
       " '__enter__',\n",
       " '__eq__',\n",
       " '__exit__',\n",
       " '__format__',\n",
       " '__ge__',\n",
       " '__getattribute__',\n",
       " '__getstate__',\n",
       " '__gt__',\n",
       " '__hash__',\n",
       " '__init__',\n",
       " '__init_subclass__',\n",
       " '__iter__',\n",
       " '__le__',\n",
       " '__lt__',\n",
       " '__module__',\n",
       " '__ne__',\n",
       " '__new__',\n",
       " '__nonzero__',\n",
       " '__reduce__',\n",
       " '__reduce_ex__',\n",
       " '__repr__',\n",
       " '__setattr__',\n",
       " '__setstate__',\n",
       " '__sizeof__',\n",
       " '__str__',\n",
       " '__subclasshook__',\n",
       " '__weakref__',\n",
       " '_content',\n",
       " '_content_consumed',\n",
       " '_next',\n",
       " 'apparent_encoding',\n",
       " 'close',\n",
       " 'connection',\n",
       " 'content',\n",
       " 'cookies',\n",
       " 'elapsed',\n",
       " 'encoding',\n",
       " 'headers',\n",
       " 'history',\n",
       " 'is_permanent_redirect',\n",
       " 'is_redirect',\n",
       " 'iter_content',\n",
       " 'iter_lines',\n",
       " 'json',\n",
       " 'links',\n",
       " 'next',\n",
       " 'ok',\n",
       " 'raise_for_status',\n",
       " 'raw',\n",
       " 'reason',\n",
       " 'request',\n",
       " 'status_code',\n",
       " 'text',\n",
       " 'url']"
      ]
     },
     "execution_count": 4,
     "metadata": {},
     "output_type": "execute_result"
    }
   ],
   "source": [
    "dir(resp)"
   ]
  },
  {
   "cell_type": "code",
   "execution_count": 5,
   "metadata": {},
   "outputs": [
    {
     "name": "stdout",
     "output_type": "stream",
     "text": [
      "cookies: <RequestsCookieJar[<Cookie lid=vAsAACoiG2i7QdSFAV3cAgB= for .lenta.ru/>, <Cookie lids=482641BBC88A7238 for .lenta.ru/>]>\n",
      "time to download: 0:00:00.179992\n",
      "page encoding utf-8\n",
      "Server response:  200\n",
      "Is everything ok?  True\n",
      "Page's URL:  https://lenta.ru/news/2018/08/24/clon/\n",
      "CPU times: user 41.8 ms, sys: 2.12 ms, total: 43.9 ms\n",
      "Wall time: 182 ms\n"
     ]
    }
   ],
   "source": [
    "%%time\n",
    "# %%time - Магия Jupyter - замеряет время выполнения ячейки. Должно быть первой строчкой в ячейке.\n",
    "resp = requests.get(\"https://lenta.ru/news/2018/08/24/clon/\")\n",
    "print(\"cookies:\", resp.cookies)\n",
    "print(\"time to download:\", resp.elapsed)\n",
    "print(\"page encoding\", resp.encoding)\n",
    "print(\"Server response: \", resp.status_code)\n",
    "print(\"Is everything ok? \", resp.ok)\n",
    "print(\"Page's URL: \", resp.url)"
   ]
  },
  {
   "cell_type": "code",
   "execution_count": 6,
   "metadata": {},
   "outputs": [
    {
     "name": "stdout",
     "output_type": "stream",
     "text": [
      "<Cookie lid=vAsAACoiG2i7QdSFAV3cAgB= for .lenta.ru/>\n",
      "<Cookie lids=482641BBC88A7238 for .lenta.ru/>\n"
     ]
    }
   ],
   "source": [
    "for c in resp.cookies:\n",
    "    print(c)"
   ]
  },
  {
   "cell_type": "markdown",
   "metadata": {},
   "source": [
    "Но самое для нас интересное хранится в поле <i>text</i>, которое содержит собственно текст html-страницы."
   ]
  },
  {
   "cell_type": "code",
   "execution_count": 7,
   "metadata": {},
   "outputs": [
    {
     "data": {
      "text/plain": [
       "'<!DOCTYPE html><html lang=\"ru\"><head><title>В Сибири нашли подходящих для клонирования древних животных: Наука: Наука и техника: Lenta.ru</title><meta charset=\"utf-8\" /><meta content=\"#292929\" name=\"theme-color\" /><link href=\"https://lenta.ru/rss/google-newsstand/main/\" rel=\"alternate\" type=\"application/rss+xml\" /><link href=\"https://lenta.ru/news/2018/08/24/clon/\" rel=\"canonical\" /><link href=\"/manifest.json\" rel=\"manifest\" /><link rel=\"icon\" type=\"image/x-icon\" href=\"https://icdn.lenta.ru/favicon.ico\" /><link rel=\"apple-touch-icon\" type=\"image/x-icon\" href=\"https://icdn.lenta.ru/images/icons/icon-256x256.png\" size=\"256x256\" /><link rel=\"apple-touch-icon\" type=\"image/x-icon\" href=\"https://icdn.lenta.ru/images/icons/icon-192x192.png\" size=\"192x192\" /><link rel=\"apple-touch-icon\" type=\"image/x-icon\" href=\"https://icdn.lenta.ru/images/icons/icon-152x152.png\" size=\"152x152\" /><link rel=\"apple-touch-icon\" type=\"image/x-icon\" href=\"https://icdn.lenta.ru/images/icons/icon-120x120.png\" size=\"'"
      ]
     },
     "execution_count": 7,
     "metadata": {},
     "output_type": "execute_result"
    }
   ],
   "source": [
    "#Берем первые 1000 символов новости.\n",
    "resp.text[:1000]"
   ]
  },
  {
   "cell_type": "markdown",
   "metadata": {},
   "source": [
    "Количество служебной информации в странице явно превышает объем текста новости. У нас есть два пути: либо использовать библиотеку BeautyfulSoup для получения текста статьи, либо получить текст с использованием регулярных выражений.\n",
    "\n",
    "Опробуем первый путь. Документация на библиотеку BeautyfulSoup находится <a href=\"https://www.crummy.com/software/BeautifulSoup/bs4/doc/\">здесь</a>.\n",
    "\n",
    "В ячейке ниже мы создаем объект BeautifulSoup, передаем в него текст html-страницы и сообщаем, что разбирать его надо при помощи библиотеки `html5lib`. Далее просим отдать текст страницы без html-тегов."
   ]
  },
  {
   "cell_type": "code",
   "execution_count": 8,
   "metadata": {
    "tags": []
   },
   "outputs": [
    {
     "data": {
      "text/plain": [
       "'В Сибири нашли подходящих для клонирования древних животных: Наука: Наука и техника: Lenta.ru{\"@context\":\"http://schema.org\",\"@type\":\"NewsArticle\",\"headline\":\"В Сибири нашли подходящих для клонирования древних животных\",\"description\":\"Палеонтологи обнаружили в Якутии тушу жеребенка, возраст которой достигает 30-40 тысяч лет, а также останки мамонта с мягкими тканями. Специалисты отмечают хорошее состояние тела лошади, пролежавшей в вечной мерзлоте. Подобные находки имеют большое количество сохранившейся ДНК, которая подходит для клонирования.\",\"name\":\"В Сибири нашли подходящих для клонирования древних животных\",\"alternativeHeadline\":\"\",\"url\":\"https://lenta.ru/news/2018/08/24/clon/\",\"mainEntityOfPage\":{\"@type\":\"WebPage\",\"@id\":\"https://lenta.ru/news/2018/08/24/clon/\"},\"thumbnailUrl\":\"https://icdn.lenta.ru/images/2018/08/24/13/20180824130540171/detail_fb4ef24e26e8448a2a23747f000a4489.jpg\",\"dateCreated\":\"2018-08-24T15:22:00+03:00\",\"datePublished\":\"2018-08-24T15:22:00+03:00\",\"dateModified\":'"
      ]
     },
     "execution_count": 8,
     "metadata": {},
     "output_type": "execute_result"
    }
   ],
   "source": [
    "BeautifulSoup(resp.text, \"html5lib\").get_text()[:1000]"
   ]
  },
  {
   "cell_type": "markdown",
   "metadata": {},
   "source": [
    "Да, убрать html-теги получилось. Но их содержимое осталось, в том числе и скрипты.<br>\n",
    "Опробуем другой путь. Весь текст обычно оформляется тегом параграфа - &lt;p&gt;. Выберем весь текст из этих тегов. Заодно выберем и заголовок статьи, оформленный при помощи \\<h1\\>."
   ]
  },
  {
   "cell_type": "code",
   "execution_count": 9,
   "metadata": {
    "scrolled": true
   },
   "outputs": [
    {
     "name": "stdout",
     "output_type": "stream",
     "text": [
      "В Сибири нашли подходящих для клонирования древних животных \n",
      "-----\n",
      " Фото: AP\n",
      "Российские палеонтологи обнаружили в Якутии тушу жеребенка, возраст которой достигает 30-40 тысяч лет, а также останки мамонта с мягкими тканями. Об этом сообщается в пресс-релизе на Phys.org.\n",
      "Специалисты отмечают хорошее состояние тела лошади, пролежавшей в вечной мерзлоте. Таким образом, находка является потенциально пригодной для клонирования животного.\n",
      "У найденного ископаемого, относящегося к вымершему виду Equus lenensis, сохранились кожа, шерсть, копыта, хвост и внутренние органы. Возраст жеребенка на момент смерти составлял примерно 2-3 месяца. Причиной смерти, вероятно, является попадание в какую-то «ловушку» естественного происхождения, поскольку видимых повреждений на теле не было.\n",
      "У трупа были взяты образцы шерсти и биологических жидкостей для тщательного генетического анализа. По словам исследователей, на данный момент это самые хорошо сохранившиеся из всех останков древних лошадей.\n",
      "В 2015 году в Якутии палеонтологи нашли хорошо сохранившиеся останки двух пещерных львят. Тогда ученые заинтересовались возможностью клонирования древних животных из тканей, «законсервированных» в вечной мерзлоте.\n",
      "[<p class=\"description__credits\">Фото: AP</p>, <p class=\"topic-body__content-text\">Российские палеонтологи обнаружили в Якутии тушу жеребенка, возраст которой достигает 30-40 тысяч лет, а также останки мамонта с мягкими тканями. Об этом сообщается в пресс-релизе на <a href=\"https://phys.org/news/2018-08-scientists-perfectly-ancient-foal-siberia.html\" target=\"_blank\">Phys.org</a>.</p>, <p class=\"topic-body__content-text\">Специалисты отмечают хорошее состояние тела лошади, пролежавшей в вечной мерзлоте. Таким образом, находка является потенциально пригодной для клонирования животного.</p>, <p class=\"topic-body__content-text\">У найденного ископаемого, относящегося к вымершему виду Equus lenensis, сохранились кожа, шерсть, копыта, хвост и внутренние органы. Возраст жеребенка на момент смерти составлял примерно 2-3 месяца. Причиной смерти, вероятно, является попадание в какую-то «ловушку» естественного происхождения, поскольку видимых повреждений на теле не было.</p>, <p class=\"topic-body__content-text\">У трупа были взяты образцы шерсти и биологических жидкостей для тщательного генетического анализа. По словам исследователей, на данный момент это самые хорошо сохранившиеся из всех останков древних лошадей.</p>, <p class=\"topic-body__content-text\">В 2015 году в Якутии палеонтологи <a href=\"https://www.sciencealert.com/extinct-cave-lion-found-siberia-ice-age-perfect-condition\" target=\"_blank\">нашли</a> хорошо сохранившиеся останки двух пещерных львят. Тогда ученые заинтересовались возможностью клонирования древних животных из тканей, «законсервированных» в вечной мерзлоте.</p>]\n"
     ]
    }
   ],
   "source": [
    "# Получили объект BeautifulSoup и скормили ему текст страницы.\n",
    "bs = BeautifulSoup(resp.text, \"html5lib\") \n",
    "# Вот таким образом можно попросить отдать первый тег, отмеченный как h1. Вместо h1 можно написать любой другой тег.\n",
    "title = bs.h1.text\n",
    "# Получаем все параграфы (тег p), берем их текст без тегов и склеиваем в один текст.\n",
    "text = \"\\n\".join([p.text for p in bs.find_all(\"p\")])\n",
    "print(title, \"\\n-----\\n\", text)\n",
    "print(bs(\"p\"))"
   ]
  },
  {
   "cell_type": "code",
   "execution_count": null,
   "metadata": {},
   "outputs": [],
   "source": []
  },
  {
   "cell_type": "markdown",
   "metadata": {},
   "source": [
    "Теперь напишем функцию, которая выгружает все новости за сутки. <br>\n",
    "Обратим внимание, что для сайта Lenta.ru можно написать адрес в формате lenta.ru/ГГГГ/ММ/ДД/ (год, месяц, день) и получить все новости за этот день. Попробуем получить все адреса с такой страницы."
   ]
  },
  {
   "cell_type": "code",
   "execution_count": 10,
   "metadata": {
    "scrolled": true,
    "tags": []
   },
   "outputs": [
    {
     "data": {
      "text/plain": [
       "[<a class=\"menu__nav-link _is-extra\" href=\"/\">Главное</a>,\n",
       " <a class=\"menu__nav-link _is-extra\" href=\"/rubrics/russia/\">Россия</a>,\n",
       " <a class=\"menu__nav-link _is-extra\" href=\"/rubrics/world/\">Мир</a>,\n",
       " <a class=\"menu__nav-link _is-extra\" href=\"/rubrics/ussr/\">Бывший СССР</a>,\n",
       " <a class=\"menu__nav-link _is-extra\" href=\"/rubrics/economics/\">Экономика</a>,\n",
       " <a class=\"menu__nav-link _is-extra\" href=\"/rubrics/forces/\">Силовые структуры</a>,\n",
       " <a class=\"menu__nav-link _is-extra\" href=\"/rubrics/science/\">Наука и техника</a>,\n",
       " <a class=\"menu__nav-link _is-extra\" href=\"/rubrics/culture/\">Культура</a>,\n",
       " <a class=\"menu__nav-link _is-extra\" href=\"/rubrics/sport/\">Спорт</a>,\n",
       " <a class=\"menu__nav-link _is-extra\" href=\"/rubrics/media/\">Интернет и СМИ</a>,\n",
       " <a class=\"menu__nav-link _is-extra\" href=\"/rubrics/style/\">Ценности </a>,\n",
       " <a class=\"menu__nav-link _is-extra\" href=\"/rubrics/travel/\">Путешествия</a>,\n",
       " <a class=\"menu__nav-link _is-extra\" href=\"/rubrics/life/\">Из жизни</a>,\n",
       " <a class=\"menu__nav-link _is-extra\" href=\"/rubrics/realty/\">Среда обитания</a>,\n",
       " <a class=\"menu__nav-link _is-extra\" href=\"/rubrics/wellness/\">Забота о себе</a>,\n",
       " <a class=\"menu__nav-link _is-extra\" href=\"/rubrics/pobeda80/\">Победа</a>,\n",
       " <a aria-label=\"Открыть Вконтакте\" class=\"social-links__link\" href=\"https://vk.com/lentaru?utm_source=lentasocialbuttons&amp;utm_campaign=vk\" rel=\"noreferrer\" target=\"_blank\"><svg class=\"social-links__icon _vk\"><use xlink:href=\"#ui-social-vk\"></use></svg></a>,\n",
       " <a aria-label=\"Открыть Телеграм\" class=\"social-links__link\" href=\"https://t.me/lentadnya/?utm_source=lentasocialbuttons&amp;utm_campaign=tlgrm\" rel=\"noreferrer\" target=\"_blank\"><svg class=\"social-links__icon _tg\"><use xlink:href=\"#ui-social-tg\"></use></svg></a>,\n",
       " <a aria-label=\"Открыть Твиттер\" class=\"social-links__link\" href=\"https://twitter.com/lentaruofficial?utm_source=lentasocialbuttons&amp;utm_campaign=tw\" rel=\"noreferrer\" target=\"_blank\"><svg class=\"social-links__icon _tw\"><use xlink:href=\"#ui-social-tw\"></use></svg></a>,\n",
       " <a aria-label=\"Открыть Одноклассники\" class=\"social-links__link\" href=\"https://ok.ru/lentaru/?utm_source=lentasocialbuttons&amp;utm_campaign=ok\" rel=\"noreferrer\" target=\"_blank\"><svg class=\"social-links__icon _ok\"><use xlink:href=\"#ui-social-ok\"></use></svg></a>]"
      ]
     },
     "execution_count": 10,
     "metadata": {},
     "output_type": "execute_result"
    }
   ],
   "source": [
    "# Идем на страницу, получаем ее текст, отдаем в BeautifulSoup, ищем все теги ссылок - а.\n",
    "BeautifulSoup(requests.get(\"http://lenta.ru/2018/08/25/\").text, \"html5lib\").find_all(\"a\")[:20]"
   ]
  },
  {
   "cell_type": "markdown",
   "metadata": {},
   "source": [
    "Кажется, это опять немного не то, что нам нужно. Мы получили все ссылки, находящиеся на боковом меню, ссылки на события сегодняшнего дня и другие ненужные нам вещи. <br>\n",
    "Смотрим в содержимое html-страницы и обращаем внимание, что все интересные нам ссылки оформлены как заголовки третьего уровня - &lt;h3&gt;. Извлечем все такие фрагменты, а потом извлечем собственно адреса, помеченные атрибутом href тега &lt;a&gt;."
   ]
  },
  {
   "cell_type": "code",
   "execution_count": 11,
   "metadata": {},
   "outputs": [
    {
     "name": "stdout",
     "output_type": "stream",
     "text": [
      "['https://lenta.ru/news/2018/08/25/potomu/', 'https://lenta.ru/news/2018/08/25/rastvorova/', 'https://lenta.ru/news/2018/08/25/razvedka/', 'https://lenta.ru/news/2018/08/25/poezd/', 'https://lenta.ru/news/2018/08/25/bolton/', 'https://lenta.ru/news/2018/08/25/nur/', 'https://lenta.ru/news/2018/08/25/firetornado/', 'https://lenta.ru/news/2018/08/25/drake/', 'https://lenta.ru/news/2018/08/25/merkel/', 'https://lenta.ru/news/2018/08/25/serena/', 'https://lenta.ru/news/2018/08/25/python/', 'https://lenta.ru/news/2018/08/25/ukrain/', 'https://lenta.ru/news/2018/08/25/vsetaki_pustili/', 'https://lenta.ru/news/2018/08/25/boycott_curtis/', 'https://lenta.ru/news/2018/08/25/twitterrr/', 'https://lenta.ru/news/2018/08/25/milliardy/', 'https://lenta.ru/news/2018/08/25/otrajenie/', 'https://lenta.ru/news/2018/08/25/dope_ioc/', 'https://lenta.ru/news/2018/08/25/edro/', 'https://lenta.ru/news/2018/08/25/galaktika_v_opasnosti/', 'https://lenta.ru/news/2018/08/25/seady_steady/', 'https://lenta.ru/news/2018/08/25/nurma/']\n"
     ]
    }
   ],
   "source": [
    "# Теперь выделим только то, что взято в тег h3.\n",
    "beau = BeautifulSoup(requests.get(\"http://lenta.ru/2018/08/25/\").text, \"html5lib\")\n",
    "tags = beau.find_all(\"a\", attrs={'class': 'card-full-news'})\n",
    "# Формируем список ссылок. Для этого берем первую (кстати, единственную) ссылку из каждого выделенного\n",
    "# фрагмента, у нее берем значение параметра href. Так как ссылки внутренние, добавляем к ним адрес сайта.\n",
    "links = [\"https://lenta.ru\"+l[\"href\"] for l in tags]\n",
    "print(links)"
   ]
  },
  {
   "cell_type": "markdown",
   "metadata": {},
   "source": [
    "Если теперь написать функцию, которая будет перебирать все адреса и получать из них тексты новостей, то мы получим все новости за определенные сутки. Но это мы сделаем чть позже, а пока просто оформим код загрузки статьи в виде функции."
   ]
  },
  {
   "cell_type": "code",
   "execution_count": 13,
   "metadata": {},
   "outputs": [],
   "source": [
    "# Загрузка статьи по URL.\n",
    "def getOneLentaArticle(url):\n",
    "    \"\"\" getLentaArticle gets the body of an article from Lenta.ru\"\"\"\n",
    "    # Получает текст страницы.\n",
    "    resp=requests.get(url)\n",
    "    # Загружаем текст в объект типа BeautifulSoup.\n",
    "    bs=BeautifulSoup(resp.text, \"html5lib\") \n",
    "    # Получаем заголовок статьи.\n",
    "    aTitle=bs.h1.text.replace(\"\\xa0\", \" \")\n",
    "    # Получаем текст статьи.\n",
    "    anArticle=BeautifulSoup(\" \".join([p.text for p in bs.find_all(\"p\")]), \"html5lib\").get_text().replace(\"\\xa0\", \" \")\n",
    "    # Возвращаем кортеж из заголовка и текста статьи.\n",
    "    return aTitle, anArticle\n"
   ]
  },
  {
   "cell_type": "markdown",
   "metadata": {},
   "source": [
    "### XPath\n",
    "[Ссылка 1](https://habr.com/ru/post/526774/)\n",
    "\n",
    "[Ссылка 2](https://habr.com/ru/post/464897/)\n",
    "\n",
    "А теперь сделаем то же самое при помощи XPath."
   ]
  },
  {
   "cell_type": "code",
   "execution_count": 14,
   "metadata": {},
   "outputs": [],
   "source": [
    "from lxml import html"
   ]
  },
  {
   "cell_type": "code",
   "execution_count": 15,
   "metadata": {},
   "outputs": [],
   "source": [
    "page = requests.get('https://lenta.ru/news/2021/02/27/apple_effect/')"
   ]
  },
  {
   "cell_type": "code",
   "execution_count": 23,
   "metadata": {},
   "outputs": [
    {
     "name": "stdout",
     "output_type": "stream",
     "text": [
      "Обнаружен неожиданный эффект от употребления яблок\n",
      "15:35, 27 февраля 2021\n",
      "Соня Кошечкина (Редактор) \n",
      "\n",
      "Ученые из Университета Квинсленда и Немецкого центра нейродегенеративных заболеваний  обнаружили неожиданный эффект от употребления яблок. Опыты проводились на мышах. Специалисты культивировали стволовые клетки мозга взрослых мышей и добавляли в них содержащиеся в яблоках фитонутриенты. \n",
      "\n",
      "Ученые из Университета Квинсленда и Немецкого центра нейродегенеративных заболеваний обнаружили неожиданный эффект от употребления яблок. Результаты исследования появились в научном журнале Stem Cell Reports.\n",
      "Опыты проводились на мышах. Специалисты культивировали стволовые клетки мозга взрослых мышей и добавляли в них содержащиеся в яблоках фитонутриенты. Исследование показало, что высокая концентрация фитонутриентов способствует образованию новых нейронов.\n",
      "По словам ученых, определенные фитонутриенты положительно влияют на работу органов, в том числе мозга. Выяснилось, что они оказывают на организм тот же эффект, что и физическая активность, которая также стимулирует нейрогенез.\n",
      "Ранее ученые из Технологического университета австрийского Граца выяснили, что большинство людей неправильно едят яблоки. Исследователи утверждают, что до 90 процентов полезных веществ сосредоточены в сердцевине этого фрукта, и поэтому яблоко желательно съедать вместе с огрызком.\n"
     ]
    }
   ],
   "source": [
    "tree = html.fromstring(page.text)\n",
    "print(tree.xpath(\".//h1\")[0].text_content())\n",
    "print(tree.xpath(\".//a[contains(@class, 'topic-header__time')]\")[0].text_content().strip())\n",
    "print(tree.xpath(\".//div[contains(@class, 'topic-authors')]\")[0].text_content().strip(), '\\n')\n",
    "print(tree.xpath(\".//meta[@name='og:description']\")[0].get(\"content\"), '\\n')\n",
    "\n",
    "for p in tree.xpath(\".//div[@class='topic-body__content']/p\"):\n",
    "    print(p.text_content())"
   ]
  },
  {
   "cell_type": "markdown",
   "metadata": {},
   "source": [
    "А теперь та же страница, но через BeautyfulSoup."
   ]
  },
  {
   "cell_type": "code",
   "execution_count": 24,
   "metadata": {},
   "outputs": [
    {
     "name": "stdout",
     "output_type": "stream",
     "text": [
      "Ученые из Университета Квинсленда и Немецкого центра нейродегенеративных заболеваний обнаружили неожиданный эффект от употребления яблок. Результаты исследования появились в научном журнале Stem Cell Reports.\n",
      "Опыты проводились на мышах. Специалисты культивировали стволовые клетки мозга взрослых мышей и добавляли в них содержащиеся в яблоках фитонутриенты. Исследование показало, что высокая концентрация фитонутриентов способствует образованию новых нейронов.\n",
      "По словам ученых, определенные фитонутриенты положительно влияют на работу органов, в том числе мозга. Выяснилось, что они оказывают на организм тот же эффект, что и физическая активность, которая также стимулирует нейрогенез.\n",
      "Ранее ученые из Технологического университета австрийского Граца выяснили, что большинство людей неправильно едят яблоки. Исследователи утверждают, что до 90 процентов полезных веществ сосредоточены в сердцевине этого фрукта, и поэтому яблоко желательно съедать вместе с огрызком.\n"
     ]
    }
   ],
   "source": [
    "souped = BeautifulSoup(page.text)\n",
    "\n",
    "title = souped(\"h1\")[0].get_text()\n",
    "when = souped.find_all(\"a\", attrs={'class': 'topic-header__time'})[0].get_text().strip()\n",
    "author = souped.find_all(\"div\", attrs={'class': 'topic-authors'})[0].get_text()\n",
    "description = souped.find_all(\"meta\", attrs={'name': 'og:description'})[0][\"content\"]\n",
    "\n",
    "for p in souped.find_all(\"div\", attrs={'class': 'topic-body__content'})[0](\"p\", attrs={'class':\"topic-body__content-text\"}): \n",
    "    print(p.get_text())\n",
    "    \n"
   ]
  },
  {
   "cell_type": "code",
   "execution_count": 25,
   "metadata": {},
   "outputs": [
    {
     "data": {
      "text/plain": [
       "('Обнаружен неожиданный эффект от употребления яблок',\n",
       " '15:35, 27 февраля 2021',\n",
       " 'Соня Кошечкина (Редактор)')"
      ]
     },
     "execution_count": 25,
     "metadata": {},
     "output_type": "execute_result"
    }
   ],
   "source": [
    "title, when, author"
   ]
  },
  {
   "cell_type": "markdown",
   "metadata": {},
   "source": [
    "### Cookies\n",
    "\n",
    "Библиотека также позволяет работать с куки. "
   ]
  },
  {
   "cell_type": "code",
   "execution_count": 26,
   "metadata": {},
   "outputs": [
    {
     "name": "stdout",
     "output_type": "stream",
     "text": [
      "<RequestsCookieJar[<Cookie lid=vAsAAM8jG2jVQGezAXzZAgB= for .lenta.ru/>, <Cookie lids=482240D5C8F3C6C8 for .lenta.ru/>]>\n"
     ]
    }
   ],
   "source": [
    "le = requests.get(\"https://lenta.ru\")\n",
    "print(le.cookies)"
   ]
  },
  {
   "cell_type": "code",
   "execution_count": 23,
   "metadata": {},
   "outputs": [
    {
     "data": {
      "text/plain": [
       "Cookie(version=0, name='sdjkfsa', value='123445', port=None, port_specified=False, domain='', domain_specified=False, domain_initial_dot=False, path='/', path_specified=True, secure=False, expires=None, discard=True, comment=None, comment_url=None, rest={'HttpOnly': None}, rfc2109=False)"
      ]
     },
     "execution_count": 23,
     "metadata": {},
     "output_type": "execute_result"
    }
   ],
   "source": [
    "c1 = le.cookies\n",
    "# c1\n",
    "c1.set('sdjkfsa', '123445') \n",
    "# c1"
   ]
  },
  {
   "cell_type": "code",
   "execution_count": 16,
   "metadata": {},
   "outputs": [],
   "source": [
    "coo = requests.cookies.RequestsCookieJar()\n",
    "coo.set(\"asfdasfd\", \"12341234\")\n",
    "res = requests.get(\"https://lenta.ru\", cookies=coo)"
   ]
  },
  {
   "cell_type": "markdown",
   "metadata": {},
   "source": [
    "### Заголовки\n",
    "При работе с http, мы обмениваемся с сервером заголовками. Например, сервер рассказывает свою версию, какого вида данные он нам вернул, какие он поддерживает протоколы."
   ]
  },
  {
   "cell_type": "code",
   "execution_count": 17,
   "metadata": {},
   "outputs": [
    {
     "data": {
      "text/plain": [
       "{'Server': 'nginx', 'Date': 'Mon, 22 Apr 2024 08:49:11 GMT', 'Content-Type': 'text/html; charset=utf-8', 'Transfer-Encoding': 'chunked', 'Connection': 'keep-alive', 'Keep-Alive': 'timeout=50', 'X-Frame-Options': 'SAMEORIGIN', 'X-XSS-Protection': '1; mode=block', 'X-Content-Type-Options': 'nosniff', 'X-Download-Options': 'noopen', 'X-Permitted-Cross-Domain-Policies': 'none', 'Referrer-Policy': 'strict-origin-when-cross-origin', 'P3P': 'CP=\"This Is Potato!\", CP=\"NON DSP NID ADMa DEVa TAIa PSAa PSDa OUR IND UNI COM NAV\"', 'ETag': 'W/\"3148ede84741eed0716be6a6e5206388\"', 'Cache-Control': 'max-age=0, private, must-revalidate', 'X-Request-Id': 'fdf62e20-b253-47f5-9ca3-31d6c7dc7aa6', 'X-Runtime': '0.761965', 'Set-Cookie': 'is_mobile=0; path=/; domain=.lenta.ru, lids=48225E8D8921F996;path=/;Max-Age=1800;domain=.lenta.ru, lid=vAsAAIckJmaNXrKLATOQAwB=; expires=Thu, 31-Dec-37 23:55:55 GMT; domain=.lenta.ru; path=/', 'Access-Control-Allow-Origin': '*', 'Content-Encoding': 'br'}"
      ]
     },
     "execution_count": 17,
     "metadata": {},
     "output_type": "execute_result"
    }
   ],
   "source": [
    "res.headers"
   ]
  },
  {
   "cell_type": "markdown",
   "metadata": {},
   "source": [
    "Мы тоже можем ему передать заголовки с интересной для нас информацией (можно посмотреть в отладочной информации браузера). Например, наша программа может начать представляться другим браузером."
   ]
  },
  {
   "cell_type": "code",
   "execution_count": 47,
   "metadata": {},
   "outputs": [],
   "source": [
    "headers = {'User-Agent': 'Mozilla/5.0 (Windows NT 10.0; WOW64) AppleWebKit/537.36 (KHTML, like Gecko) Chrome/85.0.4183.102 YaBrowser/20.9.3.136 Yowser/2.5 Safari/537.36'}\n",
    "\n",
    "response = requests.get('https://lenta.ru', headers=headers)"
   ]
  },
  {
   "cell_type": "markdown",
   "metadata": {},
   "source": [
    "### А теперь случай посложнее\n",
    "\n",
    "Вот здесь  \n",
    "https://warszawa.wyborcza.pl/warszawa/7,54420,31835524,tak-metro-zmienilo-warszawe-pokazujemy-zdjecia-przed-i-po-budowie.html  \n",
    "народ никак не хочет отдавать страничку. Можно использовать [Selenium](https://selenium-python.readthedocs.io/), он даже не будет открывать окно, если его правильно попросить. Но это будет значительно дороже по нагрузке на процессор и трафику, потому что грузиться будет не только страница, но и всё подряд. С другой стороны, Selenium запускает все скрипты, чтобы получить все оттображаемые данные, или запустить нужный нам скрипт.  \n",
    "Но нам хочется обойтись без него."
   ]
  },
  {
   "cell_type": "code",
   "execution_count": 48,
   "metadata": {},
   "outputs": [
    {
     "data": {
      "text/plain": [
       "[<div id=\"info-adblock\">\n",
       " <h1>Wyłącz AdBlocka/uBlocka</h1>\n",
       " <p class=\"head\">Aby czytać nasze artykuły wyłącz AdBlocka/uBlocka lub dodaj wyjątek dla naszej domeny.</p>\n",
       " <p class=\"lead\">Spokojnie, dodanie wyjątku nie wyłączy blokowania reklam.</p>\n",
       " </div>,\n",
       " <div id=\"info-ups\">\n",
       " <h1>Ups!</h1>\n",
       " <p class=\"lead\">Nieznany błąd - nie można wyświetlić strony</p>\n",
       " </div>,\n",
       " <div class=\"advertHolder adHolder\" id=\"adHolder\" style=\"display: block\"></div>]"
      ]
     },
     "execution_count": 48,
     "metadata": {},
     "output_type": "execute_result"
    }
   ],
   "source": [
    "ww = requests.get(\"https://warszawa.wyborcza.pl/warszawa/7,54420,31835524,tak-metro-zmienilo-warszawe-pokazujemy-zdjecia-przed-i-po-budowie.html\")\n",
    "souped = BeautifulSoup(ww.text)\n",
    "souped(\"div\")[2: 5]"
   ]
  },
  {
   "cell_type": "markdown",
   "metadata": {},
   "source": [
    "Ругается на adBlocker и ничего не показывает. Но в браузере не показывает, то есть дело не в нём. Может бытьт надо вернутьт куки, чтобы они подумали, что мы в браузере, и представиться браузером?"
   ]
  },
  {
   "cell_type": "code",
   "execution_count": 49,
   "metadata": {},
   "outputs": [
    {
     "data": {
      "text/plain": [
       "<RequestsCookieJar[Cookie(version=0, name='SquidLocalUID', value='8b92ec40c39af58d00495262', port=None, port_specified=False, domain='.wyborcza.pl', domain_specified=True, domain_initial_dot=False, path='/', path_specified=True, secure=True, expires=1841219038, discard=False, comment=None, comment_url=None, rest={'SameSite': 'None'}, rfc2109=False), Cookie(version=0, name='SsoSessionPermanent', value='a9cb6d2e403b8da1d59e5adb4bc342ef350a7c9f97fe0721bf72e761f854cf23', port=None, port_specified=False, domain='.wyborcza.pl', domain_specified=True, domain_initial_dot=False, path='/', path_specified=True, secure=True, expires=1904291038, discard=False, comment=None, comment_url=None, rest={'SameSite': 'None'}, rfc2109=False), Cookie(version=0, name='GW_SID', value='7AA1AC23EF1FA623530E2585E30DDD84.tomwybo52', port=None, port_specified=False, domain='warszawa.wyborcza.pl', domain_specified=False, domain_initial_dot=False, path='/', path_specified=True, secure=True, expires=None, discard=True, comment=None, comment_url=None, rest={'HttpOnly': None, 'SameSite': 'None'}, rfc2109=False), Cookie(version=0, name='initialParams', value='%7B%22initialPage%22%3A%22https%3A%2F%2Fwarszawa.wyborcza.pl%2Fwarszawa%2F7%2C54420%2C31835524%2Ctak-metro-zmienilo-warszawe-pokazujemy-zdjecia-przed-i-po-budowie.html%22%7D', port=None, port_specified=False, domain='warszawa.wyborcza.pl', domain_specified=False, domain_initial_dot=False, path='/', path_specified=True, secure=True, expires=None, discard=True, comment=None, comment_url=None, rest={'SameSite': 'None'}, rfc2109=False)]>"
      ]
     },
     "execution_count": 49,
     "metadata": {},
     "output_type": "execute_result"
    }
   ],
   "source": [
    "ww.cookies"
   ]
  },
  {
   "cell_type": "code",
   "execution_count": 50,
   "metadata": {},
   "outputs": [
    {
     "data": {
      "text/plain": [
       "[<div class=\"msg-container\">\n",
       " <div id=\"message\">\n",
       " <img src=\"https://bi.gazeta.pl/im/3/17117/m17117193.png\"/>\n",
       " <div id=\"info-adblock\">\n",
       " <h1>Wyłącz AdBlocka/uBlocka</h1>\n",
       " <p class=\"head\">Aby czytać nasze artykuły wyłącz AdBlocka/uBlocka lub dodaj wyjątek dla naszej domeny.</p>\n",
       " <p class=\"lead\">Spokojnie, dodanie wyjątku nie wyłączy blokowania reklam.</p>\n",
       " </div>\n",
       " <div id=\"info-ups\">\n",
       " <h1>Ups!</h1>\n",
       " <p class=\"lead\">Nieznany błąd - nie można wyświetlić strony</p>\n",
       " </div>\n",
       " </div>\n",
       " <div class=\"advertHolder adHolder\" id=\"adHolder\" style=\"display: block\"></div>\n",
       " </div>,\n",
       " <div id=\"message\">\n",
       " <img src=\"https://bi.gazeta.pl/im/3/17117/m17117193.png\"/>\n",
       " <div id=\"info-adblock\">\n",
       " <h1>Wyłącz AdBlocka/uBlocka</h1>\n",
       " <p class=\"head\">Aby czytać nasze artykuły wyłącz AdBlocka/uBlocka lub dodaj wyjątek dla naszej domeny.</p>\n",
       " <p class=\"lead\">Spokojnie, dodanie wyjątku nie wyłączy blokowania reklam.</p>\n",
       " </div>\n",
       " <div id=\"info-ups\">\n",
       " <h1>Ups!</h1>\n",
       " <p class=\"lead\">Nieznany błąd - nie można wyświetlić strony</p>\n",
       " </div>\n",
       " </div>,\n",
       " <div id=\"info-adblock\">\n",
       " <h1>Wyłącz AdBlocka/uBlocka</h1>\n",
       " <p class=\"head\">Aby czytać nasze artykuły wyłącz AdBlocka/uBlocka lub dodaj wyjątek dla naszej domeny.</p>\n",
       " <p class=\"lead\">Spokojnie, dodanie wyjątku nie wyłączy blokowania reklam.</p>\n",
       " </div>,\n",
       " <div id=\"info-ups\">\n",
       " <h1>Ups!</h1>\n",
       " <p class=\"lead\">Nieznany błąd - nie można wyświetlić strony</p>\n",
       " </div>,\n",
       " <div class=\"advertHolder adHolder\" id=\"adHolder\" style=\"display: block\"></div>]"
      ]
     },
     "execution_count": 50,
     "metadata": {},
     "output_type": "execute_result"
    }
   ],
   "source": [
    "headers = {'User-Agent': 'Mozilla/5.0 (Windows NT 10.0; WOW64) AppleWebKit/537.36 (KHTML, like Gecko) Chrome/85.0.4183.102 YaBrowser/20.9.3.136 Yowser/2.5 Safari/537.36'}\n",
    "ccc = ww.cookies\n",
    "\n",
    "ww = requests.get(\"https://warszawa.wyborcza.pl/warszawa/7,54420,31835524,tak-metro-zmienilo-warszawe-pokazujemy-zdjecia-przed-i-po-budowie.html\",\n",
    "                  headers=headers,\n",
    "                  cookies=ccc\n",
    "                 )\n",
    "souped = BeautifulSoup(ww.text)\n",
    "souped(\"div\")"
   ]
  },
  {
   "cell_type": "markdown",
   "metadata": {},
   "source": [
    "Не помогло. Может дело и не в куки. Или мы что-то не от вернули. Пойдём посморим на страничку целиком."
   ]
  },
  {
   "cell_type": "code",
   "execution_count": 51,
   "metadata": {},
   "outputs": [
    {
     "data": {
      "text/plain": [
       "'\\n<!DOCTYPE html>\\n<html>\\n<head>\\n    <meta charset=\"utf-8\"/>\\n    <title>Wyborcza.pl</title>\\n    <noscript>\\n        <meta http-equiv=\"Refresh\" content=\"0; URL=https://warszawa.wyborcza.pl/warszawa/7,54420,31835524,tak-metro-zmienilo-warszawe-pokazujemy-zdjecia-przed-i-po-budowie.html?squid_js=false\"/>\\n    </noscript>\\n    <meta http-equiv=\"cache-control\" content=\"max-age=0\"/>\\n    <meta http-equiv=\"cache-control\" content=\"no-cache\"/>\\n    <meta http-equiv=\"expires\" content=\"0\"/>\\n    <meta http-equiv=\"expires\" content=\"Tue, 01 Jan 1980 1:00:00 GMT\"/>\\n    <meta http-equiv=\"pragma\" content=\"no-cache\"/>\\n    <link rel=\"shortcut icon\" href=\"https://static.im-g.pl/aliasy/foto/wyborcza/favicon.ico\">\\n    <style type=\"text/css\">\\n        body {\\n            font-family: Arial, sans-serif;\\n            font-size: 13px;\\n        }\\n\\n        h1 {\\n            font-size: 16px;\\n        }\\n\\n        a {\\n            color: #146cb4;\\n            text-decoration: none;\\n        }\\n\\n        a:hover, a:focus {\\n            '"
      ]
     },
     "execution_count": 51,
     "metadata": {},
     "output_type": "execute_result"
    }
   ],
   "source": [
    "ww.text[:1000]"
   ]
  },
  {
   "cell_type": "markdown",
   "metadata": {},
   "source": [
    "И прямо сверху - вот оно! \n",
    "```HTML\n",
    " <noscript>\\n        <meta http-equiv=\"Refresh\" content=\"0; URL=https://warszawa.wyborcza.pl/warszawa/7,54420,31835524,tak-metro-zmienilo-warszawe-pokazujemy-zdjecia-przed-i-po-budowie.html?squid_js=false\"/>\\n    </noscript>\n",
    "```\n",
    "\n",
    "То есть страница сама в себе хранит информацию о том, куда надо сделать редирект. \n",
    "То есть можно просто загрузить новость с этой страницы и всё.  \n",
    "Исследование показывает, что страница отличается наличием параметра `?squid_js=false\"`, то есть можно просто добавлять его к полученным адресам и всё."
   ]
  },
  {
   "cell_type": "code",
   "execution_count": 52,
   "metadata": {},
   "outputs": [
    {
     "data": {
      "text/plain": [
       "('Tak metro zmieniło Warszawę. Pokazujemy zdjęcia tych samych miejsc przed i po budowie kolejnych stacji',\n",
       " '\\n1. Kabaty\\nFotograficzny spacer po Warszawie nad budowanym metrem zaczynamy w 1995 r. na Kabatach. To część miasta, która zmieniła się chyba najbardziej. Właściwie\\xa0lepiej napisać, że współczesne Kabaty dopiero powstały na skutek budowy podziemnej kolei.\\nDo lat 90. XX w. ciągnęły się tu pola i nieużytki aż do ściany Lasu Kabackiego. Dla warszawiaków przez lata były to odległe rubieże. Dziś to jedna z\\xa0dzielnic uważanych za najlepsze do życia. Bliskość lasu i dojazd metrem do centrum w niewiele ponad 20 minut to dwa główne atuty.\\xa0\\xa0\\n\\n')"
      ]
     },
     "execution_count": 52,
     "metadata": {},
     "output_type": "execute_result"
    }
   ],
   "source": [
    "ww = requests.get(\"https://warszawa.wyborcza.pl/warszawa/7,54420,31835524,tak-metro-zmienilo-warszawe-pokazujemy-zdjecia-przed-i-po-budowie.html?squid_js=false\")\n",
    "souped = BeautifulSoup(ww.text)\n",
    "souped(\"h1\")[0].get_text(), \\\n",
    "souped(\"div\", attrs={'class': 'article--content'})[0].get_text()"
   ]
  },
  {
   "cell_type": "markdown",
   "metadata": {},
   "source": [
    "Ура, у нас получилось! И нам не нужен Селениум, чтобы делать редирект по понятному адресу. Реверс-инжиниринг помог.  \n",
    "Правда, это не решает проблемы с тем, что нам не отдают новость полносьтю, но, кажется, для этого надо подписаться на ресурс. Вот жадины! Но тут уже без нарушения закона не обойтись, так что или довольствуемся первыми абзацами, или уходим на другой ресурс, менее жадный.   \n",
    "Правда, там есть комментарии к статьям, тоже написанные по-польски. То есть можно махнуть рукой на новость и сделаьт коллекцию заголовков новостей, первых абзацев и комментариев к ним, что тотже неплохо."
   ]
  },
  {
   "cell_type": "markdown",
   "metadata": {},
   "source": [
    "### Сессия\n",
    "\n",
    "Если вам необходимо ввести пароль, а потом работать как зарегистрированный пользователь, лучше использовать сессию, которая запомнит все данные. Об этом можно почитать [здесь](https://requests.readthedocs.io/en/latest/user/advanced/)."
   ]
  },
  {
   "cell_type": "markdown",
   "metadata": {},
   "source": [
    "### Работа с бинарными файлами\n",
    "\n",
    "Попробуем загрузить pdf-файл со статьей с сайта Киберленинка.\n",
    "\n",
    "Правда, если мы будем загружать его все вместе с одного IP-адреса, то нас могут забанить за массовое скачивание."
   ]
  },
  {
   "cell_type": "code",
   "execution_count": 53,
   "metadata": {},
   "outputs": [],
   "source": [
    "pdf1 = requests.get(\"https://cyberleninka.ru/article/n/semantiko-sintaksicheskoe-opisanie-glagolov-professionalnoy-deyatelnosti-iz-materialov-k-semantiko-grammaticheskomu-slovaryu/pdf\")"
   ]
  },
  {
   "cell_type": "markdown",
   "metadata": {},
   "source": [
    "Можно заметить, что у объекта есть несколько полей, хранящих бинарные строки, например, `content` и `raw`. Это, собственно, содержимое загруженного файла.\n",
    "\n",
    "Еще у него есть свойства на случай, если был загружен json (`json`) или текст (мы его уже использовали - `text`)."
   ]
  },
  {
   "cell_type": "code",
   "execution_count": 54,
   "metadata": {
    "collapsed": true,
    "jupyter": {
     "outputs_hidden": true
    },
    "tags": []
   },
   "outputs": [
    {
     "data": {
      "text/plain": [
       "['__attrs__',\n",
       " '__bool__',\n",
       " '__class__',\n",
       " '__delattr__',\n",
       " '__dict__',\n",
       " '__dir__',\n",
       " '__doc__',\n",
       " '__enter__',\n",
       " '__eq__',\n",
       " '__exit__',\n",
       " '__format__',\n",
       " '__ge__',\n",
       " '__getattribute__',\n",
       " '__getstate__',\n",
       " '__gt__',\n",
       " '__hash__',\n",
       " '__init__',\n",
       " '__init_subclass__',\n",
       " '__iter__',\n",
       " '__le__',\n",
       " '__lt__',\n",
       " '__module__',\n",
       " '__ne__',\n",
       " '__new__',\n",
       " '__nonzero__',\n",
       " '__reduce__',\n",
       " '__reduce_ex__',\n",
       " '__repr__',\n",
       " '__setattr__',\n",
       " '__setstate__',\n",
       " '__sizeof__',\n",
       " '__str__',\n",
       " '__subclasshook__',\n",
       " '__weakref__',\n",
       " '_content',\n",
       " '_content_consumed',\n",
       " '_next',\n",
       " 'apparent_encoding',\n",
       " 'close',\n",
       " 'connection',\n",
       " 'content',\n",
       " 'cookies',\n",
       " 'elapsed',\n",
       " 'encoding',\n",
       " 'headers',\n",
       " 'history',\n",
       " 'is_permanent_redirect',\n",
       " 'is_redirect',\n",
       " 'iter_content',\n",
       " 'iter_lines',\n",
       " 'json',\n",
       " 'links',\n",
       " 'next',\n",
       " 'ok',\n",
       " 'raise_for_status',\n",
       " 'raw',\n",
       " 'reason',\n",
       " 'request',\n",
       " 'status_code',\n",
       " 'text',\n",
       " 'url']"
      ]
     },
     "execution_count": 54,
     "metadata": {},
     "output_type": "execute_result"
    }
   ],
   "source": [
    "dir(pdf1)"
   ]
  },
  {
   "cell_type": "markdown",
   "metadata": {},
   "source": [
    "Взглянем на содержимое загруженного файла. В первых байтах виден заголовок pdf-файла с автором, использованной программой и другими данными."
   ]
  },
  {
   "cell_type": "code",
   "execution_count": 55,
   "metadata": {},
   "outputs": [
    {
     "data": {
      "text/plain": [
       "b\"%PDF-1.4\\n%\\xe2\\xe3\\xcf\\xd3\\n1 0 obj\\n<</Author(katya)/CreationDate(D:20200129093126+03'00')/Creator(Adobe InDesign CC 14.0 \\\\(Macintosh\\\\))/ModDate(D:20200224020154+03'00')/Producer(Acrobat Distiller 15.0 \\\\(Macintosh\""
      ]
     },
     "execution_count": 55,
     "metadata": {},
     "output_type": "execute_result"
    }
   ],
   "source": [
    "pdf1.content[:200]"
   ]
  },
  {
   "cell_type": "markdown",
   "metadata": {},
   "source": [
    "Поставим себе библиотеку для чтения pdf-файлов и посмотрим на содержимое первой страницы."
   ]
  },
  {
   "cell_type": "code",
   "execution_count": 27,
   "metadata": {},
   "outputs": [
    {
     "name": "stdout",
     "output_type": "stream",
     "text": [
      "Defaulting to user installation because normal site-packages is not writeable\n",
      "Requirement already satisfied: pypdf in /home/edward/.local/lib/python3.10/site-packages (3.7.0)\n"
     ]
    }
   ],
   "source": [
    "!pip install pypdf"
   ]
  },
  {
   "cell_type": "code",
   "execution_count": 56,
   "metadata": {},
   "outputs": [],
   "source": [
    "from pypdf import PdfReader\n",
    "import io"
   ]
  },
  {
   "cell_type": "markdown",
   "metadata": {},
   "source": [
    "Библиотека принимает на вход открытый файл, но при помощи `io.BytesIO()` мы сможем имитировать чтение из файла, которое будет брать данные из памяти."
   ]
  },
  {
   "cell_type": "code",
   "execution_count": 57,
   "metadata": {},
   "outputs": [],
   "source": [
    "f = io.BytesIO(pdf1.content)\n",
    "\n",
    "reader = PdfReader(f)"
   ]
  },
  {
   "cell_type": "markdown",
   "metadata": {},
   "source": [
    "Итак, посмотрим на текстовое содержимое первой страницы."
   ]
  },
  {
   "cell_type": "code",
   "execution_count": 58,
   "metadata": {},
   "outputs": [],
   "source": [
    "number_of_pages = len(reader.pages)\n",
    "page = reader.pages[0]\n",
    "text = page.extract_text()"
   ]
  },
  {
   "cell_type": "code",
   "execution_count": 59,
   "metadata": {},
   "outputs": [
    {
     "data": {
      "text/plain": [
       "'УЧЕНЫЕ  ЗАПИСКИ  ПЕТРОЗАВОДСКОГО  ГОСУДАРСТВЕННОГО  УНИВЕРСИТЕТА\\n© Смирнова  Е. А., 2020Т. 42. № 1. С. 72–81 Языкознание  2020\\nDOI: 10.15393/uchz.art.2020.435УДК  81`1\\nЕКАТЕРИНА  АНДРЕЕВНА  СМИРНОВА\\nкандидат  филологических  наук , научный  сотрудник  секто -\\nра теоретической  семантики\\nФедеральное  государственное  бюджетное  учреждение  нау-\\nки Институт  русского  языка  имени  В. В. Виноградова  РАН  \\n(Москва , Российская  Федерация )\\nkatarzina@yandex.ru\\nСЕМАНТИКО -СИНТАКСИЧЕСКОЕ  ОПИСАНИЕ  ГЛАГОЛОВ  \\nПРОФЕССИОНАЛЬНОЙ  ДЕЯТЕЛЬНОСТИ  \\n(из материалов  к Семантико -грамматическому  словарю )*\\nПредставлено  описание  парадигматических  возможностей  глагольной  группы  профессиональ -\\nной деятельности  на -ничать  и выявлены  семантико -синтаксические  запреты  на образование  тех \\nили иных  глагольных  форм . На материале  Национального  корпуса  русского  языка  (НКРЯ ) показа -\\nны тенденции  в области  глагольного  словоизменения  и словообразования  внутри  данной  группы : \\nзаполненность  глагольных  парадигм  (степень  частотности  форм ), количество  употребляемых  в язы-\\nке значений , а также  их соответствие  парадигмам  и толкованиям , приводимым  в грамматических  \\nи толковых  словарях  русского  языка . Описываемый  класс  глаголов  профессиональной  деятельности  \\nна -ничать  анализируется  в Семантико -грамматическом  словаре  по следующим  параметрам : слово -\\nобразование  (акцентологический  тип), морфология  (объем  парадигмы ), лексическая  семантика  (ко-\\nличество  значений ), синтаксис  (типы  конструкций , набор  валентностей ), текст  (регистровые  условия , \\nсубъектная  перспектива ). Такой  подход  к обработке  языкового  материала  дает возможность  отсечь  по-\\nтенциальные  глагольные  формы , которые  описываются  в словарях  и приводят  к искажению  реальной  \\nкартины  употребления  глаголов . Группа  неизосемических  глаголов  на -ничать  демонстрирует  в языке  \\nпарадигматические  лакуны , отсутствие  полисемии , ограничение  функций  видо -временных  форм , \\nпри этом  наличие  словообразовательной  и семантической  синонимии , а также  большого  количества  \\nаналитических  конструкций . В конце  статьи  приводится  таблица , в которой  на примере  глагола  ма-\\nлярничать  представлено  актуальное  употребление  глагольных  форм  данной  семантической  группы .\\nКлючевые  слова : словообразование , морфология , лексическая  семантика , синтаксис , глагольная  парадигма\\nДля  цитирования :  Смирнова  Е. А. Семантико -синтаксическое  описание  глаголов  профессиональной  деятельности  \\n(из материалов  к Семантико -грамматическому  словарю ) // Ученые  записки  Петрозаводского  государственного  университе -\\nта. 2020. Т. 42. № 1. С. 72–81. DOI: 10.15393/uchz.art.2020.435\\nных периодов  функционирования  глагольных  \\nформ .\\nЦель  статьи  – выявление  на реальном  языко -\\nвом материале2 тенденций  в области  глагольно -\\nго словоизменения  и словообразования  внутри  \\nданной  группы : заполненность  глагольных  па-\\nрадигм  (степень  частотности  форм ), количество  \\nупотребляемых  в языке  значений , а также  их \\nсоответствие  парадигмам  и толкованиям , при-\\nводимым  в грамматических  и, соответственно , \\nтолковых  словарях  русского  языка ; контексту -\\nальная  обусловленность  значений , разные  тексто -\\nвые регистры . Такой  подход  к обработке  языко -\\nвого материала  предоставил  возможность  отсечь  \\nпотенциальные  глагольные  формы , которые  опи-\\nсываются  в словарях  [3] и приводят  к искаже -\\nнию реальной  картины  употребления  глаголов . \\nАнализ  грамматических  лакун  в глагольных  \\nпарадигмах  позволил  интерпретировать  семан -\\nтическую  классификацию  глаголов , представ -\\nленную  в «Русском  семантическом  словаре »3. \\nОписываемая  группа  неизосемических  глаголов  \\n[4] демонстрирует  в языке  парадигматические  \\nлакуны , отсутствие  полисемии , ограничение  ВВЕДЕНИЕ\\nВ статье  описывается  группа  глаголов  \\nпрофессиональной  деятельности  как одно -\\nго из функциональных  классов  находящегося  \\nна стадии  разработки  «Семантико -граммати -\\nческого  словаря  русских  глаголов ». Являясь  \\nсловарем  активного  типа , он обеспечивает  нуж-\\nды говорения  или, более  широко , нужды  произ -\\nводства  текстов : «Решение  этой  задачи  дости -\\nгается  помещением  в словарь  возможно  более  \\nполной  информации  обо всех  существенных  \\nдля правильной  речи  сторонах  слова , – его фор-\\nмах и значениях », условиях  его употребления , \\nего синонимах , антонимах  и т. д.1\\nСемантическая  группа  глаголов  со значением  \\nпрофессиональной  деятельности , часто  упоми -\\nнаемая  лингвистами  [1], [2] и др., до настоящего  \\nвремени  подробно  не описана . В статье  пред -\\nставлено  описание  парадигматических  возмож -\\nностей  глагольной  группы  и выявлены  семанти -\\nко-синтаксические  запреты  на образование  тех \\nили иных  форм , существующих  в текстах  конца  \\nXX – начала  XXI века. В некоторых  случаях  сде-\\nлана  ретроспекция  также  более  ранних  времен -'"
      ]
     },
     "execution_count": 59,
     "metadata": {},
     "output_type": "execute_result"
    }
   ],
   "source": [
    "text"
   ]
  },
  {
   "cell_type": "markdown",
   "metadata": {},
   "source": [
    "М-да... С разбивкой на строки и абзацы полная беда. Попробуем хотя бы устранить преносы."
   ]
  },
  {
   "cell_type": "code",
   "execution_count": 60,
   "metadata": {},
   "outputs": [
    {
     "data": {
      "text/plain": [
       "'УЧЕНЫЕ  ЗАПИСКИ  ПЕТРОЗАВОДСКОГО  ГОСУДАРСТВЕННОГО  УНИВЕРСИТЕТА\\n© Смирнова  Е. А., 2020Т. 42. № 1. С. 72–81 Языкознание  2020\\nDOI: 10.15393/uchz.art.2020.435УДК  81`1\\nЕКАТЕРИНА  АНДРЕЕВНА  СМИРНОВА\\nкандидат  филологических  наук , научный  сотрудник  сектора теоретической  семантики\\nФедеральное  государственное  бюджетное  учреждение  науки Институт  русского  языка  имени  В. В. Виноградова  РАН  \\n(Москва , Российская  Федерация )\\nkatarzina@yandex.ru\\nСЕМАНТИКО -СИНТАКСИЧЕСКОЕ  ОПИСАНИЕ  ГЛАГОЛОВ  \\nПРОФЕССИОНАЛЬНОЙ  ДЕЯТЕЛЬНОСТИ  \\n(из материалов  к Семантико -грамматическому  словарю )*\\nПредставлено  описание  парадигматических  возможностей  глагольной  группы  профессиональной деятельности  на -ничать  и выявлены  семантико -синтаксические  запреты  на образование  тех \\nили иных  глагольных  форм . На материале  Национального  корпуса  русского  языка  (НКРЯ ) показаны тенденции  в области  глагольного  словоизменения  и словообразования  внутри  данной  группы : \\nзаполненность  глагольных  парадигм  (степень  частотности  форм ), количество  употребляемых  в языке значений , а также  их соответствие  парадигмам  и толкованиям , приводимым  в грамматических  \\nи толковых  словарях  русского  языка . Описываемый  класс  глаголов  профессиональной  деятельности  \\nна -ничать  анализируется  в Семантико -грамматическом  словаре  по следующим  параметрам : словообразование  (акцентологический  тип), морфология  (объем  парадигмы ), лексическая  семантика  (количество  значений ), синтаксис  (типы  конструкций , набор  валентностей ), текст  (регистровые  условия , \\nсубъектная  перспектива ). Такой  подход  к обработке  языкового  материала  дает возможность  отсечь  потенциальные  глагольные  формы , которые  описываются  в словарях  и приводят  к искажению  реальной  \\nкартины  употребления  глаголов . Группа  неизосемических  глаголов  на -ничать  демонстрирует  в языке  \\nпарадигматические  лакуны , отсутствие  полисемии , ограничение  функций  видо -временных  форм , \\nпри этом  наличие  словообразовательной  и семантической  синонимии , а также  большого  количества  \\nаналитических  конструкций . В конце  статьи  приводится  таблица , в которой  на примере  глагола  малярничать  представлено  актуальное  употребление  глагольных  форм  данной  семантической  группы .\\nКлючевые  слова : словообразование , морфология , лексическая  семантика , синтаксис , глагольная  парадигма\\nДля  цитирования :  Смирнова  Е. А. Семантико -синтаксическое  описание  глаголов  профессиональной  деятельности  \\n(из материалов  к Семантико -грамматическому  словарю ) // Ученые  записки  Петрозаводского  государственного  университета. 2020. Т. 42. № 1. С. 72–81. DOI: 10.15393/uchz.art.2020.435\\nных периодов  функционирования  глагольных  \\nформ .\\nЦель  статьи  – выявление  на реальном  языковом материале2 тенденций  в области  глагольного словоизменения  и словообразования  внутри  \\nданной  группы : заполненность  глагольных  парадигм  (степень  частотности  форм ), количество  \\nупотребляемых  в языке  значений , а также  их \\nсоответствие  парадигмам  и толкованиям , приводимым  в грамматических  и, соответственно , \\nтолковых  словарях  русского  языка ; контекстуальная  обусловленность  значений , разные  текстовые регистры . Такой  подход  к обработке  языкового материала  предоставил  возможность  отсечь  \\nпотенциальные  глагольные  формы , которые  описываются  в словарях  [3] и приводят  к искажению реальной  картины  употребления  глаголов . \\nАнализ  грамматических  лакун  в глагольных  \\nпарадигмах  позволил  интерпретировать  семантическую  классификацию  глаголов , представленную  в «Русском  семантическом  словаре »3. \\nОписываемая  группа  неизосемических  глаголов  \\n[4] демонстрирует  в языке  парадигматические  \\nлакуны , отсутствие  полисемии , ограничение  ВВЕДЕНИЕ\\nВ статье  описывается  группа  глаголов  \\nпрофессиональной  деятельности  как одного из функциональных  классов  находящегося  \\nна стадии  разработки  «Семантико -грамматического  словаря  русских  глаголов ». Являясь  \\nсловарем  активного  типа , он обеспечивает  нужды говорения  или, более  широко , нужды  производства  текстов : «Решение  этой  задачи  достигается  помещением  в словарь  возможно  более  \\nполной  информации  обо всех  существенных  \\nдля правильной  речи  сторонах  слова , – его формах и значениях », условиях  его употребления , \\nего синонимах , антонимах  и т. д.1\\nСемантическая  группа  глаголов  со значением  \\nпрофессиональной  деятельности , часто  упоминаемая  лингвистами  [1], [2] и др., до настоящего  \\nвремени  подробно  не описана . В статье  представлено  описание  парадигматических  возможностей  глагольной  группы  и выявлены  семантико-синтаксические  запреты  на образование  тех \\nили иных  форм , существующих  в текстах  конца  \\nXX – начала  XXI века. В некоторых  случаях  сделана  ретроспекция  также  более  ранних  времен -'"
      ]
     },
     "execution_count": 60,
     "metadata": {},
     "output_type": "execute_result"
    }
   ],
   "source": [
    "text.replace(' -\\n', '').replace('-\\n', '')"
   ]
  },
  {
   "cell_type": "code",
   "execution_count": null,
   "metadata": {},
   "outputs": [],
   "source": []
  },
  {
   "cell_type": "markdown",
   "metadata": {},
   "source": [
    "### Потоковое аудио\n",
    "Теперь попробуем работать с потоковым аудио. Я начал со страницы http://radio.garden , которая хранит ссылки на интернет-радиостанции. С ее помощью я вышел вот на этот адрес. Попробуем грузить с него потоковое аудио в файл."
   ]
  },
  {
   "cell_type": "code",
   "execution_count": 61,
   "metadata": {},
   "outputs": [],
   "source": [
    "# stream_url = 'https://radiorecord.hostingradio.ru/198096.aacp?listening-from-radio-garden=1680922353'\n",
    "# stream_url = 'http://stream1.waszeradiofm.pl:8000/;?listening-from-radio-garden=1696354810'\n",
    "# stream_url = 'http://stream4.nadaje.com:8052/;'\n",
    "# stream_url = 'https://radio21.streamabc.net/radio21-buxtehude-mp3-192-4403353?sABC=662o19r4%230%234o3n4o6p107p0srs94636q7nr26pr465%23jro&aw_0_1st.playerid=web&amsparams=playerid:web;skey:1714100708'\n",
    "# stream_url = 'https://ic1.smcdn.pl/2310-1.mp3'\n",
    "stream_url = 'https://ic7.101.ru:8000/stream/reg/mp3/128/region_avto_36'\n",
    "\n",
    "r = requests.get(stream_url, stream=True)\n",
    "\n",
    "with open('stream.mp3', 'wb') as f:\n",
    "    try:\n",
    "        for block in r.iter_content(1024):\n",
    "            f.write(block)\n",
    "    except KeyboardInterrupt:\n",
    "        pass"
   ]
  },
  {
   "cell_type": "markdown",
   "metadata": {},
   "source": [
    "А попробуем теперь прослушать это аудио."
   ]
  },
  {
   "cell_type": "code",
   "execution_count": 53,
   "metadata": {},
   "outputs": [
    {
     "name": "stdout",
     "output_type": "stream",
     "text": [
      "Defaulting to user installation because normal site-packages is not writeable\n",
      "Requirement already satisfied: pydub in /home/edward/.local/lib/python3.10/site-packages (0.25.1)\n"
     ]
    }
   ],
   "source": [
    "!pip install pydub"
   ]
  },
  {
   "cell_type": "code",
   "execution_count": 62,
   "metadata": {},
   "outputs": [],
   "source": [
    "from pydub import AudioSegment\n",
    "from pydub.playback import play"
   ]
  },
  {
   "cell_type": "code",
   "execution_count": 63,
   "metadata": {},
   "outputs": [],
   "source": [
    "import io"
   ]
  },
  {
   "cell_type": "code",
   "execution_count": 65,
   "metadata": {},
   "outputs": [],
   "source": [
    "import warnings\n",
    "warnings.filterwarnings('ignore')\n"
   ]
  },
  {
   "cell_type": "code",
   "execution_count": null,
   "metadata": {},
   "outputs": [
    {
     "name": "stderr",
     "output_type": "stream",
     "text": [
      "ALSA lib pcm_dmix.c:1032:(snd_pcm_dmix_open) unable to open slave\n",
      "ALSA lib pcm.c:2664:(snd_pcm_open_noupdate) Unknown PCM cards.pcm.rear\n",
      "ALSA lib pcm.c:2664:(snd_pcm_open_noupdate) Unknown PCM cards.pcm.center_lfe\n",
      "ALSA lib pcm.c:2664:(snd_pcm_open_noupdate) Unknown PCM cards.pcm.side\n",
      "ALSA lib pcm_route.c:877:(find_matching_chmap) Found no matching channel map\n",
      "ALSA lib pcm_oss.c:397:(_snd_pcm_oss_open) Cannot open device /dev/dsp\n",
      "ALSA lib pcm_oss.c:397:(_snd_pcm_oss_open) Cannot open device /dev/dsp\n",
      "ALSA lib confmisc.c:160:(snd_config_get_card) Invalid field card\n",
      "ALSA lib pcm_usb_stream.c:482:(_snd_pcm_usb_stream_open) Invalid card 'card'\n",
      "ALSA lib confmisc.c:160:(snd_config_get_card) Invalid field card\n",
      "ALSA lib pcm_usb_stream.c:482:(_snd_pcm_usb_stream_open) Invalid card 'card'\n",
      "ALSA lib pcm_dmix.c:1032:(snd_pcm_dmix_open) unable to open slave\n",
      "ALSA lib pcm.c:8568:(snd_pcm_recover) underrun occurred\n",
      "ALSA lib pcm_dmix.c:1032:(snd_pcm_dmix_open) unable to open slave\n",
      "ALSA lib pcm.c:2664:(snd_pcm_open_noupdate) Unknown PCM cards.pcm.rear\n",
      "ALSA lib pcm.c:2664:(snd_pcm_open_noupdate) Unknown PCM cards.pcm.center_lfe\n",
      "ALSA lib pcm.c:2664:(snd_pcm_open_noupdate) Unknown PCM cards.pcm.side\n",
      "ALSA lib pcm_route.c:877:(find_matching_chmap) Found no matching channel map\n",
      "ALSA lib pcm_oss.c:397:(_snd_pcm_oss_open) Cannot open device /dev/dsp\n",
      "ALSA lib pcm_oss.c:397:(_snd_pcm_oss_open) Cannot open device /dev/dsp\n",
      "ALSA lib confmisc.c:160:(snd_config_get_card) Invalid field card\n",
      "ALSA lib pcm_usb_stream.c:482:(_snd_pcm_usb_stream_open) Invalid card 'card'\n",
      "ALSA lib confmisc.c:160:(snd_config_get_card) Invalid field card\n",
      "ALSA lib pcm_usb_stream.c:482:(_snd_pcm_usb_stream_open) Invalid card 'card'\n",
      "ALSA lib pcm_dmix.c:1032:(snd_pcm_dmix_open) unable to open slave\n",
      "ALSA lib pcm.c:8568:(snd_pcm_recover) underrun occurred\n",
      "ALSA lib pcm_dmix.c:1032:(snd_pcm_dmix_open) unable to open slave\n",
      "ALSA lib pcm.c:2664:(snd_pcm_open_noupdate) Unknown PCM cards.pcm.rear\n",
      "ALSA lib pcm.c:2664:(snd_pcm_open_noupdate) Unknown PCM cards.pcm.center_lfe\n",
      "ALSA lib pcm.c:2664:(snd_pcm_open_noupdate) Unknown PCM cards.pcm.side\n",
      "ALSA lib pcm_route.c:877:(find_matching_chmap) Found no matching channel map\n",
      "ALSA lib pcm_oss.c:397:(_snd_pcm_oss_open) Cannot open device /dev/dsp\n",
      "ALSA lib pcm_oss.c:397:(_snd_pcm_oss_open) Cannot open device /dev/dsp\n",
      "ALSA lib confmisc.c:160:(snd_config_get_card) Invalid field card\n",
      "ALSA lib pcm_usb_stream.c:482:(_snd_pcm_usb_stream_open) Invalid card 'card'\n",
      "ALSA lib confmisc.c:160:(snd_config_get_card) Invalid field card\n",
      "ALSA lib pcm_usb_stream.c:482:(_snd_pcm_usb_stream_open) Invalid card 'card'\n",
      "ALSA lib pcm_dmix.c:1032:(snd_pcm_dmix_open) unable to open slave\n",
      "ALSA lib pcm.c:8568:(snd_pcm_recover) underrun occurred\n"
     ]
    }
   ],
   "source": [
    "stream_url = 'http://stream1.waszeradiofm.pl:8000/;?listening-from-radio-garden=1696354810'\n",
    "r = requests.get(stream_url, stream=True)\n",
    "\n",
    "try:\n",
    "    for block in r.iter_content(14240):\n",
    "        f = io.BytesIO(block)\n",
    "        sound = AudioSegment.from_file(f)\n",
    "        play(sound)\n",
    "except KeyboardInterrupt:\n",
    "    pass"
   ]
  },
  {
   "cell_type": "code",
   "execution_count": null,
   "metadata": {},
   "outputs": [],
   "source": []
  }
 ],
 "metadata": {
  "kernelspec": {
   "display_name": "Python 3 (ipykernel)",
   "language": "python",
   "name": "python3"
  },
  "language_info": {
   "codemirror_mode": {
    "name": "ipython",
    "version": 3
   },
   "file_extension": ".py",
   "mimetype": "text/x-python",
   "name": "python",
   "nbconvert_exporter": "python",
   "pygments_lexer": "ipython3",
   "version": "3.10.12"
  }
 },
 "nbformat": 4,
 "nbformat_minor": 4
}
