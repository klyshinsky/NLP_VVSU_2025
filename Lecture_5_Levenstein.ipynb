{
 "cells": [
  {
   "cell_type": "markdown",
   "metadata": {},
   "source": [
    "### К вопросу о том, как можно искать ошибки в тексте\n",
    "**Расстояние Хэмминга** - число позиций, в которых соответствующие символы двух слов одинаковой длины различны (плюс насколько второе слово длиннее первого).\n",
    "\n",
    "**Одноклассники**<br>\n",
    "Аднаклассники  H=2<br>\n",
    "Одоклассники    H=10<br>\n",
    "Однокласссники H=5<br>\n",
    "\n",
    "Для **Расстояние Левенштейна** вводится три вида ошибок: вставки (*ошиббка*), удаления (*ошика*) и замены (*ашибка*).<br>\n",
    "Тогда оно определяется как минимальное количество ошибок, которое надо сделать в одном слове, чтобы получить второе.\n",
    "\n",
    "**Одноклассники**<br>\n",
    "Аднаклассники  L=2<br>\n",
    "Одоклассники   L=1<br>\n",
    "Однокласссники L=1\n",
    "\n",
    "**Алгоритм Библиотеки Конгресса США** основывается на том, что читатель некорректно произносит название книги на языке, который оба не понимают.\n",
    "- Заменяем буквы на похожие (б-п, о-а, ...).\n",
    "- Заменяем повторяющиеся буквы на одно вхождение.\n",
    "- Дополнительные действия.\n",
    "- Ищем (по Левенштейну)."
   ]
  },
  {
   "cell_type": "markdown",
   "metadata": {},
   "source": [
    "Напишем простую реализации алгоритма нахождения расстояния Левенштейна и замеряем её производительность."
   ]
  },
  {
   "cell_type": "code",
   "execution_count": 1,
   "metadata": {},
   "outputs": [],
   "source": [
    "def naiveLeven(str1, str2):\n",
    "    if len(str1) == len(str2) and len(str1) == 0:\n",
    "        return 0\n",
    "    elif len(str1) * len(str2) == 0:\n",
    "        return abs(len(str1) - len(str2))\n",
    "    elif str1[0] == str2[0]:\n",
    "        return naiveLeven(str1[1:], str2[1:])\n",
    "    else:\n",
    "        n0 = naiveLeven(str1[1:], str2[1:])\n",
    "        n1 = naiveLeven(str1[1:], str2)\n",
    "        n2 = naiveLeven(str1, str2[1:])\n",
    "        return min(n0, n1, n2)+1"
   ]
  },
  {
   "cell_type": "code",
   "execution_count": 2,
   "metadata": {
    "scrolled": true
   },
   "outputs": [
    {
     "name": "stdout",
     "output_type": "stream",
     "text": [
      "0\n",
      "1\n",
      "2\n",
      "1\n",
      "1\n",
      "2\n"
     ]
    }
   ],
   "source": [
    "print(naiveLeven(\"мама\", \"мама\"))\n",
    "print(naiveLeven(\"мама\", \"пама\"))\n",
    "print(naiveLeven(\"мама\", \"папа\"))\n",
    "print(naiveLeven(\"мама\", \"маема\"))\n",
    "print(naiveLeven(\"мама\", \"ама\"))\n",
    "print(naiveLeven(\"мама\", \"паа\"))\n"
   ]
  },
  {
   "cell_type": "code",
   "execution_count": 3,
   "metadata": {},
   "outputs": [
    {
     "name": "stdout",
     "output_type": "stream",
     "text": [
      "2.95 µs ± 26.2 ns per loop (mean ± std. dev. of 7 runs, 100000 loops each)\n"
     ]
    }
   ],
   "source": [
    "%%timeit\n",
    "# naiveLeven(\"Комсомольск-на-Амуре\", \"Комсамольск-на-Омуре\") # --\n",
    "# naiveLeven(\"Клышинский\", \"Колтышинский\") # 293\n",
    "naiveLeven(\"Клышинский\", \"Клышинский\") # 3.31"
   ]
  },
  {
   "cell_type": "markdown",
   "metadata": {},
   "source": [
    "Как видно, для строк большой длины поиск производится за слишком большое время.  \n",
    "Усложним алгоритм, добавив к нему предельное количество ошибок, которое может быть совершено в слове. Помимо этого, придется передавать количество ошибок, которые мы уже нашли при сравнении текущей пары слов."
   ]
  },
  {
   "cell_type": "code",
   "execution_count": 4,
   "metadata": {},
   "outputs": [],
   "source": [
    "def naiveLeven2(str1, str2, cerr, thr):\n",
    "    if cerr > thr:\n",
    "        return 1000000\n",
    "    if len(str1) == len(str2) and len(str1) == 0:\n",
    "        return 0\n",
    "    elif len(str1) * len(str2) == 0:\n",
    "        return abs(len(str1) - len(str2))\n",
    "    elif str1[0] == str2[0]:\n",
    "        return naiveLeven2(str1[1:], str2[1:], cerr, thr)\n",
    "    else:\n",
    "        n0 = naiveLeven2(str1[1:], str2[1:], cerr+1, thr)\n",
    "        n1 = naiveLeven2(str1[1:], str2, cerr+1, thr)\n",
    "        n2 = naiveLeven2(str1, str2[1:], cerr+1, thr)\n",
    "        return min(n0, n1, n2)+1"
   ]
  },
  {
   "cell_type": "code",
   "execution_count": 5,
   "metadata": {},
   "outputs": [
    {
     "name": "stdout",
     "output_type": "stream",
     "text": [
      "3.13 µs ± 40.4 ns per loop (mean ± std. dev. of 7 runs, 100000 loops each)\n"
     ]
    }
   ],
   "source": [
    "%%timeit\n",
    "# naiveLeven2(\"Комсомольск-на-Амуре\", \"Комсамольск-на-Омуре\", 0, 3) # 52\n",
    "# naiveLeven2(\"Клышинский\", \"Колтышинский\", 0, 3) # 36\n",
    "naiveLeven2(\"Клышинский\", \"Клышинский\", 0, 3) # 3.5"
   ]
  },
  {
   "cell_type": "markdown",
   "metadata": {},
   "source": [
    "Стало, безусловно, быстрее. Но мы понимаем где тратится больше всего времени - если буквы не совпали, мы должны проверить несколько гипотез. При том может выясниться, что на первом шаге было найдено лучшее решение и дальнейшая проверка может не проводиться. Поэтому будем менять пороговое значение в следующих шагав, сообщив алгоритму, что не надо допускать больше ошибок, чем для уже найденного решения."
   ]
  },
  {
   "cell_type": "code",
   "execution_count": 6,
   "metadata": {},
   "outputs": [],
   "source": [
    "def Leven(str1, str2, cerr, thr):\n",
    "    if cerr > thr:\n",
    "        return 1000000\n",
    "    if len(str1) == len(str2) and len(str1) == 0:\n",
    "        return 0\n",
    "    elif len(str1) * len(str2) == 0:\n",
    "        return abs(len(str1) - len(str2))\n",
    "    elif str1[0] == str2[0]:\n",
    "        return Leven(str1[1:], str2[1:], cerr, thr)\n",
    "    else:\n",
    "        n0 = Leven(str1[1:], str2[1:], cerr+1, thr)\n",
    "        n1 = Leven(str1[1:], str2, cerr+1, min(thr, cerr+n0))\n",
    "        n2 = Leven(str1, str2[1:], cerr+1, min(thr, cerr+min(n0, n1)))\n",
    "        return min(n0, n1, n2)+1"
   ]
  },
  {
   "cell_type": "code",
   "execution_count": 7,
   "metadata": {},
   "outputs": [
    {
     "name": "stdout",
     "output_type": "stream",
     "text": [
      "3.08 µs ± 77.4 ns per loop (mean ± std. dev. of 7 runs, 100000 loops each)\n"
     ]
    }
   ],
   "source": [
    "%%timeit\n",
    "# Leven(\"Комсомольск-на-Амуре\", \"Комсамольск-на-Омуре\", 0, 3) # 10.2\n",
    "# Leven(\"Клышинский\", \"Колтышинский\", 0, 3) # 26.9\n",
    "Leven(\"Клышинский\", \"Клышинский\", 0, 3) # 3.38"
   ]
  },
  {
   "cell_type": "markdown",
   "metadata": {},
   "source": [
    "Но ещё быстрее алгоритм будет работать [Алгоритм Вагнера — Фишера](https://habr.com/ru/articles/676858) или его модификация - алгоритм [Хиршберга](https://habr.com/ru/articles/117063/). Первому требуется O(m*n) памяти, второй линеен по количеству памяти.\n",
    "\n",
    "Эти и многие другие алгоритмы реализованы в библиотеке `textdistance` - https://pypi.org/project/textdistance/ ."
   ]
  },
  {
   "cell_type": "code",
   "execution_count": 8,
   "metadata": {},
   "outputs": [
    {
     "name": "stdout",
     "output_type": "stream",
     "text": [
      "Defaulting to user installation because normal site-packages is not writeable\n",
      "Requirement already satisfied: textdistance in /home/edward/.local/lib/python3.10/site-packages (4.6.1)\n",
      "\n",
      "\u001b[1m[\u001b[0m\u001b[34;49mnotice\u001b[0m\u001b[1;39;49m]\u001b[0m\u001b[39;49m A new release of pip is available: \u001b[0m\u001b[31;49m25.0.1\u001b[0m\u001b[39;49m -> \u001b[0m\u001b[32;49m25.1.1\u001b[0m\n",
      "\u001b[1m[\u001b[0m\u001b[34;49mnotice\u001b[0m\u001b[1;39;49m]\u001b[0m\u001b[39;49m To update, run: \u001b[0m\u001b[32;49mpython -m pip install --upgrade pip\u001b[0m\n",
      "Defaulting to user installation because normal site-packages is not writeable\n",
      "Requirement already satisfied: textdistance[extras] in /home/edward/.local/lib/python3.10/site-packages (4.6.1)\n",
      "Requirement already satisfied: jellyfish in /home/edward/.local/lib/python3.10/site-packages (from textdistance[extras]) (1.0.3)\n",
      "Requirement already satisfied: numpy in /home/edward/.local/lib/python3.10/site-packages (from textdistance[extras]) (1.26.4)\n",
      "Requirement already satisfied: Levenshtein in /home/edward/.local/lib/python3.10/site-packages (from textdistance[extras]) (0.25.1)\n",
      "Requirement already satisfied: pyxDamerauLevenshtein in /home/edward/.local/lib/python3.10/site-packages (from textdistance[extras]) (1.7.1)\n",
      "Requirement already satisfied: rapidfuzz>=2.6.0 in /home/edward/.local/lib/python3.10/site-packages (from textdistance[extras]) (3.8.1)\n",
      "\n",
      "\u001b[1m[\u001b[0m\u001b[34;49mnotice\u001b[0m\u001b[1;39;49m]\u001b[0m\u001b[39;49m A new release of pip is available: \u001b[0m\u001b[31;49m25.0.1\u001b[0m\u001b[39;49m -> \u001b[0m\u001b[32;49m25.1.1\u001b[0m\n",
      "\u001b[1m[\u001b[0m\u001b[34;49mnotice\u001b[0m\u001b[1;39;49m]\u001b[0m\u001b[39;49m To update, run: \u001b[0m\u001b[32;49mpython -m pip install --upgrade pip\u001b[0m\n"
     ]
    }
   ],
   "source": [
    "!pip3 install textdistance\n",
    "!pip3 install \"textdistance[extras]\""
   ]
  },
  {
   "cell_type": "code",
   "execution_count": 9,
   "metadata": {},
   "outputs": [],
   "source": [
    "import textdistance\n"
   ]
  },
  {
   "cell_type": "code",
   "execution_count": 10,
   "metadata": {},
   "outputs": [
    {
     "data": {
      "text/plain": [
       "1"
      ]
     },
     "execution_count": 10,
     "metadata": {},
     "output_type": "execute_result"
    }
   ],
   "source": [
    "textdistance.hamming('test', 'text')"
   ]
  },
  {
   "cell_type": "code",
   "execution_count": 11,
   "metadata": {},
   "outputs": [
    {
     "name": "stdout",
     "output_type": "stream",
     "text": [
      "1.98 µs ± 32.4 ns per loop (mean ± std. dev. of 7 runs, 100000 loops each)\n"
     ]
    }
   ],
   "source": [
    "%%timeit\n",
    "textdistance.levenshtein(\"Комсомольск-на-Амуре\", \"Комсамольск-на-Омуре\") # 2.12\n",
    "# textdistance.levenshtein(\"Клышинский\", \"Колтышинский\") # 2.27\n",
    "# textdistance.levenshtein(\"Клышинский\", \"Клышинский\") # 0.59"
   ]
  },
  {
   "cell_type": "markdown",
   "metadata": {},
   "source": [
    "## Библиотека для поиска ошибок."
   ]
  },
  {
   "cell_type": "code",
   "execution_count": 12,
   "metadata": {},
   "outputs": [
    {
     "name": "stdout",
     "output_type": "stream",
     "text": [
      "Defaulting to user installation because normal site-packages is not writeable\n",
      "Requirement already satisfied: language_tool_python in /home/edward/.local/lib/python3.10/site-packages (2.8)\n",
      "Collecting language_tool_python\n",
      "  Downloading language_tool_python-2.9.3-py3-none-any.whl.metadata (54 kB)\n",
      "Requirement already satisfied: requests in /home/edward/.local/lib/python3.10/site-packages (from language_tool_python) (2.28.2)\n",
      "Requirement already satisfied: tqdm in /home/edward/.local/lib/python3.10/site-packages (from language_tool_python) (4.66.1)\n",
      "Requirement already satisfied: psutil in /home/edward/.local/lib/python3.10/site-packages (from language_tool_python) (5.9.3)\n",
      "Requirement already satisfied: toml in /home/edward/.local/lib/python3.10/site-packages (from language_tool_python) (0.10.2)\n",
      "Requirement already satisfied: charset-normalizer<4,>=2 in /home/edward/.local/lib/python3.10/site-packages (from requests->language_tool_python) (3.0.1)\n",
      "Requirement already satisfied: idna<4,>=2.5 in /home/edward/.local/lib/python3.10/site-packages (from requests->language_tool_python) (2.10)\n",
      "Requirement already satisfied: urllib3<1.27,>=1.21.1 in /usr/lib/python3/dist-packages (from requests->language_tool_python) (1.26.5)\n",
      "Requirement already satisfied: certifi>=2017.4.17 in /home/edward/.local/lib/python3.10/site-packages (from requests->language_tool_python) (2022.9.24)\n",
      "Downloading language_tool_python-2.9.3-py3-none-any.whl (55 kB)\n",
      "Installing collected packages: language_tool_python\n",
      "  Attempting uninstall: language_tool_python\n",
      "    Found existing installation: language-tool-python 2.8\n",
      "    Uninstalling language-tool-python-2.8:\n",
      "      Successfully uninstalled language-tool-python-2.8\n",
      "Successfully installed language_tool_python-2.9.3\n",
      "\n",
      "\u001b[1m[\u001b[0m\u001b[34;49mnotice\u001b[0m\u001b[1;39;49m]\u001b[0m\u001b[39;49m A new release of pip is available: \u001b[0m\u001b[31;49m25.0.1\u001b[0m\u001b[39;49m -> \u001b[0m\u001b[32;49m25.1.1\u001b[0m\n",
      "\u001b[1m[\u001b[0m\u001b[34;49mnotice\u001b[0m\u001b[1;39;49m]\u001b[0m\u001b[39;49m To update, run: \u001b[0m\u001b[32;49mpython -m pip install --upgrade pip\u001b[0m\n"
     ]
    }
   ],
   "source": [
    "!pip3 install -U language_tool_python"
   ]
  },
  {
   "cell_type": "code",
   "execution_count": 13,
   "metadata": {},
   "outputs": [],
   "source": [
    "import language_tool_python"
   ]
  },
  {
   "cell_type": "code",
   "execution_count": 16,
   "metadata": {},
   "outputs": [
    {
     "name": "stderr",
     "output_type": "stream",
     "text": [
      "Downloading LanguageTool latest: 100%|███████████████████████████████████████████████████████████████████████████████████████| 252M/252M [00:48<00:00, 5.18MB/s]\n",
      "Unzipping /tmp/tmpj97nbpci.zip to /home/edward/.cache/language_tool_python.\n",
      "Downloaded https://internal1.languagetool.org/snapshots/LanguageTool-latest-snapshot.zip to /home/edward/.cache/language_tool_python.\n"
     ]
    }
   ],
   "source": [
    "tool = language_tool_python.LanguageTool('ru')"
   ]
  },
  {
   "cell_type": "code",
   "execution_count": 17,
   "metadata": {},
   "outputs": [],
   "source": [
    "with open(\"data/lenta2018.txt\", encoding=\"utf-8\") as news_file: # Файл с новостями.\n",
    "    lenta_news = [n.split(\"-----\\n\")[1] for n in news_file.read().split(\"=====\\n\")[1:]]"
   ]
  },
  {
   "cell_type": "code",
   "execution_count": 19,
   "metadata": {},
   "outputs": [
    {
     "name": "stdout",
     "output_type": "stream",
     "text": [
      "[Match({'ruleId': 'MORFOLOGIK_RULE_RU_RU', 'message': 'Возможно найдена орфографическая ошибка.', 'replacements': [], 'offsetInContext': 43, 'context': '...краине имеется, видимо, полный комплект производственно-конструкторской документации на эту ракету, как и ведет...', 'offset': 476, 'errorLength': 31, 'category': 'TYPOS', 'ruleIssueType': 'misspelling', 'sentence': 'Испытанная Украиной первая собственная крылатая ракета создана КБ «Луч» в рамках ОКР «Нептун» на основе российской противокорабельной ракеты 3М24 комплекса Х-35У. Об этом пишет военный блог bmpd, который ведут сотрудники московского Центра анализа стратегий и технологий.«Напомним, что в советский период серийное производство ракет 3М24 (Х-35) планировалось организовать на Харьковском авиационном заводе (нынешнее ХГАПП), так что на Украине имеется, видимо, полный комплект производственно-конструкторской документации на эту ракету, как и ведется производство ее двигателя», — отметили эксперты.'}), Match({'ruleId': 'SENTENCE_WHITESPACE', 'message': 'Добавьте пробел между предложениями.', 'replacements': [' Разработчиком'], 'offsetInContext': 43, 'context': '...ство ее двигателя», — отметили эксперты.Разработчиком противокорабельной ракеты 3М24 комплекс...', 'offset': 598, 'errorLength': 13, 'category': 'TYPOGRAPHY', 'ruleIssueType': 'whitespace', 'sentence': 'Разработчиком противокорабельной ракеты 3М24 комплекса «Уран» выступает головное предприятие АО «Корпорация Тактическое ракетное вооружение» (бывшее ГНПЦ «Звезда-Стрела»), расположенное в подмосковном Королёве.'}), Match({'ruleId': 'SENTENCE_WHITESPACE', 'message': 'Добавьте пробел между предложениями.', 'replacements': [' Аналитики'], 'offsetInContext': 43, 'context': '..., расположенное в подмосковном Королёве.Аналитики, ссылаясь на имеющиеся фото- и видеомат...', 'offset': 808, 'errorLength': 9, 'category': 'TYPOGRAPHY', 'ruleIssueType': 'whitespace', 'sentence': 'Аналитики, ссылаясь на имеющиеся фото- и видеоматериалы тестов, полагают, что Украина провела бросковые испытания макета ракеты, у которого был отключен турбореактивный двигатель и отсутствовала система управления.'}), Match({'ruleId': 'MORFOLOGIK_RULE_RU_RU', 'message': 'Возможно найдена орфографическая ошибка.', 'replacements': ['фото', 'фоток', 'фотом', 'фотон', 'фотов'], 'offsetInContext': 43, 'context': '...ролёве.Аналитики, ссылаясь на имеющиеся фото- и видеоматериалы тестов, полагают, что ...', 'offset': 841, 'errorLength': 5, 'category': 'TYPOS', 'ruleIssueType': 'misspelling', 'sentence': 'Аналитики, ссылаясь на имеющиеся фото- и видеоматериалы тестов, полагают, что Украина провела бросковые испытания макета ракеты, у которого был отключен турбореактивный двигатель и отсутствовала система управления.'}), Match({'ruleId': 'SENTENCE_WHITESPACE', 'message': 'Добавьте пробел между предложениями.', 'replacements': [' По'], 'offsetInContext': 43, 'context': '...тель и отсутствовала система управления.По мнению экспертов, основной проблемой Ук...', 'offset': 1022, 'errorLength': 2, 'category': 'TYPOGRAPHY', 'ruleIssueType': 'whitespace', 'sentence': 'По мнению экспертов, основной проблемой Украины при разработке «Нептуна» является «создание системы управления и в первую очередь активной радиолокационной головки самонаведения, компетенции в чем у украинских предприятий отсутствуют практически полностью».'}), Match({'ruleId': 'MORFOLOGIK_RULE_RU_RU', 'message': 'Возможно найдена орфографическая ошибка.', 'replacements': ['Ради оникс', 'Радион икс'], 'offsetInContext': 43, 'context': '...орядке занимается киевское частное ООО «Радионикс». Также новая ракета должна получить си...', 'offset': 1398, 'errorLength': 9, 'category': 'TYPOS', 'ruleIssueType': 'misspelling', 'sentence': 'По данным bmpd, в настоящее время разработкой подобных систем в инициативном порядке занимается киевское частное ООО «Радионикс».'}), Match({'ruleId': 'MORFOLOGIK_RULE_RU_RU', 'message': 'Возможно найдена орфографическая ошибка.', 'replacements': [], 'offsetInContext': 43, 'context': '...же новая ракета должна получить систему инерциально-спутниковой коррекции с использованием приемников Г...', 'offset': 1453, 'errorLength': 23, 'category': 'TYPOS', 'ruleIssueType': 'misspelling', 'sentence': 'Также новая ракета должна получить систему инерциально-спутниковой коррекции с использованием приемников ГЛОНАСС и GPS, для чего, вероятно, будет «использоваться коммерчески доступная аппаратура американского производства».'}), Match({'ruleId': 'SENTENCE_WHITESPACE', 'message': 'Добавьте пробел между предложениями.', 'replacements': [' Материалы'], 'offsetInContext': 43, 'context': '... аппаратура американского производства».Материалы по теме00:02 — 30 январяРусская смертьЗ...', 'offset': 1633, 'errorLength': 9, 'category': 'TYPOGRAPHY', 'ruleIssueType': 'whitespace', 'sentence': 'Материалы по теме00:02 — 30 январяРусская смертьЗачем Россия возрождает сверхзвуковой ракетоносец Ту-160Максимальная дальность стрельбы ракеты «Нептун» составит 280 километров, комплекс планируется к созданию в вариантах наземного, корабельного и авиационного базирования, отмечает bmpd.'}), Match({'ruleId': 'MORFOLOGIK_RULE_RU_RU', 'message': 'Возможно найдена орфографическая ошибка.', 'replacements': ['января Русская'], 'offsetInContext': 43, 'context': '...оизводства».Материалы по теме00:02 — 30 январяРусская смертьЗачем Россия возрождает сверхзвук...', 'offset': 1661, 'errorLength': 13, 'category': 'TYPOS', 'ruleIssueType': 'misspelling', 'sentence': 'Материалы по теме00:02 — 30 январяРусская смертьЗачем Россия возрождает сверхзвуковой ракетоносец Ту-160Максимальная дальность стрельбы ракеты «Нептун» составит 280 километров, комплекс планируется к созданию в вариантах наземного, корабельного и авиационного базирования, отмечает bmpd.'}), Match({'ruleId': 'MORFOLOGIK_RULE_RU_RU', 'message': 'Возможно найдена орфографическая ошибка.', 'replacements': ['смерть Зачем'], 'offsetInContext': 43, 'context': '...териалы по теме00:02 — 30 январяРусская смертьЗачем Россия возрождает сверхзвуковой ракетон...', 'offset': 1675, 'errorLength': 11, 'category': 'TYPOS', 'ruleIssueType': 'misspelling', 'sentence': 'Материалы по теме00:02 — 30 январяРусская смертьЗачем Россия возрождает сверхзвуковой ракетоносец Ту-160Максимальная дальность стрельбы ракеты «Нептун» составит 280 километров, комплекс планируется к созданию в вариантах наземного, корабельного и авиационного базирования, отмечает bmpd.'}), Match({'ruleId': 'SENTENCE_WHITESPACE', 'message': 'Добавьте пробел между предложениями.', 'replacements': [' Первые'], 'offsetInContext': 43, 'context': '...ание будет уделяться наземному варианту.Первые испытания собственной крылатой ракеты У...', 'offset': 1989, 'errorLength': 6, 'category': 'TYPOGRAPHY', 'ruleIssueType': 'whitespace', 'sentence': 'Первые испытания собственной крылатой ракеты Украина провела 30 января.'})]\n",
      "[Match({'ruleId': 'MORFOLOGIK_RULE_RU_RU', 'message': 'Возможно найдена орфографическая ошибка.', 'replacements': [], 'offsetInContext': 43, 'context': '...афию с молодыми людьми, присевшими, как львы-стражи, на корточки на опорные столбы ворот. Ю...', 'offset': 132, 'errorLength': 11, 'category': 'TYPOS', 'ruleIssueType': 'misspelling', 'sentence': 'Посетители ресурса оценили фотографию с молодыми людьми, присевшими, как львы-стражи, на корточки на опорные столбы ворот.'}), Match({'ruleId': 'SENTENCE_WHITESPACE', 'message': 'Добавьте пробел между предложениями.', 'replacements': [' Разместивший'], 'offsetInContext': 43, 'context': '...орот. Юзеры вывели снимок в топ ресурса.Разместивший фото пользователь с ником GAZAYOUTH93X ...', 'offset': 216, 'errorLength': 12, 'category': 'TYPOGRAPHY', 'ruleIssueType': 'whitespace', 'sentence': 'Разместивший фото пользователь с ником GAZAYOUTH93X назвал композицию «Дмитрий и Анатолий: привратники и стражи Славатара».«Молитесь, чтобы вам удалось пройти через адидассассинов!»'}), Match({'ruleId': 'MORFOLOGIK_RULE_RU_RU', 'message': 'Возможно найдена орфографическая ошибка.', 'replacements': ['Сл аватара', 'Слав атара', 'Слава тара'], 'offsetInContext': 43, 'context': '...митрий и Анатолий: привратники и стражи Славатара».«Молитесь, чтобы вам удалось пройти че...', 'offset': 328, 'errorLength': 9, 'category': 'TYPOS', 'ruleIssueType': 'misspelling', 'sentence': 'Разместивший фото пользователь с ником GAZAYOUTH93X назвал композицию «Дмитрий и Анатолий: привратники и стражи Славатара».«Молитесь, чтобы вам удалось пройти через адидассассинов!»'}), Match({'ruleId': 'MORFOLOGIK_RULE_RU_RU', 'message': 'Возможно найдена орфографическая ошибка.', 'replacements': [], 'offsetInContext': 43, 'context': '...олитесь, чтобы вам удалось пройти через адидассассинов!» — шутит joekillsshit, намекая на сюже...', 'offset': 381, 'errorLength': 14, 'category': 'TYPOS', 'ruleIssueType': 'misspelling', 'sentence': 'Разместивший фото пользователь с ником GAZAYOUTH93X назвал композицию «Дмитрий и Анатолий: привратники и стражи Славатара».«Молитесь, чтобы вам удалось пройти через адидассассинов!»'}), Match({'ruleId': 'SENTENCE_WHITESPACE', 'message': 'Добавьте пробел между предложениями.', 'replacements': [' Пользователи'], 'offsetInContext': 43, 'context': '... намекая на сюжет игры Assassin’s Creed.Пользователи иронизируют, что рады, наконец, увидеть...', 'offset': 459, 'errorLength': 12, 'category': 'TYPOGRAPHY', 'ruleIssueType': 'whitespace', 'sentence': 'Пользователи иронизируют, что рады, наконец, увидеть, как выглядят «древние славяне» из города Славатар.'}), Match({'ruleId': 'MORFOLOGIK_RULE_RU_RU', 'message': 'Возможно найдена орфографическая ошибка.', 'replacements': ['Славута', 'Сл аватар', 'Слав атар', 'Слава тар'], 'offsetInContext': 43, 'context': '...ак выглядят «древние славяне» из города Славатар.Материалы по теме00:05 — 21 января 2017...', 'offset': 554, 'errorLength': 8, 'category': 'TYPOS', 'ruleIssueType': 'misspelling', 'sentence': 'Пользователи иронизируют, что рады, наконец, увидеть, как выглядят «древние славяне» из города Славатар.'}), Match({'ruleId': 'SENTENCE_WHITESPACE', 'message': 'Добавьте пробел между предложениями.', 'replacements': [' Материалы'], 'offsetInContext': 43, 'context': '...ят «древние славяне» из города Славатар.Материалы по теме00:05 — 21 января 2017«Пацаны во...', 'offset': 563, 'errorLength': 9, 'category': 'TYPOGRAPHY', 'ruleIssueType': 'whitespace', 'sentence': 'Материалы по теме00:05 — 21 января 2017«Пацаны вообще ребята»Как русские гопники покорили интернет и научили Запад сидеть на кортахОднажды повстречавшиеся с гопниками из России комментаторы отмечают их крутой нрав и просят посоветовать, как защититься от них.'}), Match({'ruleId': 'MORFOLOGIK_RULE_RU_RU', 'message': 'Возможно найдена орфографическая ошибка.', 'replacements': ['кортах Однажды'], 'offsetInContext': 43, 'context': '...рили интернет и научили Запад сидеть на кортахОднажды повстречавшиеся с гопниками из России к...', 'offset': 688, 'errorLength': 13, 'category': 'TYPOS', 'ruleIssueType': 'misspelling', 'sentence': 'Материалы по теме00:05 — 21 января 2017«Пацаны вообще ребята»Как русские гопники покорили интернет и научили Запад сидеть на кортахОднажды повстречавшиеся с гопниками из России комментаторы отмечают их крутой нрав и просят посоветовать, как защититься от них.'}), Match({'ruleId': 'Many_PNN', 'message': 'Загруженность предложения местоимениями.', 'replacements': [], 'offsetInContext': 43, 'context': '...к защититься от них. «Каждый раз, когда я пытался пройти мимо них, я в считанные секунды становился недееспособным, потому что они пинали меня до смерти, крича \"CYKA *** !\" снова и с...', 'offset': 842, 'errorLength': 102, 'category': 'STYLE', 'ruleIssueType': 'uncategorized', 'sentence': '«Каждый раз, когда я пытался пройти мимо них, я в считанные секунды становился недееспособным, потому что они пинали меня до смерти, крича \"CYKA *** !\" снова и снова», — пишет ALoyalRenegade.'}), Match({'ruleId': 'SENTENCE_WHITESPACE', 'message': 'Добавьте пробел между предложениями.', 'replacements': [' Знатоки'], 'offsetInContext': 43, 'context': '... снова и снова», — пишет ALoyalRenegade.Знатоки культуры обитателей российских дворов т...', 'offset': 1014, 'errorLength': 7, 'category': 'TYPOGRAPHY', 'ruleIssueType': 'whitespace', 'sentence': 'Знатоки культуры обитателей российских дворов также продемонстрировали знание характерного жаргона, некоторые матерились по-русски, используя латиницу.'}), Match({'ruleId': 'SENTENCE_WHITESPACE', 'message': 'Добавьте пробел между предложениями.', 'replacements': [' Культура'], 'offsetInContext': 43, 'context': '...атерились по-русски, используя латиницу.Культура русских гопников обрела популярность в ...', 'offset': 1165, 'errorLength': 8, 'category': 'TYPOGRAPHY', 'ruleIssueType': 'whitespace', 'sentence': 'Культура русских гопников обрела популярность в сети несколько лет назад.'}), Match({'ruleId': 'SENTENCE_WHITESPACE', 'message': 'Добавьте пробел между предложениями.', 'replacements': [' В'], 'offsetInContext': 43, 'context': '...емонстрирует умение сидеть на корточках.В январе один из самых популярных YouTube...', 'offset': 1421, 'errorLength': 1, 'category': 'TYPOGRAPHY', 'ruleIssueType': 'whitespace', 'sentence': 'В январе один из самых популярных YouTube-блогеров PewDiePie также показал владение русским матом, прокомментировав таким образом новости.'})]\n",
      "[Match({'ruleId': 'SENTENCE_WHITESPACE', 'message': 'Добавьте пробел между предложениями.', 'replacements': [' В'], 'offsetInContext': 43, 'context': '... мусоровозом. Об этом сообщает NBC News.В результате инцидента погиб один человек...', 'offset': 152, 'errorLength': 1, 'category': 'TYPOGRAPHY', 'ruleIssueType': 'whitespace', 'sentence': 'В результате инцидента погиб один человек, еще один получил серьезные травмы.'}), Match({'ruleId': 'SENTENCE_WHITESPACE', 'message': 'Добавьте пробел между предложениями.', 'replacements': [' Ехавший'], 'offsetInContext': 43, 'context': '...ождающего их персонала пострадавших нет.Ехавший вместе с женой и сыном в одном из перед...', 'offset': 322, 'errorLength': 7, 'category': 'TYPOGRAPHY', 'ruleIssueType': 'whitespace', 'sentence': 'Ехавший вместе с женой и сыном в одном из передних вагонов сенатор от штата Аризона Джефф Флейк рассказал журналистам, что почувствовал сильный удар, после чего побежал оказывать помощь раненому.'}), Match({'ruleId': 'MORFOLOGIK_RULE_RU_RU', 'message': 'Возможно найдена орфографическая ошибка.', 'replacements': ['Блейк'], 'offsetInContext': 43, 'context': '... вагонов сенатор от штата Аризона Джефф Флейк рассказал журналистам, что почувствовал...', 'offset': 412, 'errorLength': 5, 'category': 'TYPOS', 'ruleIssueType': 'misspelling', 'sentence': 'Ехавший вместе с женой и сыном в одном из передних вагонов сенатор от штата Аризона Джефф Флейк рассказал журналистам, что почувствовал сильный удар, после чего побежал оказывать помощь раненому.'}), Match({'ruleId': 'SENTENCE_WHITESPACE', 'message': 'Добавьте пробел между предложениями.', 'replacements': [' Президента'], 'offsetInContext': 43, 'context': '...ия первый вагон состава сошел с рельсов.Президента США Дональда Трампа информировали о про...', 'offset': 590, 'errorLength': 10, 'category': 'TYPOGRAPHY', 'ruleIssueType': 'whitespace', 'sentence': 'Президента США Дональда Трампа информировали о происшествии.18 декабря поезд, ехавший из Портленда в Сиэтл, на скорости около 130 километров в час упал с моста на шоссе.'})]\n",
      "[Match({'ruleId': 'MORFOLOGIK_RULE_RU_RU', 'message': 'Возможно найдена орфографическая ошибка.', 'replacements': [], 'offsetInContext': 43, 'context': '... первый бордель, который сдает напрокат секс-куклы. Об этом сообщает издание The Local.Кли...', 'offset': 59, 'errorLength': 10, 'category': 'TYPOS', 'ruleIssueType': 'misspelling', 'sentence': 'Во Франции открылся первый бордель, который сдает напрокат секс-куклы.'}), Match({'ruleId': 'SENTENCE_WHITESPACE', 'message': 'Добавьте пробел между предложениями.', 'replacements': [' Клиенты'], 'offsetInContext': 43, 'context': '...клы. Об этом сообщает издание The Local.Клиенты заведения могут взять напрокат одну из ...', 'offset': 106, 'errorLength': 7, 'category': 'TYPOGRAPHY', 'ruleIssueType': 'whitespace', 'sentence': 'Клиенты заведения могут взять напрокат одну из трех кукол.'}), Match({'ruleId': 'SENTENCE_WHITESPACE', 'message': 'Добавьте пробел между предложениями.', 'replacements': [' Материалы'], 'offsetInContext': 43, 'context': '...но получить шлем виртуальной реальности.Материалы по теме00:14 —  9 декабря 2016Макдоналд...', 'offset': 363, 'errorLength': 9, 'category': 'TYPOGRAPHY', 'ruleIssueType': 'whitespace', 'sentence': 'Материалы по теме00:14 —  9 декабря 2016Макдоналдс секс-индустрииЗачем лондонскому кафе эротические роботыИздание отмечает, что заведение не афиширует своего адреса.'}), Match({'ruleId': 'WHITESPACE_RULE', 'message': 'Повтор пробела', 'replacements': [' '], 'offsetInContext': 43, 'context': '...ьной реальности.Материалы по теме00:14 —  9 декабря 2016Макдоналдс секс-индустрииЗ...', 'offset': 387, 'errorLength': 2, 'category': 'TYPOGRAPHY', 'ruleIssueType': 'whitespace', 'sentence': 'Материалы по теме00:14 —  9 декабря 2016Макдоналдс секс-индустрииЗачем лондонскому кафе эротические роботыИздание отмечает, что заведение не афиширует своего адреса.'}), Match({'ruleId': 'MORFOLOGIK_RULE_RU_RU', 'message': 'Возможно найдена орфографическая ошибка.', 'replacements': [], 'offsetInContext': 43, 'context': '...о теме00:14 —  9 декабря 2016Макдоналдс секс-индустрииЗачем лондонскому кафе эротические роботыИзда...', 'offset': 414, 'errorLength': 19, 'category': 'TYPOS', 'ruleIssueType': 'misspelling', 'sentence': 'Материалы по теме00:14 —  9 декабря 2016Макдоналдс секс-индустрииЗачем лондонскому кафе эротические роботыИздание отмечает, что заведение не афиширует своего адреса.'}), Match({'ruleId': 'MORFOLOGIK_RULE_RU_RU', 'message': 'Возможно найдена орфографическая ошибка.', 'replacements': ['роботы Издание'], 'offsetInContext': 43, 'context': '...стрииЗачем лондонскому кафе эротические роботыИздание отмечает, что заведение не афиширует св...', 'offset': 463, 'errorLength': 13, 'category': 'TYPOS', 'ruleIssueType': 'misspelling', 'sentence': 'Материалы по теме00:14 —  9 декабря 2016Макдоналдс секс-индустрииЗачем лондонскому кафе эротические роботыИздание отмечает, что заведение не афиширует своего адреса.'}), Match({'ruleId': 'SENTENCE_WHITESPACE', 'message': 'Добавьте пробел между предложениями.', 'replacements': [' В'], 'offsetInContext': 43, 'context': '...можно узнать только после оплаты заказа.В 2016 году во Франции запретили оплату с...', 'offset': 677, 'errorLength': 1, 'category': 'TYPOGRAPHY', 'ruleIssueType': 'whitespace', 'sentence': 'В 2016 году во Франции запретили оплату секс-услуг, однако аренда секс-кукол не нарушает закон.'}), Match({'ruleId': 'MORFOLOGIK_RULE_RU_RU', 'message': 'Возможно найдена орфографическая ошибка.', 'replacements': [], 'offsetInContext': 43, 'context': '...В 2016 году во Франции запретили оплату секс-услуг, однако аренда секс-кукол не нарушает з...', 'offset': 717, 'errorLength': 10, 'category': 'TYPOS', 'ruleIssueType': 'misspelling', 'sentence': 'В 2016 году во Франции запретили оплату секс-услуг, однако аренда секс-кукол не нарушает закон.'}), Match({'ruleId': 'MORFOLOGIK_RULE_RU_RU', 'message': 'Возможно найдена орфографическая ошибка.', 'replacements': [], 'offsetInContext': 43, 'context': '...ретили оплату секс-услуг, однако аренда секс-кукол не нарушает закон.В сентябре 2017 года ...', 'offset': 743, 'errorLength': 10, 'category': 'TYPOS', 'ruleIssueType': 'misspelling', 'sentence': 'В 2016 году во Франции запретили оплату секс-услуг, однако аренда секс-кукол не нарушает закон.'}), Match({'ruleId': 'SENTENCE_WHITESPACE', 'message': 'Добавьте пробел между предложениями.', 'replacements': [' В'], 'offsetInContext': 43, 'context': '...ако аренда секс-кукол не нарушает закон.В сентябре 2017 года сообщалось, что в Ки...', 'offset': 772, 'errorLength': 1, 'category': 'TYPOGRAPHY', 'ruleIssueType': 'whitespace', 'sentence': 'В сентябре 2017 года сообщалось, что в Китае появилось мобильное приложение, которое позволяло брать секс-куклы напрокат.'}), Match({'ruleId': 'MORFOLOGIK_RULE_RU_RU', 'message': 'Возможно найдена орфографическая ошибка.', 'replacements': [], 'offsetInContext': 43, 'context': '...ное приложение, которое позволяло брать секс-куклы напрокат. Сервис проработал два дня, а ...', 'offset': 873, 'errorLength': 10, 'category': 'TYPOS', 'ruleIssueType': 'misspelling', 'sentence': 'В сентябре 2017 года сообщалось, что в Китае появилось мобильное приложение, которое позволяло брать секс-куклы напрокат.'})]\n",
      "[Match({'ruleId': 'SENTENCE_WHITESPACE', 'message': 'Добавьте пробел между предложениями.', 'replacements': [' Данный'], 'offsetInContext': 43, 'context': '...го центра изучения общественного мнения.Данный показатель растет с декабря — тогда о т...', 'offset': 153, 'errorLength': 6, 'category': 'TYPOGRAPHY', 'ruleIssueType': 'whitespace', 'sentence': 'Данный показатель растет с декабря — тогда о твердом намерении проголосовать заявляли 63 процента россиян.'}), Match({'ruleId': 'SENTENCE_WHITESPACE', 'message': 'Добавьте пробел между предложениями.', 'replacements': [' Согласно'], 'offsetInContext': 43, 'context': '...стки, 11 процентов пока не определились.Согласно результатам исследования, за действующе...', 'offset': 402, 'errorLength': 8, 'category': 'TYPOGRAPHY', 'ruleIssueType': 'whitespace', 'sentence': 'Согласно результатам исследования, за действующего главу государства, самовыдвиженца Владимира Путина планируют отдать голоса 70 процентов избирателей.'}), Match({'ruleId': 'MORFOLOGIK_RULE_RU_RU', 'message': 'Возможно найдена орфографическая ошибка.', 'replacements': ['само выдвиженца'], 'offsetInContext': 43, 'context': '...ния, за действующего главу государства, самовыдвиженца Владимира Путина планируют отдать голос...', 'offset': 472, 'errorLength': 14, 'category': 'TYPOS', 'ruleIssueType': 'misspelling', 'sentence': 'Согласно результатам исследования, за действующего главу государства, самовыдвиженца Владимира Путина планируют отдать голоса 70 процентов избирателей.'}), Match({'ruleId': 'Num_plus_Noun', 'message': 'Существительное с дробным числительным должно употребляться в единственном числе родительного падежа (например 35,5 процента), а не во множественном (35,5 процентов): «5,9 процента»', 'replacements': ['5,9 процента'], 'offsetInContext': 43, 'context': '...ер ЛДПР Владимир Жириновский импонирует 5,9 процентам россиян. Если бы выборы проходили в бли...', 'offset': 672, 'errorLength': 13, 'category': 'STYLE', 'ruleIssueType': 'uncategorized', 'sentence': 'За кандидата от КПРФ Павла Грудинина планируют проголосовать 7,2 процента, лидер ЛДПР Владимир Жириновский импонирует 5,9 процентам россиян.'}), Match({'ruleId': 'SENTENCE_WHITESPACE', 'message': 'Добавьте пробел между предложениями.', 'replacements': [' Политолог'], 'offsetInContext': 43, 'context': '... бы менее чем по одному проценту каждый.Политолог Дмитрий Гусев пояснил агентству, что ре...', 'offset': 859, 'errorLength': 9, 'category': 'TYPOGRAPHY', 'ruleIssueType': 'whitespace', 'sentence': 'Политолог Дмитрий Гусев пояснил агентству, что рейтинг Путина в течение месяца колебался в пределах от 69,9 до почти 75 процентов.'}), Match({'ruleId': 'kosvennaja_rech', 'message': 'Косвенная речь в кавычки не берётся.', 'replacements': [], 'offsetInContext': 43, 'context': '...ляется самым важным, в отличие от того, что «выборы становятся все более и более интересными и декларируемая явка растет». Его коллега Олег Матвейчев обратил вни...', 'offset': 1078, 'errorLength': 81, 'category': 'STYLE', 'ruleIssueType': 'uncategorized', 'sentence': 'При этом он отметил, что данный показатель не является самым важным, в отличие от того, что «выборы становятся все более и более интересными и декларируемая явка растет».'}), Match({'ruleId': 'MORFOLOGIK_RULE_RU_RU', 'message': 'Возможно найдена орфографическая ошибка.', 'replacements': ['провластный', 'провластным', 'про властных'], 'offsetInContext': 43, 'context': '...имание, что январское падение рейтингов провластных политиков — социологически подтверждаем...', 'offset': 1238, 'errorLength': 11, 'category': 'TYPOS', 'ruleIssueType': 'misspelling', 'sentence': 'Его коллега Олег Матвейчев обратил внимание, что январское падение рейтингов провластных политиков — социологически подтверждаемая многолетним наблюдением норма, связанная с явлениями бытового характера — «в декабре люди радуются предстоящим праздникам, предвкушают долгие новогодние каникулы, в январе, напротив, впереди большая работа и долгая зима, деньги потрачены, а поводов для оптимизма не так много».'}), Match({'ruleId': 'SENTENCE_WHITESPACE', 'message': 'Добавьте пробел между предложениями.', 'replacements': [' Инициативный'], 'offsetInContext': 43, 'context': '..., а поводов для оптимизма не так много».Инициативный всероссийский опрос «ВЦИОМ-Спутник» был...', 'offset': 1569, 'errorLength': 12, 'category': 'TYPOGRAPHY', 'ruleIssueType': 'whitespace', 'sentence': 'Инициативный всероссийский опрос «ВЦИОМ-Спутник» был проведен 26-28 января 2018 года методом телефонного интервью среди трех тысяч респондентов.'}), Match({'ruleId': 'MORFOLOGIK_RULE_RU_RU', 'message': 'Возможно найдена орфографическая ошибка.', 'replacements': [], 'offsetInContext': 43, 'context': '...ного».Инициативный всероссийский опрос «ВЦИОМ-Спутник» был проведен 26-28 января 2018 года ме...', 'offset': 1603, 'errorLength': 13, 'category': 'TYPOS', 'ruleIssueType': 'misspelling', 'sentence': 'Инициативный всероссийский опрос «ВЦИОМ-Спутник» был проведен 26-28 января 2018 года методом телефонного интервью среди трех тысяч респондентов.'})]\n",
      "[Match({'ruleId': 'SENTENCE_WHITESPACE', 'message': 'Добавьте пробел между предложениями.', 'replacements': [' Ранее'], 'offsetInContext': 43, 'context': '...т» со ссылкой на осведомленный источник.Ранее работавший участковым Насонов открыл св...', 'offset': 160, 'errorLength': 5, 'category': 'TYPOGRAPHY', 'ruleIssueType': 'whitespace', 'sentence': 'Ранее работавший участковым Насонов открыл свое детективное агентство и, по версии силовиков, работал с нарушениями — передавал клиентам не подлежащую разглашению информацию о частной жизни третьих лиц, в частности — детализации телефонных переговоров.'}), Match({'ruleId': 'SENTENCE_WHITESPACE', 'message': 'Добавьте пробел между предложениями.', 'replacements': [' После'], 'offsetInContext': 43, 'context': '...нагрянули сотрудники управления «М» ФСБ.После обыска Насонов был задержан и отправлен...', 'offset': 477, 'errorLength': 5, 'category': 'TYPOGRAPHY', 'ruleIssueType': 'whitespace', 'sentence': 'После обыска Насонов был задержан и отправлен на допрос.'})]\n",
      "[Match({'ruleId': 'MORFOLOGIK_RULE_RU_RU', 'message': 'Возможно найдена орфографическая ошибка.', 'replacements': ['ну', 'рф', 'фу', 'цру', 'р', 'рц', 'рэ', 'рэу', 'у', 'шу', 'гру', 'рп', 'руб', 'чу', 'ау', 'ду', 'ху', 'лу', 'ре', 'рур', 'ёру', 'юру', 'ару', 'еру', 'фру', 'иру', 'ку', 'мру', 'му', 'ору', 'пру', 'яру', 'рт', 'рту', 'руд', 'руг', 'рух', 'рук', 'рун', 'рус', 'рут', 'ржу', 'рву', 'су', 'тру', 'ту', 'жру', 'вру', 'эру', 'Юру', 'Ару', 'Фру', 'Иру', 'р у'], 'offsetInContext': 43, 'context': '...сс-релизе, присланном в редакцию «Ленты.ру» в четверг, 1 февраля.Цель совместного ...', 'offset': 253, 'errorLength': 2, 'category': 'TYPOS', 'ruleIssueType': 'misspelling', 'sentence': 'Об этом сообщается в пресс-релизе, присланном в редакцию «Ленты.ру» в четверг, 1 февраля.'}), Match({'ruleId': 'SENTENCE_WHITESPACE', 'message': 'Добавьте пробел между предложениями.', 'replacements': [' Цель'], 'offsetInContext': 43, 'context': '...едакцию «Ленты.ру» в четверг, 1 февраля.Цель совместного предприятия — объединить во...', 'offset': 278, 'errorLength': 4, 'category': 'TYPOGRAPHY', 'ruleIssueType': 'whitespace', 'sentence': 'Цель совместного предприятия — объединить возможности ретейлера в области дистрибуции и маркетинговых услуг и торговые, технологические и логистические возможности платформы Farfetch.'}), Match({'ruleId': 'MORFOLOGIK_RULE_RU_RU', 'message': 'Возможно найдена орфографическая ошибка.', 'replacements': ['репеллера', 'репеллеру', 'ритейла', 'ротвейлера', 'Гевейлера', 'Гевейлеру'], 'offsetInContext': 43, 'context': '...го предприятия — объединить возможности ретейлера в области дистрибуции и маркетинговых у...', 'offset': 332, 'errorLength': 9, 'category': 'TYPOS', 'ruleIssueType': 'misspelling', 'sentence': 'Цель совместного предприятия — объединить возможности ретейлера в области дистрибуции и маркетинговых услуг и торговые, технологические и логистические возможности платформы Farfetch.'}), Match({'ruleId': 'MORFOLOGIK_RULE_RU_RU', 'message': 'Возможно найдена орфографическая ошибка.', 'replacements': ['Неве', 'Невеж', 'Невин', 'Невис', 'Нивин', 'Неве ш'], 'offsetInContext': 43, 'context': '...оке, так и во всем мире, — отметил Жозе Невеш, основатель и CEO Farfetch. — Если гово...', 'offset': 634, 'errorLength': 5, 'category': 'TYPOS', 'ruleIssueType': 'misspelling', 'sentence': '«Данное партнерство выгодно не только для Farfetch и Chalhoub Group, но, что самое главное, — для наших клиентов как на Ближнем Востоке, так и во всем мире, — отметил Жозе Невеш, основатель и CEO Farfetch.'}), Match({'ruleId': 'SENTENCE_WHITESPACE', 'message': 'Добавьте пробел между предложениями.', 'replacements': [' Как'], 'offsetInContext': 43, 'context': '...итие клиентского VIP сервиса в регионе».Как отметил Патрик Шалуб, CEO Chalhoub Grou...', 'offset': 1038, 'errorLength': 3, 'category': 'TYPOGRAPHY', 'ruleIssueType': 'whitespace', 'sentence': 'Как отметил Патрик Шалуб, CEO Chalhoub Group, клиентов теперь ожидает «доступ к не имеющему аналогов выбору товаров на глобальном уровне, быстрая доставка и клиентский сервис самого высокого уровня».'}), Match({'ruleId': 'MORFOLOGIK_RULE_RU_RU', 'message': 'Возможно найдена орфографическая ошибка.', 'replacements': ['Голуб', 'Палуб', 'Ша луб', 'Шалу б'], 'offsetInContext': 43, 'context': '...P сервиса в регионе».Как отметил Патрик Шалуб, CEO Chalhoub Group, клиентов теперь ож...', 'offset': 1057, 'errorLength': 5, 'category': 'TYPOS', 'ruleIssueType': 'misspelling', 'sentence': 'Как отметил Патрик Шалуб, CEO Chalhoub Group, клиентов теперь ожидает «доступ к не имеющему аналогов выбору товаров на глобальном уровне, быстрая доставка и клиентский сервис самого высокого уровня».'}), Match({'ruleId': 'SENTENCE_WHITESPACE', 'message': 'Добавьте пробел между предложениями.', 'replacements': [' Материалы'], 'offsetInContext': 43, 'context': '...иентский сервис самого высокого уровня».Материалы по теме13:19 — 19 апреля 2016«Не бойтес...', 'offset': 1237, 'errorLength': 9, 'category': 'TYPOGRAPHY', 'ruleIssueType': 'whitespace', 'sentence': 'Материалы по теме13:19 — 19 апреля 2016«Не бойтесь расплачиваться в интернете картой»Глава Farfetch Жозе Невеш: почему не стоит смотреть на цены при выборе вещейКомпания Farfetch основана в 2008 году Жозе Невешем.'}), Match({'ruleId': 'MORFOLOGIK_RULE_RU_RU', 'message': 'Возможно найдена орфографическая ошибка.', 'replacements': ['Неве', 'Невеж', 'Невин', 'Невис', 'Нивин', 'Неве ш'], 'offsetInContext': 43, 'context': '... в интернете картой»Глава Farfetch Жозе Невеш: почему не стоит смотреть на цены при в...', 'offset': 1342, 'errorLength': 5, 'category': 'TYPOS', 'ruleIssueType': 'misspelling', 'sentence': 'Материалы по теме13:19 — 19 апреля 2016«Не бойтесь расплачиваться в интернете картой»Глава Farfetch Жозе Невеш: почему не стоит смотреть на цены при выборе вещейКомпания Farfetch основана в 2008 году Жозе Невешем.'}), Match({'ruleId': 'MORFOLOGIK_RULE_RU_RU', 'message': 'Возможно найдена орфографическая ошибка.', 'replacements': ['вещей Компания'], 'offsetInContext': 43, 'context': '...му не стоит смотреть на цены при выборе вещейКомпания Farfetch основана в 2008 году Жозе Неве...', 'offset': 1393, 'errorLength': 13, 'category': 'TYPOS', 'ruleIssueType': 'misspelling', 'sentence': 'Материалы по теме13:19 — 19 апреля 2016«Не бойтесь расплачиваться в интернете картой»Глава Farfetch Жозе Невеш: почему не стоит смотреть на цены при выборе вещейКомпания Farfetch основана в 2008 году Жозе Невешем.'}), Match({'ruleId': 'MORFOLOGIK_RULE_RU_RU', 'message': 'Возможно найдена орфографическая ошибка.', 'replacements': ['Бившем', 'Цивилем', 'Деверем', 'Девшем', 'Дивившем', 'Дивящем', 'Дивящим', 'Евшем', 'Евшим', 'Фетишем', 'Финишем', 'Левеем', 'Леверием', 'Левевшем', 'Левием', 'Ливерием', 'Лившем', 'Лявизям', 'Мякишем', 'Мявшем', 'Невелем', 'Неверием', 'Невидим', 'Обвешим', 'Певшем', 'Пившем', 'Ревенём', 'Ревенем', 'Ревеням', 'Ревевшем', 'Ревилем', 'Ревилием', 'Ревилям', 'Севшем', 'Сивашем', 'Сивеем', 'Сивевшем', 'Уевшем', 'Живейшем', 'Живившем', 'Живящем', 'Живящим', 'Жившем', 'Вешим', 'Вившем', 'Вывешим', 'Шевелим', 'Шившем', 'Этвешем', 'Девелем', 'Девелям', 'Девишев', 'Девяшин', 'Гевелем', 'Гевелям', 'Кивишев', 'Левичем', 'Немешев', 'Немешин', 'Ненишев', 'Ненишин', 'Неничем', 'Непелем', 'Непелям', 'Неведин', 'Невекин', 'Невелев', 'Невежам', 'Невежей', 'Невежи', 'Невежин', 'Невине', 'Невиным', 'Невисе', 'Невисом', 'Невижин', 'Невским', 'Никешин', 'Никитием', 'Никишев', 'Никишин', 'Нимишев', 'Нинелям', 'Нитишев', 'Нивине', 'Нивиным', 'Нувелем', 'Нувелям', 'Певенем', 'Певеням', 'Пивенем', 'Пивеням', 'Ревелем', 'Ревелям', 'Ревишин', 'Ревичем', 'Ривелем', 'Ривелям', 'Тевяшев', 'Шевелем', 'Шевелям', 'Шевенем', 'Шевеням', 'Шевичем'], 'offsetInContext': 43, 'context': '...ания Farfetch основана в 2008 году Жозе Невешем. На сегодняшний день она осуществляет д...', 'offset': 1442, 'errorLength': 7, 'category': 'TYPOS', 'ruleIssueType': 'misspelling', 'sentence': 'Материалы по теме13:19 — 19 апреля 2016«Не бойтесь расплачиваться в интернете картой»Глава Farfetch Жозе Невеш: почему не стоит смотреть на цены при выборе вещейКомпания Farfetch основана в 2008 году Жозе Невешем.'}), Match({'ruleId': 'MORFOLOGIK_RULE_RU_RU', 'message': 'Возможно найдена орфографическая ошибка.', 'replacements': [], 'offsetInContext': 43, 'context': '...вляет доставку в более чем 190 стран, а бутики-партнеры Farfetch находятся в 40 странах. На пла...', 'offset': 1522, 'errorLength': 15, 'category': 'TYPOS', 'ruleIssueType': 'misspelling', 'sentence': 'На сегодняшний день она осуществляет доставку в более чем 190 стран, а бутики-партнеры Farfetch находятся в 40 странах.'}), Match({'ruleId': 'MORFOLOGIK_RULE_RU_RU', 'message': 'Возможно найдена орфографическая ошибка.', 'replacements': ['люкового', 'люксов ого'], 'offsetInContext': 43, 'context': '...тавлено более 2000 брендов, в том числе люксового сегмента. Представительство в России ко...', 'offset': 1629, 'errorLength': 9, 'category': 'TYPOS', 'ruleIssueType': 'misspelling', 'sentence': 'На платформе представлено более 2000 брендов, в том числе люксового сегмента.'}), Match({'ruleId': 'SENTENCE_WHITESPACE', 'message': 'Добавьте пробел между предложениями.', 'replacements': [' В'], 'offsetInContext': 43, 'context': '...ия открыла в середине декабря 2015 года.В августе 2017 года было объявлено, что ф...', 'offset': 1722, 'errorLength': 1, 'category': 'TYPOGRAPHY', 'ruleIssueType': 'whitespace', 'sentence': 'В августе 2017 года было объявлено, что французский модный дом Saint Laurent стал первым брендом, который воспользовался онлайн-платформой Farfetch в Китае.'}), Match({'ruleId': 'MORFOLOGIK_RULE_RU_RU', 'message': 'Возможно найдена орфографическая ошибка.', 'replacements': [], 'offsetInContext': 43, 'context': '... первым брендом, который воспользовался онлайн-платформой Farfetch в Китае. Площадка предложила в...', 'offset': 1843, 'errorLength': 17, 'category': 'TYPOS', 'ruleIssueType': 'misspelling', 'sentence': 'В августе 2017 года было объявлено, что французский модный дом Saint Laurent стал первым брендом, который воспользовался онлайн-платформой Farfetch в Китае.'}), Match({'ruleId': 'PREP_U_and_Noun', 'message': 'Предлог «из» предполагает употребление существительного в родительном падеже: «из бутикова» или «бутиков»', 'replacements': ['из бутикова', 'бутиков'], 'offsetInContext': 43, 'context': '...fetch в Китае. Площадка предложила вещи из бутиков Saint Laurent в Шанхае, Пекине и Гонкон...', 'offset': 1904, 'errorLength': 10, 'category': 'GRAMMAR', 'ruleIssueType': 'uncategorized', 'sentence': 'Площадка предложила вещи из бутиков Saint Laurent в Шанхае, Пекине и Гонконге, в этих городах с октября 2017 года стала доступна услуга доставки в течение 90 минут, уже реализованная в 10 мегаполисах мира.'})]\n",
      "[Match({'ruleId': 'MORFOLOGIK_RULE_RU_RU', 'message': 'Возможно найдена орфографическая ошибка.', 'replacements': ['Рос рыболовства'], 'offsetInContext': 43, 'context': '...бледенение. Об этом сообщается на сайте Росрыболовства.В ведомстве пояснили, что при теплой во...', 'offset': 136, 'errorLength': 14, 'category': 'TYPOS', 'ruleIssueType': 'misspelling', 'sentence': 'Об этом сообщается на сайте Росрыболовства.'}), Match({'ruleId': 'SENTENCE_WHITESPACE', 'message': 'Добавьте пробел между предложениями.', 'replacements': [' В'], 'offsetInContext': 43, 'context': '...этом сообщается на сайте Росрыболовства.В ведомстве пояснили, что при теплой воде...', 'offset': 151, 'errorLength': 1, 'category': 'TYPOGRAPHY', 'ruleIssueType': 'whitespace', 'sentence': 'В ведомстве пояснили, что при теплой воде и низкой температуре воздуха сильное испарение вызывает быстрое обледенение судов.'}), Match({'ruleId': 'MORFOLOGIK_RULE_RU_RU', 'message': 'Возможно найдена орфографическая ошибка.', 'replacements': ['Рос рыболовство'], 'offsetInContext': 43, 'context': '...бкалывали лед и смогли дойти до укрытий.Росрыболовство считает необходимым продолжить поиски, ...', 'offset': 405, 'errorLength': 14, 'category': 'TYPOS', 'ruleIssueType': 'misspelling', 'sentence': 'Росрыболовство считает необходимым продолжить поиски, несмотря на завершение активной фазы спасательной операции.'}), Match({'ruleId': 'SENTENCE_WHITESPACE', 'message': 'Добавьте пробел между предложениями.', 'replacements': [' Рыболовное'], 'offsetInContext': 43, 'context': '...ние активной фазы спасательной операции.Рыболовное судно «Восток» пропало у берегов Примор...', 'offset': 518, 'errorLength': 10, 'category': 'TYPOGRAPHY', 'ruleIssueType': 'whitespace', 'sentence': 'Рыболовное судно «Восток» пропало у берегов Приморья 25 января.'})]\n",
      "[Match({'ruleId': 'MORFOLOGIK_RULE_RU_RU', 'message': 'Возможно найдена орфографическая ошибка.', 'replacements': ['Гам боа'], 'offsetInContext': 43, 'context': '...ей школы рассказал, что учитель Мануэль Гамбоа (Manuel Gamboa) напоил его пивом. После...', 'offset': 261, 'errorLength': 6, 'category': 'TYPOS', 'ruleIssueType': 'misspelling', 'sentence': 'Об этом сообщает телеканал ABC News 13.17-летний ученик техасской средней школы рассказал, что учитель Мануэль Гамбоа (Manuel Gamboa) напоил его пивом.'}), Match({'ruleId': 'SENTENCE_WHITESPACE', 'message': 'Добавьте пробел между предложениями.', 'replacements': [' Фотографии'], 'offsetInContext': 43, 'context': '...ся с ним оральным сексом, пока тот спал.Фотографии, подтверждающие произошедшее, юноша наш...', 'offset': 432, 'errorLength': 10, 'category': 'TYPOGRAPHY', 'ruleIssueType': 'whitespace', 'sentence': 'Фотографии, подтверждающие произошедшее, юноша нашел у Гамбоа в телефоне, когда взял его, чтобы позвонить.'}), Match({'ruleId': 'MORFOLOGIK_RULE_RU_RU', 'message': 'Возможно найдена орфографическая ошибка.', 'replacements': ['Гам боа'], 'offsetInContext': 43, 'context': '...тверждающие произошедшее, юноша нашел у Гамбоа в телефоне, когда взял его, чтобы позво...', 'offset': 487, 'errorLength': 6, 'category': 'TYPOS', 'ruleIssueType': 'misspelling', 'sentence': 'Фотографии, подтверждающие произошедшее, юноша нашел у Гамбоа в телефоне, когда взял его, чтобы позвонить.'}), Match({'ruleId': 'MORFOLOGIK_RULE_RU_RU', 'message': 'Возможно найдена орфографическая ошибка.', 'replacements': ['Гам боа'], 'offsetInContext': 43, 'context': '...ускания. Он рассказал следователям, что Гамбоа был ему как наставник и помогал с домаш...', 'offset': 665, 'errorLength': 6, 'category': 'TYPOS', 'ruleIssueType': 'misspelling', 'sentence': 'Он рассказал следователям, что Гамбоа был ему как наставник и помогал с домашней работой, поскольку школьник совсем не владеет английским языком.'}), Match({'ruleId': 'SENTENCE_WHITESPACE', 'message': 'Добавьте пробел между предложениями.', 'replacements': [' В'], 'offsetInContext': 43, 'context': '...ник совсем не владеет английским языком.В местной больнице подтвердили, что образ...', 'offset': 779, 'errorLength': 1, 'category': 'TYPOGRAPHY', 'ruleIssueType': 'whitespace', 'sentence': 'В местной больнице подтвердили, что образцы ДНК, обнаруженные на пострадавшем, принадлежат учителю.'}), Match({'ruleId': 'SENTENCE_WHITESPACE', 'message': 'Добавьте пробел между предложениями.', 'replacements': [' Недавно'], 'offsetInContext': 43, 'context': '...отпустили под залог в 80 тысяч долларов.Недавно другой школьник в США похвастался сексо...', 'offset': 986, 'errorLength': 7, 'category': 'TYPOGRAPHY', 'ruleIssueType': 'whitespace', 'sentence': 'Недавно другой школьник в США похвастался сексом с учительницей.'})]\n",
      "[Match({'ruleId': 'MORFOLOGIK_RULE_RU_RU', 'message': 'Возможно найдена орфографическая ошибка.', 'replacements': ['подзащитная', 'водозащитная', 'зоозащитник'], 'offsetInContext': 13, 'context': 'Американская зоозащитная организация PETA («Люди за этичное обра...', 'offset': 13, 'errorLength': 11, 'category': 'TYPOS', 'ruleIssueType': 'misspelling', 'sentence': 'Американская зоозащитная организация PETA («Люди за этичное обращение с животными») предложила сделать черепашек-ниндзя веганами.'}), Match({'ruleId': 'MORFOLOGIK_RULE_RU_RU', 'message': 'Возможно найдена орфографическая ошибка.', 'replacements': [], 'offsetInContext': 43, 'context': '...ащение с животными») предложила сделать черепашек-ниндзя веганами. Об этом говорится в обращении...', 'offset': 103, 'errorLength': 16, 'category': 'TYPOS', 'ruleIssueType': 'misspelling', 'sentence': 'Американская зоозащитная организация PETA («Люди за этичное обращение с животными») предложила сделать черепашек-ниндзя веганами.'}), Match({'ruleId': 'MORFOLOGIK_RULE_RU_RU', 'message': 'Возможно найдена орфографическая ошибка.', 'replacements': ['бегунами', 'циганами', 'еганами', 'сёгунами', 'сегунами', 'тягунами', 'жиганами', 'ваганами', 'вагонами', 'ведунами', 'веганом', 'веранами', 'вещунами', 'вигонями', 'вилонами', 'вишанами', 'выгонами', 'зиганами', 'Аяганами', 'Беганами', 'Бегунами', 'Бигунами', 'Легунами', 'Лигунами', 'Мигунами', 'Пиганами', 'Пигунами', 'Жиганами', 'Жигунами', 'Зигунами', 'Шиганами', 'Чиганами', 'в еганами', 'вега нами', 'веган ами'], 'offsetInContext': 43, 'context': '...и») предложила сделать черепашек-ниндзя веганами. Об этом говорится в обращении в телека...', 'offset': 120, 'errorLength': 8, 'category': 'TYPOS', 'ruleIssueType': 'misspelling', 'sentence': 'Американская зоозащитная организация PETA («Люди за этичное обращение с животными») предложила сделать черепашек-ниндзя веганами.'}), Match({'ruleId': 'MORFOLOGIK_RULE_RU_RU', 'message': 'Возможно найдена орфографическая ошибка.', 'replacements': ['Мульт персонажам'], 'offsetInContext': 43, 'context': '...eon, опубликованном на сайте сообщества.Мультперсонажам, чьим любимым блюдом является пицца, пр...', 'offset': 220, 'errorLength': 15, 'category': 'TYPOS', 'ruleIssueType': 'misspelling', 'sentence': 'Мультперсонажам, чьим любимым блюдом является пицца, предложили вариант лакомства на безмолочной основе.'}), Match({'ruleId': 'MORFOLOGIK_RULE_RU_RU', 'message': 'Возможно найдена орфографическая ошибка.', 'replacements': ['беганскую', 'негуннскую', 'жиганскую', 'веронскую', 'виговскую', 'виханскую', 'вирганскую', 'шигонскую', 'Жиганскую', 'Шигонскую', 'веган скую'], 'offsetInContext': 43, 'context': '...олочной основе. «Современные дети любят веганскую пищу, так почему бы обновленным черепаш...', 'offset': 349, 'errorLength': 9, 'category': 'TYPOS', 'ruleIssueType': 'misspelling', 'sentence': '«Современные дети любят веганскую пищу, так почему бы обновленным черепашкам-ниндзя не любить ее?'}), Match({'ruleId': 'MORFOLOGIK_RULE_RU_RU', 'message': 'Возможно найдена орфографическая ошибка.', 'replacements': [], 'offsetInContext': 43, 'context': '...ганскую пищу, так почему бы обновленным черепашкам-ниндзя не любить ее? Веганская пицца очень поп...', 'offset': 391, 'errorLength': 17, 'category': 'TYPOS', 'ruleIssueType': 'misspelling', 'sentence': '«Современные дети любят веганскую пищу, так почему бы обновленным черепашкам-ниндзя не любить ее?'}), Match({'ruleId': 'MORFOLOGIK_RULE_RU_RU', 'message': 'Возможно найдена орфографическая ошибка.', 'replacements': ['Беганская', 'Негуннская', 'Жиганская', 'Шигонская', 'Веронская', 'Вежанская', 'Виговская', 'Вигурская', 'Виханская', 'Виконская', 'Вирганская', 'Витанская', 'Выгонская', 'Веган ская'], 'offsetInContext': 43, 'context': '...вленным черепашкам-ниндзя не любить ее? Веганская пицца очень популярна, она гораздо поле...', 'offset': 423, 'errorLength': 9, 'category': 'TYPOS', 'ruleIssueType': 'misspelling', 'sentence': 'Веганская пицца очень популярна, она гораздо полезнее и гораздо добрее по отношению к животным, чем старомодная пицца с молочным сыром.'}), Match({'ruleId': 'MORFOLOGIK_RULE_RU_RU', 'message': 'Возможно найдена орфографическая ошибка.', 'replacements': [], 'offsetInContext': 43, 'context': '...ерезапущенного культового мультсериала «Черепашки-ниндзя». Помимо этого, одна из главных героинь...', 'offset': 775, 'errorLength': 16, 'category': 'TYPOS', 'ruleIssueType': 'misspelling', 'sentence': 'По нашему мнению, это то, что должны поддерживать герои», — отметили зоозащитники.3 ноября 2017 года стало известно, что Nickelodeon использует чернокожих актеров для озвучки перезапущенного культового мультсериала «Черепашки-ниндзя».'}), Match({'ruleId': 'SENTENCE_WHITESPACE', 'message': 'Добавьте пробел между предложениями.', 'replacements': [' Приключения'], 'offsetInContext': 43, 'context': \"...й, Эйприл О'Нил, станет афроамериканкой.Приключения черепашек-ниндзя, придуманные Кевином И...\", 'offset': 889, 'errorLength': 11, 'category': 'TYPOGRAPHY', 'ruleIssueType': 'whitespace', 'sentence': 'Приключения черепашек-ниндзя, придуманные Кевином Истманом и Питером Лэйрдом, легли в основу шести полнометражных фильмов, многочисленных мультсериалов, телевизионных шоу и компьютерных игр.'}), Match({'ruleId': 'MORFOLOGIK_RULE_RU_RU', 'message': 'Возможно найдена орфографическая ошибка.', 'replacements': [], 'offsetInContext': 43, 'context': '...Нил, станет афроамериканкой.Приключения черепашек-ниндзя, придуманные Кевином Истманом и Питером...', 'offset': 901, 'errorLength': 16, 'category': 'TYPOS', 'ruleIssueType': 'misspelling', 'sentence': 'Приключения черепашек-ниндзя, придуманные Кевином Истманом и Питером Лэйрдом, легли в основу шести полнометражных фильмов, многочисленных мультсериалов, телевизионных шоу и компьютерных игр.'}), Match({'ruleId': 'MORFOLOGIK_RULE_RU_RU', 'message': 'Возможно найдена орфографическая ошибка.', 'replacements': ['Иостманом'], 'offsetInContext': 43, 'context': '...я черепашек-ниндзя, придуманные Кевином Истманом и Питером Лэйрдом, легли в основу шести...', 'offset': 939, 'errorLength': 8, 'category': 'TYPOS', 'ruleIssueType': 'misspelling', 'sentence': 'Приключения черепашек-ниндзя, придуманные Кевином Истманом и Питером Лэйрдом, легли в основу шести полнометражных фильмов, многочисленных мультсериалов, телевизионных шоу и компьютерных игр.'}), Match({'ruleId': 'MORFOLOGIK_RULE_RU_RU', 'message': 'Возможно найдена орфографическая ошибка.', 'replacements': ['Бердом', 'Гердом', 'Лэрдом', 'Рейдом', 'Сейедом', 'Эйром', 'Лейдам', 'Лейдою', 'Лейдой', 'Лейфридом', 'Лейном', 'Ленардом', 'Лером', 'Лертом'], 'offsetInContext': 43, 'context': '... придуманные Кевином Истманом и Питером Лэйрдом, легли в основу шести полнометражных фи...', 'offset': 958, 'errorLength': 7, 'category': 'TYPOS', 'ruleIssueType': 'misspelling', 'sentence': 'Приключения черепашек-ниндзя, придуманные Кевином Истманом и Питером Лэйрдом, легли в основу шести полнометражных фильмов, многочисленных мультсериалов, телевизионных шоу и компьютерных игр.'}), Match({'ruleId': 'MORFOLOGIK_RULE_RU_RU', 'message': 'Возможно найдена орфографическая ошибка.', 'replacements': ['мульт сериалов', 'мультсериал ов'], 'offsetInContext': 43, 'context': '... полнометражных фильмов, многочисленных мультсериалов, телевизионных шоу и компьютерных игр. ...', 'offset': 1027, 'errorLength': 13, 'category': 'TYPOS', 'ruleIssueType': 'misspelling', 'sentence': 'Приключения черепашек-ниндзя, придуманные Кевином Истманом и Питером Лэйрдом, легли в основу шести полнометражных фильмов, многочисленных мультсериалов, телевизионных шоу и компьютерных игр.'})]\n",
      "CPU times: user 93.5 ms, sys: 4.92 ms, total: 98.4 ms\n",
      "Wall time: 3.2 s\n"
     ]
    }
   ],
   "source": [
    "%%time\n",
    "for news in lenta_news[:10]:\n",
    "    matches = tool.check(news)\n",
    "    if len(matches) > 0:\n",
    "        print(matches)"
   ]
  },
  {
   "cell_type": "code",
   "execution_count": null,
   "metadata": {},
   "outputs": [],
   "source": []
  }
 ],
 "metadata": {
  "kernelspec": {
   "display_name": "Python 3 (ipykernel)",
   "language": "python",
   "name": "python3"
  },
  "language_info": {
   "codemirror_mode": {
    "name": "ipython",
    "version": 3
   },
   "file_extension": ".py",
   "mimetype": "text/x-python",
   "name": "python",
   "nbconvert_exporter": "python",
   "pygments_lexer": "ipython3",
   "version": "3.10.12"
  }
 },
 "nbformat": 4,
 "nbformat_minor": 4
}
